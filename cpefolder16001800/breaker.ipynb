{
 "cells": [
  {
   "cell_type": "code",
   "execution_count": 6,
   "metadata": {},
   "outputs": [
    {
     "name": "stdout",
     "output_type": "stream",
     "text": [
      "10 chunks created.\n"
     ]
    }
   ],
   "source": [
    "import pandas as pd\n",
    "\n",
    "input_file = 'merged_output_after2019.csv'\n",
    "output_prefix = 'chunk_'\n",
    "num_chunks = 10#CHANGE\n",
    "\n",
    "df = pd.read_csv(input_file)\n",
    "\n",
    "chunk_size = len(df) // num_chunks\n",
    "\n",
    "chunks = [df[i * chunk_size:(i + 1) * chunk_size] for i in range(num_chunks)]\n",
    "\n",
    "chunks[-1] = pd.concat([chunks[-1], df[num_chunks * chunk_size:]])\n",
    "\n",
    "for i, chunk in enumerate(chunks):\n",
    "    output_file = f'{output_prefix}{i+1}.csv'\n",
    "    chunk.to_csv(output_file, index=False)\n",
    "\n",
    "print(f'{num_chunks} chunks created.')\n"
   ]
  },
  {
   "cell_type": "code",
   "execution_count": null,
   "metadata": {},
   "outputs": [],
   "source": []
  }
 ],
 "metadata": {
  "kernelspec": {
   "display_name": "Python 3",
   "language": "python",
   "name": "python3"
  },
  "language_info": {
   "codemirror_mode": {
    "name": "ipython",
    "version": 3
   },
   "file_extension": ".py",
   "mimetype": "text/x-python",
   "name": "python",
   "nbconvert_exporter": "python",
   "pygments_lexer": "ipython3",
   "version": "3.10.12"
  }
 },
 "nbformat": 4,
 "nbformat_minor": 2
}
