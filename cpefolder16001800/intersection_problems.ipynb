{
 "cells": [
  {
   "cell_type": "code",
   "execution_count": 1,
   "metadata": {},
   "outputs": [],
   "source": [
    "import pandas as pd\n",
    "import numpy as np"
   ]
  },
  {
   "cell_type": "code",
   "execution_count": 2,
   "metadata": {},
   "outputs": [],
   "source": [
    "df=pd.read_csv('combined_qns_solved.csv')"
   ]
  },
  {
   "cell_type": "code",
   "execution_count": 3,
   "metadata": {},
   "outputs": [
    {
     "data": {
      "text/html": [
       "<div>\n",
       "<style scoped>\n",
       "    .dataframe tbody tr th:only-of-type {\n",
       "        vertical-align: middle;\n",
       "    }\n",
       "\n",
       "    .dataframe tbody tr th {\n",
       "        vertical-align: top;\n",
       "    }\n",
       "\n",
       "    .dataframe thead th {\n",
       "        text-align: right;\n",
       "    }\n",
       "</style>\n",
       "<table border=\"1\" class=\"dataframe\">\n",
       "  <thead>\n",
       "    <tr style=\"text-align: right;\">\n",
       "      <th></th>\n",
       "      <th>Handle</th>\n",
       "      <th>Max Rating_x</th>\n",
       "      <th>Result</th>\n",
       "      <th>Max Rating_y</th>\n",
       "      <th>Solved Problems</th>\n",
       "      <th>Problem Count</th>\n",
       "    </tr>\n",
       "  </thead>\n",
       "  <tbody>\n",
       "    <tr>\n",
       "      <th>0</th>\n",
       "      <td>SmolBrain</td>\n",
       "      <td>2422</td>\n",
       "      <td>Yes</td>\n",
       "      <td>2389</td>\n",
       "      <td>{(1509, 'C'), (1118, 'F1'), (846, 'F'), (1133,...</td>\n",
       "      <td>409</td>\n",
       "    </tr>\n",
       "    <tr>\n",
       "      <th>1</th>\n",
       "      <td>jucason_xu</td>\n",
       "      <td>2429</td>\n",
       "      <td>Yes</td>\n",
       "      <td>2429</td>\n",
       "      <td>{(81, 'B'), (915, 'C'), (1155, 'D'), (1036, 'C...</td>\n",
       "      <td>191</td>\n",
       "    </tr>\n",
       "    <tr>\n",
       "      <th>2</th>\n",
       "      <td>Valera_Grinenko</td>\n",
       "      <td>2403</td>\n",
       "      <td>Yes</td>\n",
       "      <td>2403</td>\n",
       "      <td>{(1509, 'C'), (630, 'I'), (1500, 'A'), (862, '...</td>\n",
       "      <td>580</td>\n",
       "    </tr>\n",
       "    <tr>\n",
       "      <th>3</th>\n",
       "      <td>yyyyxh329</td>\n",
       "      <td>2397</td>\n",
       "      <td>Yes</td>\n",
       "      <td>2315</td>\n",
       "      <td>{(1721, 'D'), (1777, 'C'), (1747, 'D'), (1738,...</td>\n",
       "      <td>8</td>\n",
       "    </tr>\n",
       "    <tr>\n",
       "      <th>4</th>\n",
       "      <td>ytkn</td>\n",
       "      <td>2572</td>\n",
       "      <td>Yes</td>\n",
       "      <td>2572</td>\n",
       "      <td>{(1421, 'D'), (1500, 'A'), (1434, 'B'), (1181,...</td>\n",
       "      <td>373</td>\n",
       "    </tr>\n",
       "  </tbody>\n",
       "</table>\n",
       "</div>"
      ],
      "text/plain": [
       "            Handle  Max Rating_x Result  Max Rating_y  \\\n",
       "0        SmolBrain          2422    Yes          2389   \n",
       "1       jucason_xu          2429    Yes          2429   \n",
       "2  Valera_Grinenko          2403    Yes          2403   \n",
       "3        yyyyxh329          2397    Yes          2315   \n",
       "4             ytkn          2572    Yes          2572   \n",
       "\n",
       "                                     Solved Problems  Problem Count  \n",
       "0  {(1509, 'C'), (1118, 'F1'), (846, 'F'), (1133,...            409  \n",
       "1  {(81, 'B'), (915, 'C'), (1155, 'D'), (1036, 'C...            191  \n",
       "2  {(1509, 'C'), (630, 'I'), (1500, 'A'), (862, '...            580  \n",
       "3  {(1721, 'D'), (1777, 'C'), (1747, 'D'), (1738,...              8  \n",
       "4  {(1421, 'D'), (1500, 'A'), (1434, 'B'), (1181,...            373  "
      ]
     },
     "execution_count": 3,
     "metadata": {},
     "output_type": "execute_result"
    }
   ],
   "source": [
    "df.head()"
   ]
  },
  {
   "cell_type": "code",
   "execution_count": 4,
   "metadata": {},
   "outputs": [
    {
     "data": {
      "text/plain": [
       "439"
      ]
     },
     "execution_count": 4,
     "metadata": {},
     "output_type": "execute_result"
    }
   ],
   "source": [
    "df.shape[0]"
   ]
  },
  {
   "cell_type": "code",
   "execution_count": 5,
   "metadata": {},
   "outputs": [],
   "source": [
    "df= df[df[\"Problem Count\"] != 0]\n"
   ]
  },
  {
   "cell_type": "code",
   "execution_count": 6,
   "metadata": {},
   "outputs": [
    {
     "data": {
      "text/plain": [
       "439"
      ]
     },
     "execution_count": 6,
     "metadata": {},
     "output_type": "execute_result"
    }
   ],
   "source": [
    "df.shape[0]"
   ]
  },
  {
   "cell_type": "code",
   "execution_count": 7,
   "metadata": {},
   "outputs": [
    {
     "name": "stdout",
     "output_type": "stream",
     "text": [
      "Problem (1870, 'D') has been solved 219 times.\n",
      "Problem (1879, 'D') has been solved 208 times.\n",
      "Problem (1864, 'D') has been solved 204 times.\n",
      "Problem (1861, 'D') has been solved 186 times.\n",
      "Problem (1810, 'D') has been solved 173 times.\n",
      "Problem (1779, 'D') has been solved 171 times.\n",
      "Problem (1856, 'E1') has been solved 170 times.\n",
      "Problem (1859, 'D') has been solved 169 times.\n",
      "Problem (1867, 'D') has been solved 168 times.\n",
      "Problem (1849, 'D') has been solved 168 times.\n"
     ]
    }
   ],
   "source": [
    "import ast\n",
    "from collections import Counter\n",
    "\n",
    "\n",
    "df['Solved Problems'] = df['Solved Problems'].apply(lambda x: ast.literal_eval(x))\n",
    "\n",
    "solved_problems = [problem for problems_list in df['Solved Problems'] for problem in problems_list]\n",
    "\n",
    "problem_counts = Counter(solved_problems)\n",
    "\n",
    "top_10_common_problems = problem_counts.most_common(10)\n",
    "\n",
    "for problem, count in top_10_common_problems:\n",
    "    print(f\"Problem {problem} has been solved {count} times.\")\n"
   ]
  },
  {
   "cell_type": "code",
   "execution_count": null,
   "metadata": {},
   "outputs": [],
   "source": []
  }
 ],
 "metadata": {
  "kernelspec": {
   "display_name": "Python 3",
   "language": "python",
   "name": "python3"
  },
  "language_info": {
   "codemirror_mode": {
    "name": "ipython",
    "version": 3
   },
   "file_extension": ".py",
   "mimetype": "text/x-python",
   "name": "python",
   "nbconvert_exporter": "python",
   "pygments_lexer": "ipython3",
   "version": "3.10.12"
  }
 },
 "nbformat": 4,
 "nbformat_minor": 2
}
