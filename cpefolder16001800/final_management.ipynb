{
 "cells": [
  {
   "cell_type": "code",
   "execution_count": 1,
   "metadata": {},
   "outputs": [],
   "source": [
    "import pandas as pd"
   ]
  },
  {
   "cell_type": "code",
   "execution_count": 7,
   "metadata": {},
   "outputs": [],
   "source": [
    "df=pd.read_csv('FinalDatabase1200to1400-tofeed.csv')"
   ]
  },
  {
   "cell_type": "code",
   "execution_count": 8,
   "metadata": {},
   "outputs": [
    {
     "name": "stdout",
     "output_type": "stream",
     "text": [
      "Problem                                     Sum of XOR Functions\n",
      "Contest                                                   1879.0\n",
      "Index                                                          D\n",
      "Tags           bitmasks, combinatorics, divide and conquer, d...\n",
      "solvedCount                                                 5249\n",
      "Name: 0, dtype: object\n"
     ]
    }
   ],
   "source": [
    "row_2498 = df.iloc[0]\n",
    "\n",
    "print(row_2498)"
   ]
  },
  {
   "cell_type": "code",
   "execution_count": 11,
   "metadata": {},
   "outputs": [],
   "source": [
    "rows_to_keep = [3, 456, 474, 635, 529, 821, 602, 1232, 99, 56, 0, 518, 867, 660, 345, 31, 80, 377, 896, 172, 7, 468, 239, 286, 272, 289, 168, 125, 572, 879, 9, 372, 967, 186, 599, 1219, 227, 572, 556, 328, 41, 22, 445, 441, 484, 241, 538, 430, 501, 444, 62, 168, 872, 363, 317, 10, 131, 400, 352, 166, 11, 516, 174, 67, 137, 733, 901, 421, 36, 496, 1253, 10, 390, 847, 872, 151, 388, 46, 118, 55, 396, 5, 577, 73, 487, 135, 272, 289, 25, 409, 199, 17, 140, 238, 359, 42, 184, 265, 443, 322, 408]\n",
    "\n",
    "df = df[df.index.isin(rows_to_keep)]\n",
    "\n"
   ]
  },
  {
   "cell_type": "code",
   "execution_count": 12,
   "metadata": {},
   "outputs": [
    {
     "data": {
      "text/plain": [
       "95"
      ]
     },
     "execution_count": 12,
     "metadata": {},
     "output_type": "execute_result"
    }
   ],
   "source": [
    "df.shape[0]"
   ]
  },
  {
   "cell_type": "code",
   "execution_count": 9,
   "metadata": {},
   "outputs": [
    {
     "data": {
      "text/html": [
       "<div>\n",
       "<style scoped>\n",
       "    .dataframe tbody tr th:only-of-type {\n",
       "        vertical-align: middle;\n",
       "    }\n",
       "\n",
       "    .dataframe tbody tr th {\n",
       "        vertical-align: top;\n",
       "    }\n",
       "\n",
       "    .dataframe thead th {\n",
       "        text-align: right;\n",
       "    }\n",
       "</style>\n",
       "<table border=\"1\" class=\"dataframe\">\n",
       "  <thead>\n",
       "    <tr style=\"text-align: right;\">\n",
       "      <th></th>\n",
       "      <th>Problem</th>\n",
       "      <th>Contest</th>\n",
       "      <th>Index</th>\n",
       "      <th>Tags</th>\n",
       "      <th>solvedCount</th>\n",
       "    </tr>\n",
       "  </thead>\n",
       "  <tbody>\n",
       "    <tr>\n",
       "      <th>12</th>\n",
       "      <td>Colorful Table</td>\n",
       "      <td>1870</td>\n",
       "      <td>C</td>\n",
       "      <td>binary search, data structures, dp, implementa...</td>\n",
       "      <td>9117</td>\n",
       "    </tr>\n",
       "    <tr>\n",
       "      <th>30</th>\n",
       "      <td>Evaluate RBS</td>\n",
       "      <td>1860</td>\n",
       "      <td>F</td>\n",
       "      <td>data structures, geometry, implementation, mat...</td>\n",
       "      <td>230</td>\n",
       "    </tr>\n",
       "    <tr>\n",
       "      <th>36</th>\n",
       "      <td>Prefix Permutation Sums</td>\n",
       "      <td>1851</td>\n",
       "      <td>D</td>\n",
       "      <td>implementation, math</td>\n",
       "      <td>12682</td>\n",
       "    </tr>\n",
       "    <tr>\n",
       "      <th>40</th>\n",
       "      <td>Cardboard for Pictures</td>\n",
       "      <td>1850</td>\n",
       "      <td>E</td>\n",
       "      <td>binary search, geometry, implementation, math</td>\n",
       "      <td>17644</td>\n",
       "    </tr>\n",
       "    <tr>\n",
       "      <th>59</th>\n",
       "      <td>Particles</td>\n",
       "      <td>1844</td>\n",
       "      <td>C</td>\n",
       "      <td>dp, greedy, implementation, math</td>\n",
       "      <td>13387</td>\n",
       "    </tr>\n",
       "  </tbody>\n",
       "</table>\n",
       "</div>"
      ],
      "text/plain": [
       "                    Problem  Contest Index  \\\n",
       "12           Colorful Table     1870     C   \n",
       "30             Evaluate RBS     1860     F   \n",
       "36  Prefix Permutation Sums     1851     D   \n",
       "40   Cardboard for Pictures     1850     E   \n",
       "59                Particles     1844     C   \n",
       "\n",
       "                                                 Tags  solvedCount  \n",
       "12  binary search, data structures, dp, implementa...         9117  \n",
       "30  data structures, geometry, implementation, mat...          230  \n",
       "36                               implementation, math        12682  \n",
       "40      binary search, geometry, implementation, math        17644  \n",
       "59                   dp, greedy, implementation, math        13387  "
      ]
     },
     "execution_count": 9,
     "metadata": {},
     "output_type": "execute_result"
    }
   ],
   "source": [
    "df.head()"
   ]
  },
  {
   "cell_type": "code",
   "execution_count": 13,
   "metadata": {},
   "outputs": [],
   "source": [
    "df.to_csv('Final_database_to_upload.csv',index=False)"
   ]
  },
  {
   "cell_type": "code",
   "execution_count": 14,
   "metadata": {},
   "outputs": [],
   "source": [
    "df=pd.read_csv('Final_database_to_upload.csv')"
   ]
  },
  {
   "cell_type": "code",
   "execution_count": 15,
   "metadata": {},
   "outputs": [
    {
     "data": {
      "text/plain": [
       "100"
      ]
     },
     "execution_count": 15,
     "metadata": {},
     "output_type": "execute_result"
    }
   ],
   "source": [
    "df.shape[0]"
   ]
  },
  {
   "cell_type": "code",
   "execution_count": 16,
   "metadata": {},
   "outputs": [
    {
     "data": {
      "text/html": [
       "<div>\n",
       "<style scoped>\n",
       "    .dataframe tbody tr th:only-of-type {\n",
       "        vertical-align: middle;\n",
       "    }\n",
       "\n",
       "    .dataframe tbody tr th {\n",
       "        vertical-align: top;\n",
       "    }\n",
       "\n",
       "    .dataframe thead th {\n",
       "        text-align: right;\n",
       "    }\n",
       "</style>\n",
       "<table border=\"1\" class=\"dataframe\">\n",
       "  <thead>\n",
       "    <tr style=\"text-align: right;\">\n",
       "      <th></th>\n",
       "      <th>Problem</th>\n",
       "      <th>Contest</th>\n",
       "      <th>Index</th>\n",
       "      <th>Tags</th>\n",
       "      <th>solvedCount</th>\n",
       "    </tr>\n",
       "  </thead>\n",
       "  <tbody>\n",
       "    <tr>\n",
       "      <th>0</th>\n",
       "      <td>Sum of XOR Functions</td>\n",
       "      <td>1879.0</td>\n",
       "      <td>D</td>\n",
       "      <td>bitmasks, combinatorics, divide and conquer, d...</td>\n",
       "      <td>5249</td>\n",
       "    </tr>\n",
       "    <tr>\n",
       "      <th>1</th>\n",
       "      <td>Prefix Purchase</td>\n",
       "      <td>1870.0</td>\n",
       "      <td>D</td>\n",
       "      <td>greedy, implementation, sortings</td>\n",
       "      <td>5470</td>\n",
       "    </tr>\n",
       "    <tr>\n",
       "      <th>2</th>\n",
       "      <td>Cyclic Operations</td>\n",
       "      <td>1867.0</td>\n",
       "      <td>D</td>\n",
       "      <td>brute force, constructive algorithms, dfs and ...</td>\n",
       "      <td>4537</td>\n",
       "    </tr>\n",
       "    <tr>\n",
       "      <th>3</th>\n",
       "      <td>Matrix Cascade</td>\n",
       "      <td>1864.0</td>\n",
       "      <td>D</td>\n",
       "      <td>brute force, constructive algorithms, data str...</td>\n",
       "      <td>5656</td>\n",
       "    </tr>\n",
       "    <tr>\n",
       "      <th>4</th>\n",
       "      <td>Sorting By Multiplication</td>\n",
       "      <td>1861.0</td>\n",
       "      <td>D</td>\n",
       "      <td>dp, greedy</td>\n",
       "      <td>5149</td>\n",
       "    </tr>\n",
       "  </tbody>\n",
       "</table>\n",
       "</div>"
      ],
      "text/plain": [
       "                     Problem  Contest Index  \\\n",
       "0       Sum of XOR Functions   1879.0     D   \n",
       "1            Prefix Purchase   1870.0     D   \n",
       "2          Cyclic Operations   1867.0     D   \n",
       "3             Matrix Cascade   1864.0     D   \n",
       "4  Sorting By Multiplication   1861.0     D   \n",
       "\n",
       "                                                Tags  solvedCount  \n",
       "0  bitmasks, combinatorics, divide and conquer, d...         5249  \n",
       "1                   greedy, implementation, sortings         5470  \n",
       "2  brute force, constructive algorithms, dfs and ...         4537  \n",
       "3  brute force, constructive algorithms, data str...         5656  \n",
       "4                                         dp, greedy         5149  "
      ]
     },
     "execution_count": 16,
     "metadata": {},
     "output_type": "execute_result"
    }
   ],
   "source": [
    "df.head()"
   ]
  },
  {
   "cell_type": "code",
   "execution_count": 17,
   "metadata": {},
   "outputs": [
    {
     "data": {
      "text/html": [
       "<div>\n",
       "<style scoped>\n",
       "    .dataframe tbody tr th:only-of-type {\n",
       "        vertical-align: middle;\n",
       "    }\n",
       "\n",
       "    .dataframe tbody tr th {\n",
       "        vertical-align: top;\n",
       "    }\n",
       "\n",
       "    .dataframe thead th {\n",
       "        text-align: right;\n",
       "    }\n",
       "</style>\n",
       "<table border=\"1\" class=\"dataframe\">\n",
       "  <thead>\n",
       "    <tr style=\"text-align: right;\">\n",
       "      <th></th>\n",
       "      <th>Problem</th>\n",
       "      <th>Contest</th>\n",
       "      <th>Index</th>\n",
       "      <th>Tags</th>\n",
       "      <th>solvedCount</th>\n",
       "    </tr>\n",
       "  </thead>\n",
       "  <tbody>\n",
       "    <tr>\n",
       "      <th>95</th>\n",
       "      <td>Prefix Purchase</td>\n",
       "      <td>1870.0</td>\n",
       "      <td>D</td>\n",
       "      <td>greedy, implementation, sortings</td>\n",
       "      <td>5492</td>\n",
       "    </tr>\n",
       "    <tr>\n",
       "      <th>96</th>\n",
       "      <td>Sum of XOR Functions</td>\n",
       "      <td>1879.0</td>\n",
       "      <td>D</td>\n",
       "      <td>bitmasks, combinatorics, divide and conquer, d...</td>\n",
       "      <td>5287</td>\n",
       "    </tr>\n",
       "    <tr>\n",
       "      <th>97</th>\n",
       "      <td>Matrix Cascade</td>\n",
       "      <td>1864.0</td>\n",
       "      <td>D</td>\n",
       "      <td>brute force, constructive algorithms, data str...</td>\n",
       "      <td>5669</td>\n",
       "    </tr>\n",
       "    <tr>\n",
       "      <th>98</th>\n",
       "      <td>Sorting By Multiplication</td>\n",
       "      <td>1861.0</td>\n",
       "      <td>D</td>\n",
       "      <td>dp, greedy</td>\n",
       "      <td>5169</td>\n",
       "    </tr>\n",
       "    <tr>\n",
       "      <th>99</th>\n",
       "      <td>Climbing the Tree</td>\n",
       "      <td>1810.0</td>\n",
       "      <td>D</td>\n",
       "      <td>binary search, math</td>\n",
       "      <td>6480</td>\n",
       "    </tr>\n",
       "  </tbody>\n",
       "</table>\n",
       "</div>"
      ],
      "text/plain": [
       "                      Problem  Contest Index  \\\n",
       "95            Prefix Purchase   1870.0     D   \n",
       "96       Sum of XOR Functions   1879.0     D   \n",
       "97             Matrix Cascade   1864.0     D   \n",
       "98  Sorting By Multiplication   1861.0     D   \n",
       "99          Climbing the Tree   1810.0     D   \n",
       "\n",
       "                                                 Tags  solvedCount  \n",
       "95                   greedy, implementation, sortings         5492  \n",
       "96  bitmasks, combinatorics, divide and conquer, d...         5287  \n",
       "97  brute force, constructive algorithms, data str...         5669  \n",
       "98                                         dp, greedy         5169  \n",
       "99                                binary search, math         6480  "
      ]
     },
     "execution_count": 17,
     "metadata": {},
     "output_type": "execute_result"
    }
   ],
   "source": [
    "df.tail()"
   ]
  },
  {
   "cell_type": "code",
   "execution_count": 18,
   "metadata": {},
   "outputs": [],
   "source": [
    "df = df.sort_values(by='solvedCount', ascending=False)"
   ]
  },
  {
   "cell_type": "code",
   "execution_count": 19,
   "metadata": {},
   "outputs": [
    {
     "data": {
      "text/html": [
       "<div>\n",
       "<style scoped>\n",
       "    .dataframe tbody tr th:only-of-type {\n",
       "        vertical-align: middle;\n",
       "    }\n",
       "\n",
       "    .dataframe tbody tr th {\n",
       "        vertical-align: top;\n",
       "    }\n",
       "\n",
       "    .dataframe thead th {\n",
       "        text-align: right;\n",
       "    }\n",
       "</style>\n",
       "<table border=\"1\" class=\"dataframe\">\n",
       "  <thead>\n",
       "    <tr style=\"text-align: right;\">\n",
       "      <th></th>\n",
       "      <th>Problem</th>\n",
       "      <th>Contest</th>\n",
       "      <th>Index</th>\n",
       "      <th>Tags</th>\n",
       "      <th>solvedCount</th>\n",
       "    </tr>\n",
       "  </thead>\n",
       "  <tbody>\n",
       "    <tr>\n",
       "      <th>24</th>\n",
       "      <td>Traps</td>\n",
       "      <td>1684.0</td>\n",
       "      <td>D</td>\n",
       "      <td>constructive algorithms, greedy, sortings</td>\n",
       "      <td>8810</td>\n",
       "    </tr>\n",
       "    <tr>\n",
       "      <th>47</th>\n",
       "      <td>Count The Blocks</td>\n",
       "      <td>1327.0</td>\n",
       "      <td>E</td>\n",
       "      <td>combinatorics, dp, math</td>\n",
       "      <td>8226</td>\n",
       "    </tr>\n",
       "    <tr>\n",
       "      <th>30</th>\n",
       "      <td>MEX and Increments</td>\n",
       "      <td>1619.0</td>\n",
       "      <td>E</td>\n",
       "      <td>constructive algorithms, data structures, dp, ...</td>\n",
       "      <td>8097</td>\n",
       "    </tr>\n",
       "    <tr>\n",
       "      <th>76</th>\n",
       "      <td>Slime</td>\n",
       "      <td>1038.0</td>\n",
       "      <td>D</td>\n",
       "      <td>dp, greedy, implementation</td>\n",
       "      <td>7872</td>\n",
       "    </tr>\n",
       "    <tr>\n",
       "      <th>44</th>\n",
       "      <td>Task On The Board</td>\n",
       "      <td>1367.0</td>\n",
       "      <td>D</td>\n",
       "      <td>constructive algorithms, greedy, implementatio...</td>\n",
       "      <td>7755</td>\n",
       "    </tr>\n",
       "  </tbody>\n",
       "</table>\n",
       "</div>"
      ],
      "text/plain": [
       "               Problem  Contest Index  \\\n",
       "24               Traps   1684.0     D   \n",
       "47    Count The Blocks   1327.0     E   \n",
       "30  MEX and Increments   1619.0     E   \n",
       "76               Slime   1038.0     D   \n",
       "44   Task On The Board   1367.0     D   \n",
       "\n",
       "                                                 Tags  solvedCount  \n",
       "24          constructive algorithms, greedy, sortings         8810  \n",
       "47                            combinatorics, dp, math         8226  \n",
       "30  constructive algorithms, data structures, dp, ...         8097  \n",
       "76                         dp, greedy, implementation         7872  \n",
       "44  constructive algorithms, greedy, implementatio...         7755  "
      ]
     },
     "execution_count": 19,
     "metadata": {},
     "output_type": "execute_result"
    }
   ],
   "source": [
    "df.head()"
   ]
  },
  {
   "cell_type": "code",
   "execution_count": 20,
   "metadata": {},
   "outputs": [],
   "source": [
    "df.to_csv('Final_database_to_upload.csv',index=False)"
   ]
  },
  {
   "cell_type": "code",
   "execution_count": 21,
   "metadata": {},
   "outputs": [
    {
     "name": "stdout",
     "output_type": "stream",
     "text": [
      "https://codeforces.com/problemset/problem/1684.0/D\n",
      "https://codeforces.com/problemset/problem/1327.0/E\n",
      "https://codeforces.com/problemset/problem/1619.0/E\n",
      "https://codeforces.com/problemset/problem/1038.0/D\n",
      "https://codeforces.com/problemset/problem/1367.0/D\n",
      "https://codeforces.com/problemset/problem/1620.0/E\n",
      "https://codeforces.com/problemset/problem/1360.0/G\n",
      "https://codeforces.com/problemset/problem/1257.0/D\n",
      "https://codeforces.com/problemset/problem/1426.0/E\n",
      "https://codeforces.com/problemset/problem/1779.0/D\n",
      "https://codeforces.com/problemset/problem/1296.0/E1\n",
      "https://codeforces.com/problemset/problem/1849.0/D\n",
      "https://codeforces.com/problemset/problem/1491.0/D\n",
      "https://codeforces.com/problemset/problem/1353.0/E\n",
      "https://codeforces.com/problemset/problem/1810.0/D\n",
      "https://codeforces.com/problemset/problem/1810.0/D\n",
      "https://codeforces.com/problemset/problem/1692.0/H\n",
      "https://codeforces.com/problemset/problem/1091.0/D\n",
      "https://codeforces.com/problemset/problem/1155.0/D\n",
      "https://codeforces.com/problemset/problem/1092.0/F\n",
      "https://codeforces.com/problemset/problem/1185.0/D\n",
      "https://codeforces.com/problemset/problem/1768.0/D\n",
      "https://codeforces.com/problemset/problem/1141.0/E\n",
      "https://codeforces.com/problemset/problem/1467.0/C\n",
      "https://codeforces.com/problemset/problem/1009.0/D\n",
      "https://codeforces.com/problemset/problem/1194.0/D\n",
      "https://codeforces.com/problemset/problem/1283.0/E\n",
      "https://codeforces.com/problemset/problem/1829.0/H\n",
      "https://codeforces.com/problemset/problem/1304.0/D\n",
      "https://codeforces.com/problemset/problem/1187.0/C\n",
      "https://codeforces.com/problemset/problem/1846.0/E2\n",
      "https://codeforces.com/problemset/problem/1313.0/C2\n",
      "https://codeforces.com/problemset/problem/1859.0/D\n",
      "https://codeforces.com/problemset/problem/1721.0/D\n",
      "https://codeforces.com/problemset/problem/1492.0/D\n",
      "https://codeforces.com/problemset/problem/1237.0/C1\n",
      "https://codeforces.com/problemset/problem/1117.0/C\n",
      "https://codeforces.com/problemset/problem/1672.0/D\n",
      "https://codeforces.com/problemset/problem/1186.0/C\n",
      "https://codeforces.com/problemset/problem/1864.0/D\n",
      "https://codeforces.com/problemset/problem/1864.0/D\n",
      "https://codeforces.com/problemset/problem/1560.0/F1\n",
      "https://codeforces.com/problemset/problem/1279.0/D\n",
      "https://codeforces.com/problemset/problem/1512.0/F\n",
      "https://codeforces.com/problemset/problem/1870.0/D\n",
      "https://codeforces.com/problemset/problem/1700.0/D\n",
      "https://codeforces.com/problemset/problem/1870.0/D\n",
      "https://codeforces.com/problemset/problem/1792.0/D\n",
      "https://codeforces.com/problemset/problem/1251.0/D\n",
      "https://codeforces.com/problemset/problem/1207.0/E\n",
      "https://codeforces.com/problemset/problem/1879.0/D\n",
      "https://codeforces.com/problemset/problem/1879.0/D\n",
      "https://codeforces.com/problemset/problem/1809.0/D\n",
      "https://codeforces.com/problemset/problem/1118.0/F1\n",
      "https://codeforces.com/problemset/problem/1175.0/D\n",
      "https://codeforces.com/problemset/problem/1490.0/G\n",
      "https://codeforces.com/problemset/problem/1861.0/D\n",
      "https://codeforces.com/problemset/problem/1861.0/D\n",
      "https://codeforces.com/problemset/problem/1015.0/E1\n",
      "https://codeforces.com/problemset/problem/1066.0/D\n",
      "https://codeforces.com/problemset/problem/1583.0/D\n",
      "https://codeforces.com/problemset/problem/510.0/D\n",
      "https://codeforces.com/problemset/problem/1749.0/D\n",
      "https://codeforces.com/problemset/problem/1228.0/D\n",
      "https://codeforces.com/problemset/problem/479.0/E\n",
      "https://codeforces.com/problemset/problem/1582.0/F1\n",
      "https://codeforces.com/problemset/problem/1822.0/F\n",
      "https://codeforces.com/problemset/problem/1214.0/D\n",
      "https://codeforces.com/problemset/problem/1148.0/D\n",
      "https://codeforces.com/problemset/problem/472.0/D\n",
      "https://codeforces.com/problemset/problem/1675.0/F\n",
      "https://codeforces.com/problemset/problem/1249.0/D2\n",
      "https://codeforces.com/problemset/problem/1867.0/D\n",
      "https://codeforces.com/problemset/problem/567.0/D\n",
      "https://codeforces.com/problemset/problem/527.0/D\n",
      "https://codeforces.com/problemset/problem/nan/D\n",
      "https://codeforces.com/problemset/problem/1856.0/E1\n",
      "https://codeforces.com/problemset/problem/1613.0/D\n",
      "https://codeforces.com/problemset/problem/869.0/C\n",
      "https://codeforces.com/problemset/problem/1077.0/E\n",
      "https://codeforces.com/problemset/problem/743.0/D\n",
      "https://codeforces.com/problemset/problem/922.0/D\n",
      "https://codeforces.com/problemset/problem/978.0/G\n",
      "https://codeforces.com/problemset/problem/1791.0/G2\n",
      "https://codeforces.com/problemset/problem/1453.0/D\n",
      "https://codeforces.com/problemset/problem/1421.0/D\n",
      "https://codeforces.com/problemset/problem/1650.0/E\n",
      "https://codeforces.com/problemset/problem/358.0/D\n",
      "https://codeforces.com/problemset/problem/1842.0/D\n",
      "https://codeforces.com/problemset/problem/1260.0/D\n",
      "https://codeforces.com/problemset/problem/612.0/D\n",
      "https://codeforces.com/problemset/problem/1611.0/E2\n",
      "https://codeforces.com/problemset/problem/1677.0/C\n",
      "https://codeforces.com/problemset/problem/1774.0/E\n",
      "https://codeforces.com/problemset/problem/981.0/D\n",
      "https://codeforces.com/problemset/problem/35.0/D\n",
      "https://codeforces.com/problemset/problem/1801.0/C\n",
      "https://codeforces.com/problemset/problem/1133.0/F2\n",
      "https://codeforces.com/problemset/problem/22.0/D\n",
      "https://codeforces.com/problemset/problem/534.0/D\n"
     ]
    }
   ],
   "source": [
    "base_url = 'https://codeforces.com/problemset/problem/{Contest}/{Index}'\n",
    "\n",
    "for index, row in df.iterrows():\n",
    "    contest = row['Contest']\n",
    "    index_val = row['Index']\n",
    "    link = base_url.format(Contest=contest, Index=index_val)\n",
    "    print(link)"
   ]
  }
 ],
 "metadata": {
  "kernelspec": {
   "display_name": "Python 3",
   "language": "python",
   "name": "python3"
  },
  "language_info": {
   "codemirror_mode": {
    "name": "ipython",
    "version": 3
   },
   "file_extension": ".py",
   "mimetype": "text/x-python",
   "name": "python",
   "nbconvert_exporter": "python",
   "pygments_lexer": "ipython3",
   "version": "3.10.12"
  }
 },
 "nbformat": 4,
 "nbformat_minor": 2
}
