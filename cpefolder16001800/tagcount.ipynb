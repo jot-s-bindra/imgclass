{
 "cells": [
  {
   "cell_type": "code",
   "execution_count": 1,
   "metadata": {},
   "outputs": [
    {
     "name": "stdout",
     "output_type": "stream",
     "text": [
      "Tags\n",
      "greedy                     67\n",
      "dp                         45\n",
      "math                       33\n",
      "constructive algorithms    31\n",
      "sortings                   26\n",
      "implementation             19\n",
      "binary search              18\n",
      "data structures            18\n",
      "dfs and similar            17\n",
      "brute force                16\n",
      "bitmasks                   12\n",
      "graphs                     11\n",
      "trees                      10\n",
      "combinatorics               9\n",
      "dsu                         5\n",
      "two pointers                4\n",
      "divide and conquer          4\n",
      "hashing                     3\n",
      "shortest paths              3\n",
      "probabilities               2\n",
      "interactive                 2\n",
      "flows                       2\n",
      "geometry                    1\n",
      "games                       1\n",
      "number theory               1\n",
      "Name: count, dtype: int64\n"
     ]
    }
   ],
   "source": [
    "import pandas as pd\n",
    "df=pd.read_csv('Final_database_to_upload.csv')\n",
    "df['Tags'] = df['Tags'].str.split(', ')\n",
    "df = df.explode('Tags')\n",
    "\n",
    "tag_counts = df['Tags'].value_counts()\n",
    "\n",
    "print(tag_counts)"
   ]
  },
  {
   "cell_type": "code",
   "execution_count": null,
   "metadata": {},
   "outputs": [],
   "source": []
  }
 ],
 "metadata": {
  "kernelspec": {
   "display_name": "Python 3",
   "language": "python",
   "name": "python3"
  },
  "language_info": {
   "codemirror_mode": {
    "name": "ipython",
    "version": 3
   },
   "file_extension": ".py",
   "mimetype": "text/x-python",
   "name": "python",
   "nbconvert_exporter": "python",
   "pygments_lexer": "ipython3",
   "version": "3.10.12"
  }
 },
 "nbformat": 4,
 "nbformat_minor": 2
}
