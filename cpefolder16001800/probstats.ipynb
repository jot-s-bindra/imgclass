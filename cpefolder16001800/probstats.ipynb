{
 "cells": [
  {
   "cell_type": "code",
   "execution_count": 5,
   "metadata": {},
   "outputs": [],
   "source": [
    "import pandas as pd\n",
    "import numpy as np\n",
    "\n",
    "df1=pd.read_csv('codeforces_problems2.csv')\n",
    "df2=pd.read_csv('problem_list.csv')"
   ]
  },
  {
   "cell_type": "code",
   "execution_count": 6,
   "metadata": {},
   "outputs": [
    {
     "data": {
      "text/html": [
       "<div>\n",
       "<style scoped>\n",
       "    .dataframe tbody tr th:only-of-type {\n",
       "        vertical-align: middle;\n",
       "    }\n",
       "\n",
       "    .dataframe tbody tr th {\n",
       "        vertical-align: top;\n",
       "    }\n",
       "\n",
       "    .dataframe thead th {\n",
       "        text-align: right;\n",
       "    }\n",
       "</style>\n",
       "<table border=\"1\" class=\"dataframe\">\n",
       "  <thead>\n",
       "    <tr style=\"text-align: right;\">\n",
       "      <th></th>\n",
       "      <th>Problem</th>\n",
       "      <th>Contest</th>\n",
       "      <th>Index</th>\n",
       "      <th>Tags</th>\n",
       "    </tr>\n",
       "  </thead>\n",
       "  <tbody>\n",
       "    <tr>\n",
       "      <th>0</th>\n",
       "      <td>Sum of XOR Functions</td>\n",
       "      <td>1879</td>\n",
       "      <td>D</td>\n",
       "      <td>bitmasks, combinatorics, divide and conquer, d...</td>\n",
       "    </tr>\n",
       "    <tr>\n",
       "      <th>1</th>\n",
       "      <td>Mad City</td>\n",
       "      <td>1873</td>\n",
       "      <td>H</td>\n",
       "      <td>dfs and similar, dsu, games, graphs, shortest ...</td>\n",
       "    </tr>\n",
       "    <tr>\n",
       "      <th>2</th>\n",
       "      <td>Selling a Menagerie</td>\n",
       "      <td>1872</td>\n",
       "      <td>F</td>\n",
       "      <td>dfs and similar, dsu, graphs, implementation, ...</td>\n",
       "    </tr>\n",
       "    <tr>\n",
       "      <th>3</th>\n",
       "      <td>Prefix Purchase</td>\n",
       "      <td>1870</td>\n",
       "      <td>D</td>\n",
       "      <td>greedy, implementation, sortings</td>\n",
       "    </tr>\n",
       "    <tr>\n",
       "      <th>4</th>\n",
       "      <td>Candy Party (Easy Version)</td>\n",
       "      <td>1868</td>\n",
       "      <td>B1</td>\n",
       "      <td>bitmasks, constructive algorithms, graphs, gre...</td>\n",
       "    </tr>\n",
       "  </tbody>\n",
       "</table>\n",
       "</div>"
      ],
      "text/plain": [
       "                      Problem  Contest Index  \\\n",
       "0        Sum of XOR Functions     1879     D   \n",
       "1                    Mad City     1873     H   \n",
       "2         Selling a Menagerie     1872     F   \n",
       "3             Prefix Purchase     1870     D   \n",
       "4  Candy Party (Easy Version)     1868    B1   \n",
       "\n",
       "                                                Tags  \n",
       "0  bitmasks, combinatorics, divide and conquer, d...  \n",
       "1  dfs and similar, dsu, games, graphs, shortest ...  \n",
       "2  dfs and similar, dsu, graphs, implementation, ...  \n",
       "3                   greedy, implementation, sortings  \n",
       "4  bitmasks, constructive algorithms, graphs, gre...  "
      ]
     },
     "execution_count": 6,
     "metadata": {},
     "output_type": "execute_result"
    }
   ],
   "source": [
    "df1.head()"
   ]
  },
  {
   "cell_type": "code",
   "execution_count": 7,
   "metadata": {},
   "outputs": [
    {
     "data": {
      "text/html": [
       "<div>\n",
       "<style scoped>\n",
       "    .dataframe tbody tr th:only-of-type {\n",
       "        vertical-align: middle;\n",
       "    }\n",
       "\n",
       "    .dataframe tbody tr th {\n",
       "        vertical-align: top;\n",
       "    }\n",
       "\n",
       "    .dataframe thead th {\n",
       "        text-align: right;\n",
       "    }\n",
       "</style>\n",
       "<table border=\"1\" class=\"dataframe\">\n",
       "  <thead>\n",
       "    <tr style=\"text-align: right;\">\n",
       "      <th></th>\n",
       "      <th>contestId</th>\n",
       "      <th>index</th>\n",
       "      <th>solvedCount</th>\n",
       "    </tr>\n",
       "  </thead>\n",
       "  <tbody>\n",
       "    <tr>\n",
       "      <th>0</th>\n",
       "      <td>1887</td>\n",
       "      <td>F</td>\n",
       "      <td>56</td>\n",
       "    </tr>\n",
       "    <tr>\n",
       "      <th>1</th>\n",
       "      <td>1887</td>\n",
       "      <td>E</td>\n",
       "      <td>128</td>\n",
       "    </tr>\n",
       "    <tr>\n",
       "      <th>2</th>\n",
       "      <td>1887</td>\n",
       "      <td>D</td>\n",
       "      <td>443</td>\n",
       "    </tr>\n",
       "    <tr>\n",
       "      <th>3</th>\n",
       "      <td>1887</td>\n",
       "      <td>C</td>\n",
       "      <td>899</td>\n",
       "    </tr>\n",
       "    <tr>\n",
       "      <th>4</th>\n",
       "      <td>1887</td>\n",
       "      <td>B</td>\n",
       "      <td>1612</td>\n",
       "    </tr>\n",
       "  </tbody>\n",
       "</table>\n",
       "</div>"
      ],
      "text/plain": [
       "   contestId index  solvedCount\n",
       "0       1887     F           56\n",
       "1       1887     E          128\n",
       "2       1887     D          443\n",
       "3       1887     C          899\n",
       "4       1887     B         1612"
      ]
     },
     "execution_count": 7,
     "metadata": {},
     "output_type": "execute_result"
    }
   ],
   "source": [
    "df2.head()"
   ]
  },
  {
   "cell_type": "code",
   "execution_count": 8,
   "metadata": {},
   "outputs": [],
   "source": [
    "df1.columns=['Problem','Contest','Index','Tags']\n",
    "df2.columns = ['Contest', 'Index','solvedCount']"
   ]
  },
  {
   "cell_type": "code",
   "execution_count": 9,
   "metadata": {},
   "outputs": [
    {
     "data": {
      "text/html": [
       "<div>\n",
       "<style scoped>\n",
       "    .dataframe tbody tr th:only-of-type {\n",
       "        vertical-align: middle;\n",
       "    }\n",
       "\n",
       "    .dataframe tbody tr th {\n",
       "        vertical-align: top;\n",
       "    }\n",
       "\n",
       "    .dataframe thead th {\n",
       "        text-align: right;\n",
       "    }\n",
       "</style>\n",
       "<table border=\"1\" class=\"dataframe\">\n",
       "  <thead>\n",
       "    <tr style=\"text-align: right;\">\n",
       "      <th></th>\n",
       "      <th>Problem</th>\n",
       "      <th>Contest</th>\n",
       "      <th>Index</th>\n",
       "      <th>Tags</th>\n",
       "    </tr>\n",
       "  </thead>\n",
       "  <tbody>\n",
       "    <tr>\n",
       "      <th>0</th>\n",
       "      <td>Sum of XOR Functions</td>\n",
       "      <td>1879</td>\n",
       "      <td>D</td>\n",
       "      <td>bitmasks, combinatorics, divide and conquer, d...</td>\n",
       "    </tr>\n",
       "    <tr>\n",
       "      <th>1</th>\n",
       "      <td>Mad City</td>\n",
       "      <td>1873</td>\n",
       "      <td>H</td>\n",
       "      <td>dfs and similar, dsu, games, graphs, shortest ...</td>\n",
       "    </tr>\n",
       "    <tr>\n",
       "      <th>2</th>\n",
       "      <td>Selling a Menagerie</td>\n",
       "      <td>1872</td>\n",
       "      <td>F</td>\n",
       "      <td>dfs and similar, dsu, graphs, implementation, ...</td>\n",
       "    </tr>\n",
       "    <tr>\n",
       "      <th>3</th>\n",
       "      <td>Prefix Purchase</td>\n",
       "      <td>1870</td>\n",
       "      <td>D</td>\n",
       "      <td>greedy, implementation, sortings</td>\n",
       "    </tr>\n",
       "    <tr>\n",
       "      <th>4</th>\n",
       "      <td>Candy Party (Easy Version)</td>\n",
       "      <td>1868</td>\n",
       "      <td>B1</td>\n",
       "      <td>bitmasks, constructive algorithms, graphs, gre...</td>\n",
       "    </tr>\n",
       "  </tbody>\n",
       "</table>\n",
       "</div>"
      ],
      "text/plain": [
       "                      Problem  Contest Index  \\\n",
       "0        Sum of XOR Functions     1879     D   \n",
       "1                    Mad City     1873     H   \n",
       "2         Selling a Menagerie     1872     F   \n",
       "3             Prefix Purchase     1870     D   \n",
       "4  Candy Party (Easy Version)     1868    B1   \n",
       "\n",
       "                                                Tags  \n",
       "0  bitmasks, combinatorics, divide and conquer, d...  \n",
       "1  dfs and similar, dsu, games, graphs, shortest ...  \n",
       "2  dfs and similar, dsu, graphs, implementation, ...  \n",
       "3                   greedy, implementation, sortings  \n",
       "4  bitmasks, constructive algorithms, graphs, gre...  "
      ]
     },
     "execution_count": 9,
     "metadata": {},
     "output_type": "execute_result"
    }
   ],
   "source": [
    "df1.head()"
   ]
  },
  {
   "cell_type": "code",
   "execution_count": 10,
   "metadata": {},
   "outputs": [
    {
     "data": {
      "text/html": [
       "<div>\n",
       "<style scoped>\n",
       "    .dataframe tbody tr th:only-of-type {\n",
       "        vertical-align: middle;\n",
       "    }\n",
       "\n",
       "    .dataframe tbody tr th {\n",
       "        vertical-align: top;\n",
       "    }\n",
       "\n",
       "    .dataframe thead th {\n",
       "        text-align: right;\n",
       "    }\n",
       "</style>\n",
       "<table border=\"1\" class=\"dataframe\">\n",
       "  <thead>\n",
       "    <tr style=\"text-align: right;\">\n",
       "      <th></th>\n",
       "      <th>Contest</th>\n",
       "      <th>Index</th>\n",
       "      <th>solvedCount</th>\n",
       "    </tr>\n",
       "  </thead>\n",
       "  <tbody>\n",
       "    <tr>\n",
       "      <th>0</th>\n",
       "      <td>1887</td>\n",
       "      <td>F</td>\n",
       "      <td>56</td>\n",
       "    </tr>\n",
       "    <tr>\n",
       "      <th>1</th>\n",
       "      <td>1887</td>\n",
       "      <td>E</td>\n",
       "      <td>128</td>\n",
       "    </tr>\n",
       "    <tr>\n",
       "      <th>2</th>\n",
       "      <td>1887</td>\n",
       "      <td>D</td>\n",
       "      <td>443</td>\n",
       "    </tr>\n",
       "    <tr>\n",
       "      <th>3</th>\n",
       "      <td>1887</td>\n",
       "      <td>C</td>\n",
       "      <td>899</td>\n",
       "    </tr>\n",
       "    <tr>\n",
       "      <th>4</th>\n",
       "      <td>1887</td>\n",
       "      <td>B</td>\n",
       "      <td>1612</td>\n",
       "    </tr>\n",
       "  </tbody>\n",
       "</table>\n",
       "</div>"
      ],
      "text/plain": [
       "   Contest Index  solvedCount\n",
       "0     1887     F           56\n",
       "1     1887     E          128\n",
       "2     1887     D          443\n",
       "3     1887     C          899\n",
       "4     1887     B         1612"
      ]
     },
     "execution_count": 10,
     "metadata": {},
     "output_type": "execute_result"
    }
   ],
   "source": [
    "df2.head()"
   ]
  },
  {
   "cell_type": "code",
   "execution_count": 11,
   "metadata": {},
   "outputs": [],
   "source": [
    "merged_df = df1.merge(df2, on=['Contest', 'Index'], how='inner')"
   ]
  },
  {
   "cell_type": "code",
   "execution_count": 12,
   "metadata": {},
   "outputs": [
    {
     "data": {
      "text/html": [
       "<div>\n",
       "<style scoped>\n",
       "    .dataframe tbody tr th:only-of-type {\n",
       "        vertical-align: middle;\n",
       "    }\n",
       "\n",
       "    .dataframe tbody tr th {\n",
       "        vertical-align: top;\n",
       "    }\n",
       "\n",
       "    .dataframe thead th {\n",
       "        text-align: right;\n",
       "    }\n",
       "</style>\n",
       "<table border=\"1\" class=\"dataframe\">\n",
       "  <thead>\n",
       "    <tr style=\"text-align: right;\">\n",
       "      <th></th>\n",
       "      <th>Problem</th>\n",
       "      <th>Contest</th>\n",
       "      <th>Index</th>\n",
       "      <th>Tags</th>\n",
       "      <th>solvedCount</th>\n",
       "    </tr>\n",
       "  </thead>\n",
       "  <tbody>\n",
       "    <tr>\n",
       "      <th>0</th>\n",
       "      <td>Sum of XOR Functions</td>\n",
       "      <td>1879</td>\n",
       "      <td>D</td>\n",
       "      <td>bitmasks, combinatorics, divide and conquer, d...</td>\n",
       "      <td>5249</td>\n",
       "    </tr>\n",
       "    <tr>\n",
       "      <th>1</th>\n",
       "      <td>Mad City</td>\n",
       "      <td>1873</td>\n",
       "      <td>H</td>\n",
       "      <td>dfs and similar, dsu, games, graphs, shortest ...</td>\n",
       "      <td>4947</td>\n",
       "    </tr>\n",
       "    <tr>\n",
       "      <th>2</th>\n",
       "      <td>Selling a Menagerie</td>\n",
       "      <td>1872</td>\n",
       "      <td>F</td>\n",
       "      <td>dfs and similar, dsu, graphs, implementation, ...</td>\n",
       "      <td>4746</td>\n",
       "    </tr>\n",
       "    <tr>\n",
       "      <th>3</th>\n",
       "      <td>Prefix Purchase</td>\n",
       "      <td>1870</td>\n",
       "      <td>D</td>\n",
       "      <td>greedy, implementation, sortings</td>\n",
       "      <td>5470</td>\n",
       "    </tr>\n",
       "    <tr>\n",
       "      <th>4</th>\n",
       "      <td>Candy Party (Easy Version)</td>\n",
       "      <td>1868</td>\n",
       "      <td>B1</td>\n",
       "      <td>bitmasks, constructive algorithms, graphs, gre...</td>\n",
       "      <td>5484</td>\n",
       "    </tr>\n",
       "  </tbody>\n",
       "</table>\n",
       "</div>"
      ],
      "text/plain": [
       "                      Problem  Contest Index  \\\n",
       "0        Sum of XOR Functions     1879     D   \n",
       "1                    Mad City     1873     H   \n",
       "2         Selling a Menagerie     1872     F   \n",
       "3             Prefix Purchase     1870     D   \n",
       "4  Candy Party (Easy Version)     1868    B1   \n",
       "\n",
       "                                                Tags  solvedCount  \n",
       "0  bitmasks, combinatorics, divide and conquer, d...         5249  \n",
       "1  dfs and similar, dsu, games, graphs, shortest ...         4947  \n",
       "2  dfs and similar, dsu, graphs, implementation, ...         4746  \n",
       "3                   greedy, implementation, sortings         5470  \n",
       "4  bitmasks, constructive algorithms, graphs, gre...         5484  "
      ]
     },
     "execution_count": 12,
     "metadata": {},
     "output_type": "execute_result"
    }
   ],
   "source": [
    "merged_df.head()"
   ]
  },
  {
   "cell_type": "code",
   "execution_count": 13,
   "metadata": {},
   "outputs": [
    {
     "data": {
      "text/plain": [
       "1253"
      ]
     },
     "execution_count": 13,
     "metadata": {},
     "output_type": "execute_result"
    }
   ],
   "source": [
    "merged_df.shape[0]"
   ]
  },
  {
   "cell_type": "code",
   "execution_count": 14,
   "metadata": {},
   "outputs": [],
   "source": [
    "merged_df.to_csv('FinalDatabase1200to1400.csv',index=False)"
   ]
  },
  {
   "cell_type": "code",
   "execution_count": null,
   "metadata": {},
   "outputs": [],
   "source": []
  }
 ],
 "metadata": {
  "kernelspec": {
   "display_name": "Python 3",
   "language": "python",
   "name": "python3"
  },
  "language_info": {
   "codemirror_mode": {
    "name": "ipython",
    "version": 3
   },
   "file_extension": ".py",
   "mimetype": "text/x-python",
   "name": "python",
   "nbconvert_exporter": "python",
   "pygments_lexer": "ipython3",
   "version": "3.10.12"
  }
 },
 "nbformat": 4,
 "nbformat_minor": 2
}
