{
 "cells": [
  {
   "cell_type": "code",
   "execution_count": 1,
   "metadata": {},
   "outputs": [],
   "source": [
    "import pandas as pd\n",
    "df=pd.read_csv('Final_database_to_upload.csv')"
   ]
  },
  {
   "cell_type": "code",
   "execution_count": 2,
   "metadata": {},
   "outputs": [
    {
     "name": "stdout",
     "output_type": "stream",
     "text": [
      "Tags\n",
      "greedy                                     53\n",
      "dp                                         44\n",
      "math                                       37\n",
      "implementation                             29\n",
      "binary search                              20\n",
      "constructive algorithms                    19\n",
      "data structures                            15\n",
      "combinatorics                              11\n",
      "brute force                                11\n",
      "strings                                    11\n",
      "two pointers                                9\n",
      "number theory                               8\n",
      "sortings                                    7\n",
      "games                                       5\n",
      "bitmasks                                    4\n",
      "trees                                       3\n",
      "interactive                                 3\n",
      "graphs                                      1\n",
      "probabilities                               1\n",
      "flows                                       1\n",
      "divide and conquer                          1\n",
      "dfs and similar                             1\n",
      "schedules                                   1\n",
      "hashing                                     1\n",
      "constructive algorithms,data structures     1\n",
      "Name: count, dtype: int64\n"
     ]
    }
   ],
   "source": [
    "df['Tags'] = df['Tags'].str.split(', ')\n",
    "df = df.explode('Tags')\n",
    "\n",
    "tag_counts = df['Tags'].value_counts()\n",
    "\n",
    "print(tag_counts)\n",
    "\n",
    "\n",
    "\n",
    "\n",
    "\n"
   ]
  }
 ],
 "metadata": {
  "kernelspec": {
   "display_name": "Python 3",
   "language": "python",
   "name": "python3"
  },
  "language_info": {
   "codemirror_mode": {
    "name": "ipython",
    "version": 3
   },
   "file_extension": ".py",
   "mimetype": "text/x-python",
   "name": "python",
   "nbconvert_exporter": "python",
   "pygments_lexer": "ipython3",
   "version": "3.10.12"
  }
 },
 "nbformat": 4,
 "nbformat_minor": 2
}
