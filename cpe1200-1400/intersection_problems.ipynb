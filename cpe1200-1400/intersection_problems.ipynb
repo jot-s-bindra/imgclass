{
 "cells": [
  {
   "cell_type": "code",
   "execution_count": 1,
   "metadata": {},
   "outputs": [],
   "source": [
    "import pandas as pd\n",
    "import numpy as np"
   ]
  },
  {
   "cell_type": "code",
   "execution_count": 2,
   "metadata": {},
   "outputs": [],
   "source": [
    "df=pd.read_csv('combined_qns_solved.csv')"
   ]
  },
  {
   "cell_type": "code",
   "execution_count": 3,
   "metadata": {},
   "outputs": [
    {
     "data": {
      "text/html": [
       "<div>\n",
       "<style scoped>\n",
       "    .dataframe tbody tr th:only-of-type {\n",
       "        vertical-align: middle;\n",
       "    }\n",
       "\n",
       "    .dataframe tbody tr th {\n",
       "        vertical-align: top;\n",
       "    }\n",
       "\n",
       "    .dataframe thead th {\n",
       "        text-align: right;\n",
       "    }\n",
       "</style>\n",
       "<table border=\"1\" class=\"dataframe\">\n",
       "  <thead>\n",
       "    <tr style=\"text-align: right;\">\n",
       "      <th></th>\n",
       "      <th>Handle</th>\n",
       "      <th>Max Rating_x</th>\n",
       "      <th>Result</th>\n",
       "      <th>Solved Problems</th>\n",
       "      <th>Problem Count</th>\n",
       "    </tr>\n",
       "  </thead>\n",
       "  <tbody>\n",
       "    <tr>\n",
       "      <th>0</th>\n",
       "      <td>Sahil_32</td>\n",
       "      <td>1535.0</td>\n",
       "      <td>Yes</td>\n",
       "      <td>{(1742, 'F'), (1873, 'F'), (1736, 'C1'), (1675...</td>\n",
       "      <td>8</td>\n",
       "    </tr>\n",
       "    <tr>\n",
       "      <th>1</th>\n",
       "      <td>fightMaster001</td>\n",
       "      <td>1535.0</td>\n",
       "      <td>Yes</td>\n",
       "      <td>{(1805, 'C'), (1790, 'E'), (1860, 'C'), (1846,...</td>\n",
       "      <td>6</td>\n",
       "    </tr>\n",
       "    <tr>\n",
       "      <th>2</th>\n",
       "      <td>pt_dtu</td>\n",
       "      <td>1587.0</td>\n",
       "      <td>Yes</td>\n",
       "      <td>{(1851, 'D'), (1844, 'C'), (1825, 'C'), (1829,...</td>\n",
       "      <td>15</td>\n",
       "    </tr>\n",
       "    <tr>\n",
       "      <th>3</th>\n",
       "      <td>not_just_rr</td>\n",
       "      <td>1623.0</td>\n",
       "      <td>Yes</td>\n",
       "      <td>{(1400, 'C'), (1761, 'C'), (507, 'B'), (617, '...</td>\n",
       "      <td>198</td>\n",
       "    </tr>\n",
       "    <tr>\n",
       "      <th>4</th>\n",
       "      <td>Daoortor</td>\n",
       "      <td>1532.0</td>\n",
       "      <td>Yes</td>\n",
       "      <td>{(1879, 'C'), (1367, 'C')}</td>\n",
       "      <td>2</td>\n",
       "    </tr>\n",
       "  </tbody>\n",
       "</table>\n",
       "</div>"
      ],
      "text/plain": [
       "           Handle  Max Rating_x Result  \\\n",
       "0        Sahil_32        1535.0    Yes   \n",
       "1  fightMaster001        1535.0    Yes   \n",
       "2          pt_dtu        1587.0    Yes   \n",
       "3     not_just_rr        1623.0    Yes   \n",
       "4        Daoortor        1532.0    Yes   \n",
       "\n",
       "                                     Solved Problems  Problem Count  \n",
       "0  {(1742, 'F'), (1873, 'F'), (1736, 'C1'), (1675...              8  \n",
       "1  {(1805, 'C'), (1790, 'E'), (1860, 'C'), (1846,...              6  \n",
       "2  {(1851, 'D'), (1844, 'C'), (1825, 'C'), (1829,...             15  \n",
       "3  {(1400, 'C'), (1761, 'C'), (507, 'B'), (617, '...            198  \n",
       "4                         {(1879, 'C'), (1367, 'C')}              2  "
      ]
     },
     "execution_count": 3,
     "metadata": {},
     "output_type": "execute_result"
    }
   ],
   "source": [
    "df.head()"
   ]
  },
  {
   "cell_type": "code",
   "execution_count": 4,
   "metadata": {},
   "outputs": [
    {
     "data": {
      "text/plain": [
       "1338"
      ]
     },
     "execution_count": 4,
     "metadata": {},
     "output_type": "execute_result"
    }
   ],
   "source": [
    "df.shape[0]"
   ]
  },
  {
   "cell_type": "code",
   "execution_count": 5,
   "metadata": {},
   "outputs": [],
   "source": [
    "df= df[df[\"Problem Count\"] != 0]\n"
   ]
  },
  {
   "cell_type": "code",
   "execution_count": 6,
   "metadata": {},
   "outputs": [
    {
     "data": {
      "text/plain": [
       "1335"
      ]
     },
     "execution_count": 6,
     "metadata": {},
     "output_type": "execute_result"
    }
   ],
   "source": [
    "df.shape[0]"
   ]
  },
  {
   "cell_type": "code",
   "execution_count": 7,
   "metadata": {},
   "outputs": [
    {
     "name": "stdout",
     "output_type": "stream",
     "text": [
      "Defaulting to user installation because normal site-packages is not writeable\n",
      "Requirement already satisfied: matplotlib in /home/outbreakkp/.local/lib/python3.10/site-packages (3.8.0)\n",
      "Requirement already satisfied: fonttools>=4.22.0 in /home/outbreakkp/.local/lib/python3.10/site-packages (from matplotlib) (4.43.1)\n",
      "Requirement already satisfied: kiwisolver>=1.0.1 in /home/outbreakkp/.local/lib/python3.10/site-packages (from matplotlib) (1.4.5)\n",
      "Requirement already satisfied: packaging>=20.0 in /home/outbreakkp/.local/lib/python3.10/site-packages (from matplotlib) (23.2)\n",
      "Requirement already satisfied: python-dateutil>=2.7 in /home/outbreakkp/.local/lib/python3.10/site-packages (from matplotlib) (2.8.2)\n",
      "Requirement already satisfied: pyparsing>=2.3.1 in /home/outbreakkp/.local/lib/python3.10/site-packages (from matplotlib) (3.1.1)\n",
      "Requirement already satisfied: pillow>=6.2.0 in /home/outbreakkp/.local/lib/python3.10/site-packages (from matplotlib) (10.0.1)\n",
      "Requirement already satisfied: numpy<2,>=1.21 in /home/outbreakkp/.local/lib/python3.10/site-packages (from matplotlib) (1.26.0)\n",
      "Requirement already satisfied: contourpy>=1.0.1 in /home/outbreakkp/.local/lib/python3.10/site-packages (from matplotlib) (1.1.1)\n",
      "Requirement already satisfied: cycler>=0.10 in /home/outbreakkp/.local/lib/python3.10/site-packages (from matplotlib) (0.12.1)\n",
      "Requirement already satisfied: six>=1.5 in /usr/lib/python3/dist-packages (from python-dateutil>=2.7->matplotlib) (1.16.0)\n",
      "Note: you may need to restart the kernel to use updated packages.\n"
     ]
    }
   ],
   "source": [
    "pip install matplotlib"
   ]
  },
  {
   "cell_type": "code",
   "execution_count": 8,
   "metadata": {},
   "outputs": [
    {
     "ename": "ImportError",
     "evalue": "cannot import name 'docstring' from 'matplotlib' (/home/outbreakkp/.local/lib/python3.10/site-packages/matplotlib/__init__.py)",
     "output_type": "error",
     "traceback": [
      "\u001b[0;31m---------------------------------------------------------------------------\u001b[0m",
      "\u001b[0;31mImportError\u001b[0m                               Traceback (most recent call last)",
      "\u001b[1;32m/home/outbreakkp/Desktop/cpe1200-1400/intersection_problems.ipynb Cell 8\u001b[0m line \u001b[0;36m1\n\u001b[0;32m----> <a href='vscode-notebook-cell:/home/outbreakkp/Desktop/cpe1200-1400/intersection_problems.ipynb#X10sZmlsZQ%3D%3D?line=0'>1</a>\u001b[0m \u001b[39mimport\u001b[39;00m \u001b[39mmatplotlib\u001b[39;00m\u001b[39m.\u001b[39;00m\u001b[39mpyplot\u001b[39;00m \u001b[39mas\u001b[39;00m \u001b[39mplt\u001b[39;00m\n\u001b[1;32m      <a href='vscode-notebook-cell:/home/outbreakkp/Desktop/cpe1200-1400/intersection_problems.ipynb#X10sZmlsZQ%3D%3D?line=1'>2</a>\u001b[0m problem_count_counts \u001b[39m=\u001b[39m df[\u001b[39m\"\u001b[39m\u001b[39mProblem Count\u001b[39m\u001b[39m\"\u001b[39m]\u001b[39m.\u001b[39mvalue_counts()\u001b[39m.\u001b[39msort_index()\n\u001b[1;32m      <a href='vscode-notebook-cell:/home/outbreakkp/Desktop/cpe1200-1400/intersection_problems.ipynb#X10sZmlsZQ%3D%3D?line=3'>4</a>\u001b[0m problem_count_counts\u001b[39m.\u001b[39mplot(kind\u001b[39m=\u001b[39m\u001b[39m'\u001b[39m\u001b[39mbar\u001b[39m\u001b[39m'\u001b[39m, figsize\u001b[39m=\u001b[39m(\u001b[39m10\u001b[39m, \u001b[39m6\u001b[39m))\n",
      "File \u001b[0;32m~/.local/lib/python3.10/site-packages/matplotlib/pyplot.py:66\u001b[0m\n\u001b[1;32m     63\u001b[0m \u001b[39mfrom\u001b[39;00m \u001b[39mmatplotlib\u001b[39;00m \u001b[39mimport\u001b[39;00m _docstring\n\u001b[1;32m     64\u001b[0m \u001b[39mfrom\u001b[39;00m \u001b[39mmatplotlib\u001b[39;00m\u001b[39m.\u001b[39;00m\u001b[39mbackend_bases\u001b[39;00m \u001b[39mimport\u001b[39;00m (\n\u001b[1;32m     65\u001b[0m     FigureCanvasBase, FigureManagerBase, MouseButton)\n\u001b[0;32m---> 66\u001b[0m \u001b[39mfrom\u001b[39;00m \u001b[39mmatplotlib\u001b[39;00m\u001b[39m.\u001b[39;00m\u001b[39mfigure\u001b[39;00m \u001b[39mimport\u001b[39;00m Figure, FigureBase, figaspect\n\u001b[1;32m     67\u001b[0m \u001b[39mfrom\u001b[39;00m \u001b[39mmatplotlib\u001b[39;00m\u001b[39m.\u001b[39;00m\u001b[39mgridspec\u001b[39;00m \u001b[39mimport\u001b[39;00m GridSpec, SubplotSpec\n\u001b[1;32m     68\u001b[0m \u001b[39mfrom\u001b[39;00m \u001b[39mmatplotlib\u001b[39;00m \u001b[39mimport\u001b[39;00m rcsetup, rcParamsDefault, rcParamsOrig\n",
      "File \u001b[0;32m~/.local/lib/python3.10/site-packages/matplotlib/figure.py:43\u001b[0m\n\u001b[1;32m     40\u001b[0m \u001b[39mimport\u001b[39;00m \u001b[39mnumpy\u001b[39;00m \u001b[39mas\u001b[39;00m \u001b[39mnp\u001b[39;00m\n\u001b[1;32m     42\u001b[0m \u001b[39mimport\u001b[39;00m \u001b[39mmatplotlib\u001b[39;00m \u001b[39mas\u001b[39;00m \u001b[39mmpl\u001b[39;00m\n\u001b[0;32m---> 43\u001b[0m \u001b[39mfrom\u001b[39;00m \u001b[39mmatplotlib\u001b[39;00m \u001b[39mimport\u001b[39;00m _blocking_input, backend_bases, _docstring, projections\n\u001b[1;32m     44\u001b[0m \u001b[39mfrom\u001b[39;00m \u001b[39mmatplotlib\u001b[39;00m\u001b[39m.\u001b[39;00m\u001b[39martist\u001b[39;00m \u001b[39mimport\u001b[39;00m (\n\u001b[1;32m     45\u001b[0m     Artist, allow_rasterization, _finalize_rasterization)\n\u001b[1;32m     46\u001b[0m \u001b[39mfrom\u001b[39;00m \u001b[39mmatplotlib\u001b[39;00m\u001b[39m.\u001b[39;00m\u001b[39mbackend_bases\u001b[39;00m \u001b[39mimport\u001b[39;00m (\n\u001b[1;32m     47\u001b[0m     DrawEvent, FigureCanvasBase, NonGuiException, MouseButton, _get_renderer)\n",
      "File \u001b[0;32m~/.local/lib/python3.10/site-packages/matplotlib/projections/__init__.py:58\u001b[0m\n\u001b[1;32m     56\u001b[0m \u001b[39mfrom\u001b[39;00m \u001b[39m.\u001b[39;00m\u001b[39mgeo\u001b[39;00m \u001b[39mimport\u001b[39;00m AitoffAxes, HammerAxes, LambertAxes, MollweideAxes\n\u001b[1;32m     57\u001b[0m \u001b[39mfrom\u001b[39;00m \u001b[39m.\u001b[39;00m\u001b[39mpolar\u001b[39;00m \u001b[39mimport\u001b[39;00m PolarAxes\n\u001b[0;32m---> 58\u001b[0m \u001b[39mfrom\u001b[39;00m \u001b[39mmpl_toolkits\u001b[39;00m\u001b[39m.\u001b[39;00m\u001b[39mmplot3d\u001b[39;00m \u001b[39mimport\u001b[39;00m Axes3D\n\u001b[1;32m     61\u001b[0m \u001b[39mclass\u001b[39;00m \u001b[39mProjectionRegistry\u001b[39;00m:\n\u001b[1;32m     62\u001b[0m \u001b[39m    \u001b[39m\u001b[39m\"\"\"A mapping of registered projection names to projection classes.\"\"\"\u001b[39;00m\n",
      "File \u001b[0;32m/usr/lib/python3/dist-packages/mpl_toolkits/mplot3d/__init__.py:1\u001b[0m\n\u001b[0;32m----> 1\u001b[0m \u001b[39mfrom\u001b[39;00m \u001b[39m.\u001b[39;00m\u001b[39maxes3d\u001b[39;00m \u001b[39mimport\u001b[39;00m Axes3D\n",
      "File \u001b[0;32m/usr/lib/python3/dist-packages/mpl_toolkits/mplot3d/axes3d.py:23\u001b[0m\n\u001b[1;32m     19\u001b[0m \u001b[39mimport\u001b[39;00m \u001b[39mtextwrap\u001b[39;00m\n\u001b[1;32m     21\u001b[0m \u001b[39mimport\u001b[39;00m \u001b[39mnumpy\u001b[39;00m \u001b[39mas\u001b[39;00m \u001b[39mnp\u001b[39;00m\n\u001b[0;32m---> 23\u001b[0m \u001b[39mfrom\u001b[39;00m \u001b[39mmatplotlib\u001b[39;00m \u001b[39mimport\u001b[39;00m _api, cbook, docstring, _preprocess_data\n\u001b[1;32m     24\u001b[0m \u001b[39mimport\u001b[39;00m \u001b[39mmatplotlib\u001b[39;00m\u001b[39m.\u001b[39;00m\u001b[39martist\u001b[39;00m \u001b[39mas\u001b[39;00m \u001b[39mmartist\u001b[39;00m\n\u001b[1;32m     25\u001b[0m \u001b[39mimport\u001b[39;00m \u001b[39mmatplotlib\u001b[39;00m\u001b[39m.\u001b[39;00m\u001b[39maxes\u001b[39;00m \u001b[39mas\u001b[39;00m \u001b[39mmaxes\u001b[39;00m\n",
      "\u001b[0;31mImportError\u001b[0m: cannot import name 'docstring' from 'matplotlib' (/home/outbreakkp/.local/lib/python3.10/site-packages/matplotlib/__init__.py)"
     ]
    }
   ],
   "source": [
    "import matplotlib.pyplot as plt\n",
    "problem_count_counts = df[\"Problem Count\"].value_counts().sort_index()\n",
    "\n",
    "problem_count_counts.plot(kind='bar', figsize=(10, 6))\n",
    "plt.title(\"Variation in Problem Count\")\n",
    "plt.xlabel(\"Problem Count\")\n",
    "plt.ylabel(\"Frequency\")\n",
    "plt.show()"
   ]
  },
  {
   "cell_type": "code",
   "execution_count": 9,
   "metadata": {},
   "outputs": [
    {
     "name": "stdout",
     "output_type": "stream",
     "text": [
      "Problem (1879, 'C') has been solved 617 times.\n",
      "Problem (1870, 'C') has been solved 584 times.\n",
      "Problem (1864, 'C') has been solved 570 times.\n",
      "Problem (1867, 'C') has been solved 569 times.\n",
      "Problem (1860, 'C') has been solved 560 times.\n",
      "Problem (1862, 'D') has been solved 559 times.\n",
      "Problem (1857, 'D') has been solved 557 times.\n",
      "Problem (1844, 'C') has been solved 519 times.\n",
      "Problem (1858, 'B') has been solved 516 times.\n",
      "Problem (1845, 'C') has been solved 509 times.\n"
     ]
    }
   ],
   "source": [
    "import ast\n",
    "from collections import Counter\n",
    "\n",
    "\n",
    "df['Solved Problems'] = df['Solved Problems'].apply(lambda x: ast.literal_eval(x))\n",
    "\n",
    "solved_problems = [problem for problems_list in df['Solved Problems'] for problem in problems_list]\n",
    "\n",
    "problem_counts = Counter(solved_problems)\n",
    "\n",
    "top_10_common_problems = problem_counts.most_common(10)\n",
    "\n",
    "for problem, count in top_10_common_problems:\n",
    "    print(f\"Problem {problem} has been solved {count} times.\")\n"
   ]
  },
  {
   "cell_type": "code",
   "execution_count": null,
   "metadata": {},
   "outputs": [],
   "source": []
  }
 ],
 "metadata": {
  "kernelspec": {
   "display_name": "Python 3",
   "language": "python",
   "name": "python3"
  },
  "language_info": {
   "codemirror_mode": {
    "name": "ipython",
    "version": 3
   },
   "file_extension": ".py",
   "mimetype": "text/x-python",
   "name": "python",
   "nbconvert_exporter": "python",
   "pygments_lexer": "ipython3",
   "version": "3.10.12"
  }
 },
 "nbformat": 4,
 "nbformat_minor": 2
}
