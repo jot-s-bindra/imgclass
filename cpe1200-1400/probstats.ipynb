{
 "cells": [
  {
   "cell_type": "code",
   "execution_count": 1,
   "metadata": {},
   "outputs": [],
   "source": [
    "import pandas as pd\n",
    "import numpy as np\n",
    "\n",
    "df1=pd.read_csv('codeforces_problems2.csv')\n",
    "df2=pd.read_csv('problem_list.csv')"
   ]
  },
  {
   "cell_type": "code",
   "execution_count": 2,
   "metadata": {},
   "outputs": [
    {
     "data": {
      "text/html": [
       "<div>\n",
       "<style scoped>\n",
       "    .dataframe tbody tr th:only-of-type {\n",
       "        vertical-align: middle;\n",
       "    }\n",
       "\n",
       "    .dataframe tbody tr th {\n",
       "        vertical-align: top;\n",
       "    }\n",
       "\n",
       "    .dataframe thead th {\n",
       "        text-align: right;\n",
       "    }\n",
       "</style>\n",
       "<table border=\"1\" class=\"dataframe\">\n",
       "  <thead>\n",
       "    <tr style=\"text-align: right;\">\n",
       "      <th></th>\n",
       "      <th>Problem</th>\n",
       "      <th>Contest</th>\n",
       "      <th>Index</th>\n",
       "      <th>Tags</th>\n",
       "    </tr>\n",
       "  </thead>\n",
       "  <tbody>\n",
       "    <tr>\n",
       "      <th>0</th>\n",
       "      <td>Make it Alternating</td>\n",
       "      <td>1879</td>\n",
       "      <td>C</td>\n",
       "      <td>combinatorics, dp, greedy</td>\n",
       "    </tr>\n",
       "    <tr>\n",
       "      <th>1</th>\n",
       "      <td>ABBC or BACB</td>\n",
       "      <td>1873</td>\n",
       "      <td>G</td>\n",
       "      <td>constructive algorithms, greedy</td>\n",
       "    </tr>\n",
       "    <tr>\n",
       "      <th>2</th>\n",
       "      <td>Money Trees</td>\n",
       "      <td>1873</td>\n",
       "      <td>F</td>\n",
       "      <td>binary search, greedy, math, two pointers</td>\n",
       "    </tr>\n",
       "    <tr>\n",
       "      <th>3</th>\n",
       "      <td>Data Structures Fan</td>\n",
       "      <td>1872</td>\n",
       "      <td>E</td>\n",
       "      <td>binary search, bitmasks, data structures, dp</td>\n",
       "    </tr>\n",
       "    <tr>\n",
       "      <th>4</th>\n",
       "      <td>Colorful Table</td>\n",
       "      <td>1870</td>\n",
       "      <td>C</td>\n",
       "      <td>binary search, data structures, dp, implementa...</td>\n",
       "    </tr>\n",
       "  </tbody>\n",
       "</table>\n",
       "</div>"
      ],
      "text/plain": [
       "               Problem  Contest Index  \\\n",
       "0  Make it Alternating     1879     C   \n",
       "1         ABBC or BACB     1873     G   \n",
       "2          Money Trees     1873     F   \n",
       "3  Data Structures Fan     1872     E   \n",
       "4       Colorful Table     1870     C   \n",
       "\n",
       "                                                Tags  \n",
       "0                          combinatorics, dp, greedy  \n",
       "1                    constructive algorithms, greedy  \n",
       "2          binary search, greedy, math, two pointers  \n",
       "3       binary search, bitmasks, data structures, dp  \n",
       "4  binary search, data structures, dp, implementa...  "
      ]
     },
     "execution_count": 2,
     "metadata": {},
     "output_type": "execute_result"
    }
   ],
   "source": [
    "df1.head()"
   ]
  },
  {
   "cell_type": "code",
   "execution_count": 3,
   "metadata": {},
   "outputs": [
    {
     "data": {
      "text/html": [
       "<div>\n",
       "<style scoped>\n",
       "    .dataframe tbody tr th:only-of-type {\n",
       "        vertical-align: middle;\n",
       "    }\n",
       "\n",
       "    .dataframe tbody tr th {\n",
       "        vertical-align: top;\n",
       "    }\n",
       "\n",
       "    .dataframe thead th {\n",
       "        text-align: right;\n",
       "    }\n",
       "</style>\n",
       "<table border=\"1\" class=\"dataframe\">\n",
       "  <thead>\n",
       "    <tr style=\"text-align: right;\">\n",
       "      <th></th>\n",
       "      <th>contestId</th>\n",
       "      <th>index</th>\n",
       "      <th>solvedCount</th>\n",
       "    </tr>\n",
       "  </thead>\n",
       "  <tbody>\n",
       "    <tr>\n",
       "      <th>0</th>\n",
       "      <td>1887</td>\n",
       "      <td>F</td>\n",
       "      <td>56</td>\n",
       "    </tr>\n",
       "    <tr>\n",
       "      <th>1</th>\n",
       "      <td>1887</td>\n",
       "      <td>E</td>\n",
       "      <td>128</td>\n",
       "    </tr>\n",
       "    <tr>\n",
       "      <th>2</th>\n",
       "      <td>1887</td>\n",
       "      <td>D</td>\n",
       "      <td>443</td>\n",
       "    </tr>\n",
       "    <tr>\n",
       "      <th>3</th>\n",
       "      <td>1887</td>\n",
       "      <td>C</td>\n",
       "      <td>899</td>\n",
       "    </tr>\n",
       "    <tr>\n",
       "      <th>4</th>\n",
       "      <td>1887</td>\n",
       "      <td>B</td>\n",
       "      <td>1612</td>\n",
       "    </tr>\n",
       "  </tbody>\n",
       "</table>\n",
       "</div>"
      ],
      "text/plain": [
       "   contestId index  solvedCount\n",
       "0       1887     F           56\n",
       "1       1887     E          128\n",
       "2       1887     D          443\n",
       "3       1887     C          899\n",
       "4       1887     B         1612"
      ]
     },
     "execution_count": 3,
     "metadata": {},
     "output_type": "execute_result"
    }
   ],
   "source": [
    "df2.head()"
   ]
  },
  {
   "cell_type": "code",
   "execution_count": 4,
   "metadata": {},
   "outputs": [],
   "source": [
    "df1.columns=['Problem','Contest','Index','Tags']\n",
    "df2.columns = ['Contest', 'Index','solvedCount']"
   ]
  },
  {
   "cell_type": "code",
   "execution_count": 5,
   "metadata": {},
   "outputs": [
    {
     "data": {
      "text/html": [
       "<div>\n",
       "<style scoped>\n",
       "    .dataframe tbody tr th:only-of-type {\n",
       "        vertical-align: middle;\n",
       "    }\n",
       "\n",
       "    .dataframe tbody tr th {\n",
       "        vertical-align: top;\n",
       "    }\n",
       "\n",
       "    .dataframe thead th {\n",
       "        text-align: right;\n",
       "    }\n",
       "</style>\n",
       "<table border=\"1\" class=\"dataframe\">\n",
       "  <thead>\n",
       "    <tr style=\"text-align: right;\">\n",
       "      <th></th>\n",
       "      <th>Problem</th>\n",
       "      <th>Contest</th>\n",
       "      <th>Index</th>\n",
       "      <th>Tags</th>\n",
       "    </tr>\n",
       "  </thead>\n",
       "  <tbody>\n",
       "    <tr>\n",
       "      <th>0</th>\n",
       "      <td>Make it Alternating</td>\n",
       "      <td>1879</td>\n",
       "      <td>C</td>\n",
       "      <td>combinatorics, dp, greedy</td>\n",
       "    </tr>\n",
       "    <tr>\n",
       "      <th>1</th>\n",
       "      <td>ABBC or BACB</td>\n",
       "      <td>1873</td>\n",
       "      <td>G</td>\n",
       "      <td>constructive algorithms, greedy</td>\n",
       "    </tr>\n",
       "    <tr>\n",
       "      <th>2</th>\n",
       "      <td>Money Trees</td>\n",
       "      <td>1873</td>\n",
       "      <td>F</td>\n",
       "      <td>binary search, greedy, math, two pointers</td>\n",
       "    </tr>\n",
       "    <tr>\n",
       "      <th>3</th>\n",
       "      <td>Data Structures Fan</td>\n",
       "      <td>1872</td>\n",
       "      <td>E</td>\n",
       "      <td>binary search, bitmasks, data structures, dp</td>\n",
       "    </tr>\n",
       "    <tr>\n",
       "      <th>4</th>\n",
       "      <td>Colorful Table</td>\n",
       "      <td>1870</td>\n",
       "      <td>C</td>\n",
       "      <td>binary search, data structures, dp, implementa...</td>\n",
       "    </tr>\n",
       "  </tbody>\n",
       "</table>\n",
       "</div>"
      ],
      "text/plain": [
       "               Problem  Contest Index  \\\n",
       "0  Make it Alternating     1879     C   \n",
       "1         ABBC or BACB     1873     G   \n",
       "2          Money Trees     1873     F   \n",
       "3  Data Structures Fan     1872     E   \n",
       "4       Colorful Table     1870     C   \n",
       "\n",
       "                                                Tags  \n",
       "0                          combinatorics, dp, greedy  \n",
       "1                    constructive algorithms, greedy  \n",
       "2          binary search, greedy, math, two pointers  \n",
       "3       binary search, bitmasks, data structures, dp  \n",
       "4  binary search, data structures, dp, implementa...  "
      ]
     },
     "execution_count": 5,
     "metadata": {},
     "output_type": "execute_result"
    }
   ],
   "source": [
    "df1.head()"
   ]
  },
  {
   "cell_type": "code",
   "execution_count": 6,
   "metadata": {},
   "outputs": [
    {
     "data": {
      "text/html": [
       "<div>\n",
       "<style scoped>\n",
       "    .dataframe tbody tr th:only-of-type {\n",
       "        vertical-align: middle;\n",
       "    }\n",
       "\n",
       "    .dataframe tbody tr th {\n",
       "        vertical-align: top;\n",
       "    }\n",
       "\n",
       "    .dataframe thead th {\n",
       "        text-align: right;\n",
       "    }\n",
       "</style>\n",
       "<table border=\"1\" class=\"dataframe\">\n",
       "  <thead>\n",
       "    <tr style=\"text-align: right;\">\n",
       "      <th></th>\n",
       "      <th>Contest</th>\n",
       "      <th>Index</th>\n",
       "      <th>solvedCount</th>\n",
       "    </tr>\n",
       "  </thead>\n",
       "  <tbody>\n",
       "    <tr>\n",
       "      <th>0</th>\n",
       "      <td>1887</td>\n",
       "      <td>F</td>\n",
       "      <td>56</td>\n",
       "    </tr>\n",
       "    <tr>\n",
       "      <th>1</th>\n",
       "      <td>1887</td>\n",
       "      <td>E</td>\n",
       "      <td>128</td>\n",
       "    </tr>\n",
       "    <tr>\n",
       "      <th>2</th>\n",
       "      <td>1887</td>\n",
       "      <td>D</td>\n",
       "      <td>443</td>\n",
       "    </tr>\n",
       "    <tr>\n",
       "      <th>3</th>\n",
       "      <td>1887</td>\n",
       "      <td>C</td>\n",
       "      <td>899</td>\n",
       "    </tr>\n",
       "    <tr>\n",
       "      <th>4</th>\n",
       "      <td>1887</td>\n",
       "      <td>B</td>\n",
       "      <td>1612</td>\n",
       "    </tr>\n",
       "  </tbody>\n",
       "</table>\n",
       "</div>"
      ],
      "text/plain": [
       "   Contest Index  solvedCount\n",
       "0     1887     F           56\n",
       "1     1887     E          128\n",
       "2     1887     D          443\n",
       "3     1887     C          899\n",
       "4     1887     B         1612"
      ]
     },
     "execution_count": 6,
     "metadata": {},
     "output_type": "execute_result"
    }
   ],
   "source": [
    "df2.head()"
   ]
  },
  {
   "cell_type": "code",
   "execution_count": 7,
   "metadata": {},
   "outputs": [],
   "source": [
    "merged_df = df1.merge(df2, on=['Contest', 'Index'], how='inner')"
   ]
  },
  {
   "cell_type": "code",
   "execution_count": 8,
   "metadata": {},
   "outputs": [
    {
     "data": {
      "text/html": [
       "<div>\n",
       "<style scoped>\n",
       "    .dataframe tbody tr th:only-of-type {\n",
       "        vertical-align: middle;\n",
       "    }\n",
       "\n",
       "    .dataframe tbody tr th {\n",
       "        vertical-align: top;\n",
       "    }\n",
       "\n",
       "    .dataframe thead th {\n",
       "        text-align: right;\n",
       "    }\n",
       "</style>\n",
       "<table border=\"1\" class=\"dataframe\">\n",
       "  <thead>\n",
       "    <tr style=\"text-align: right;\">\n",
       "      <th></th>\n",
       "      <th>Problem</th>\n",
       "      <th>Contest</th>\n",
       "      <th>Index</th>\n",
       "      <th>Tags</th>\n",
       "      <th>solvedCount</th>\n",
       "    </tr>\n",
       "  </thead>\n",
       "  <tbody>\n",
       "    <tr>\n",
       "      <th>0</th>\n",
       "      <td>Make it Alternating</td>\n",
       "      <td>1879</td>\n",
       "      <td>C</td>\n",
       "      <td>combinatorics, dp, greedy</td>\n",
       "      <td>11944</td>\n",
       "    </tr>\n",
       "    <tr>\n",
       "      <th>1</th>\n",
       "      <td>ABBC or BACB</td>\n",
       "      <td>1873</td>\n",
       "      <td>G</td>\n",
       "      <td>constructive algorithms, greedy</td>\n",
       "      <td>8805</td>\n",
       "    </tr>\n",
       "    <tr>\n",
       "      <th>2</th>\n",
       "      <td>Money Trees</td>\n",
       "      <td>1873</td>\n",
       "      <td>F</td>\n",
       "      <td>binary search, greedy, math, two pointers</td>\n",
       "      <td>10644</td>\n",
       "    </tr>\n",
       "    <tr>\n",
       "      <th>3</th>\n",
       "      <td>Data Structures Fan</td>\n",
       "      <td>1872</td>\n",
       "      <td>E</td>\n",
       "      <td>binary search, bitmasks, data structures, dp</td>\n",
       "      <td>9711</td>\n",
       "    </tr>\n",
       "    <tr>\n",
       "      <th>4</th>\n",
       "      <td>Colorful Table</td>\n",
       "      <td>1870</td>\n",
       "      <td>C</td>\n",
       "      <td>binary search, data structures, dp, implementa...</td>\n",
       "      <td>9117</td>\n",
       "    </tr>\n",
       "  </tbody>\n",
       "</table>\n",
       "</div>"
      ],
      "text/plain": [
       "               Problem  Contest Index  \\\n",
       "0  Make it Alternating     1879     C   \n",
       "1         ABBC or BACB     1873     G   \n",
       "2          Money Trees     1873     F   \n",
       "3  Data Structures Fan     1872     E   \n",
       "4       Colorful Table     1870     C   \n",
       "\n",
       "                                                Tags  solvedCount  \n",
       "0                          combinatorics, dp, greedy        11944  \n",
       "1                    constructive algorithms, greedy         8805  \n",
       "2          binary search, greedy, math, two pointers        10644  \n",
       "3       binary search, bitmasks, data structures, dp         9711  \n",
       "4  binary search, data structures, dp, implementa...         9117  "
      ]
     },
     "execution_count": 8,
     "metadata": {},
     "output_type": "execute_result"
    }
   ],
   "source": [
    "merged_df.head()"
   ]
  },
  {
   "cell_type": "code",
   "execution_count": 9,
   "metadata": {},
   "outputs": [
    {
     "data": {
      "text/plain": [
       "1136"
      ]
     },
     "execution_count": 9,
     "metadata": {},
     "output_type": "execute_result"
    }
   ],
   "source": [
    "merged_df.shape[0]"
   ]
  },
  {
   "cell_type": "code",
   "execution_count": 10,
   "metadata": {},
   "outputs": [],
   "source": [
    "merged_df.to_csv('FinalDatabase1200to1400.csv',index=False)"
   ]
  },
  {
   "cell_type": "code",
   "execution_count": null,
   "metadata": {},
   "outputs": [],
   "source": []
  }
 ],
 "metadata": {
  "kernelspec": {
   "display_name": "Python 3",
   "language": "python",
   "name": "python3"
  },
  "language_info": {
   "codemirror_mode": {
    "name": "ipython",
    "version": 3
   },
   "file_extension": ".py",
   "mimetype": "text/x-python",
   "name": "python",
   "nbconvert_exporter": "python",
   "pygments_lexer": "ipython3",
   "version": "3.10.12"
  }
 },
 "nbformat": 4,
 "nbformat_minor": 2
}
