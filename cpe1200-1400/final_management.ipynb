{
 "cells": [
  {
   "cell_type": "code",
   "execution_count": 1,
   "metadata": {},
   "outputs": [],
   "source": [
    "import pandas as pd"
   ]
  },
  {
   "cell_type": "code",
   "execution_count": 2,
   "metadata": {},
   "outputs": [],
   "source": [
    "df=pd.read_csv('FinalDatabase1200to1400.csv')"
   ]
  },
  {
   "cell_type": "code",
   "execution_count": 4,
   "metadata": {},
   "outputs": [
    {
     "name": "stdout",
     "output_type": "stream",
     "text": [
      "Problem              Make it Alternating\n",
      "Contest                             1879\n",
      "Index                                  C\n",
      "Tags           combinatorics, dp, greedy\n",
      "solvedCount                        11944\n",
      "Name: 0, dtype: object\n"
     ]
    }
   ],
   "source": [
    "row_2498 = df.iloc[0]\n",
    "\n",
    "print(row_2498)"
   ]
  },
  {
   "cell_type": "code",
   "execution_count": 5,
   "metadata": {},
   "outputs": [],
   "source": [
    "rows_to_keep = [0,69,427,24,470,429,93,111,402,324,4,269,905,106,96,220,3,607,801,416,6,211,275,383,485,394,43,399,117,510,11,332,416,93,402,24,429,111,545,627,10,249,64,724,53,213,250,170,44,306,14,13,387,490,842,403,925,184,89,17,24,429,111,156,93,402,465,545,243,370,12,606,791,618,507,46,132,20,147,271,22,331,201,727,243,233,137,513,187,154]\n",
    "df = df[df.index.isin(rows_to_keep)]\n"
   ]
  },
  {
   "cell_type": "code",
   "execution_count": 6,
   "metadata": {},
   "outputs": [
    {
     "data": {
      "text/plain": [
       "77"
      ]
     },
     "execution_count": 6,
     "metadata": {},
     "output_type": "execute_result"
    }
   ],
   "source": [
    "df.shape[0]"
   ]
  },
  {
   "cell_type": "code",
   "execution_count": 7,
   "metadata": {},
   "outputs": [
    {
     "data": {
      "text/html": [
       "<div>\n",
       "<style scoped>\n",
       "    .dataframe tbody tr th:only-of-type {\n",
       "        vertical-align: middle;\n",
       "    }\n",
       "\n",
       "    .dataframe tbody tr th {\n",
       "        vertical-align: top;\n",
       "    }\n",
       "\n",
       "    .dataframe thead th {\n",
       "        text-align: right;\n",
       "    }\n",
       "</style>\n",
       "<table border=\"1\" class=\"dataframe\">\n",
       "  <thead>\n",
       "    <tr style=\"text-align: right;\">\n",
       "      <th></th>\n",
       "      <th>Problem</th>\n",
       "      <th>Contest</th>\n",
       "      <th>Index</th>\n",
       "      <th>Tags</th>\n",
       "      <th>solvedCount</th>\n",
       "    </tr>\n",
       "  </thead>\n",
       "  <tbody>\n",
       "    <tr>\n",
       "      <th>0</th>\n",
       "      <td>Make it Alternating</td>\n",
       "      <td>1879</td>\n",
       "      <td>C</td>\n",
       "      <td>combinatorics, dp, greedy</td>\n",
       "      <td>11944</td>\n",
       "    </tr>\n",
       "    <tr>\n",
       "      <th>3</th>\n",
       "      <td>Data Structures Fan</td>\n",
       "      <td>1872</td>\n",
       "      <td>E</td>\n",
       "      <td>binary search, bitmasks, data structures, dp</td>\n",
       "      <td>9711</td>\n",
       "    </tr>\n",
       "    <tr>\n",
       "      <th>4</th>\n",
       "      <td>Colorful Table</td>\n",
       "      <td>1870</td>\n",
       "      <td>C</td>\n",
       "      <td>binary search, data structures, dp, implementa...</td>\n",
       "      <td>9117</td>\n",
       "    </tr>\n",
       "    <tr>\n",
       "      <th>6</th>\n",
       "      <td>Salyg1n and the MEX Game</td>\n",
       "      <td>1867</td>\n",
       "      <td>C</td>\n",
       "      <td>constructive algorithms, data structures, game...</td>\n",
       "      <td>9436</td>\n",
       "    </tr>\n",
       "    <tr>\n",
       "      <th>10</th>\n",
       "      <td>Ice Cream Balls</td>\n",
       "      <td>1862</td>\n",
       "      <td>D</td>\n",
       "      <td>binary search, combinatorics, constructive alg...</td>\n",
       "      <td>14085</td>\n",
       "    </tr>\n",
       "  </tbody>\n",
       "</table>\n",
       "</div>"
      ],
      "text/plain": [
       "                     Problem  Contest Index  \\\n",
       "0        Make it Alternating     1879     C   \n",
       "3        Data Structures Fan     1872     E   \n",
       "4             Colorful Table     1870     C   \n",
       "6   Salyg1n and the MEX Game     1867     C   \n",
       "10           Ice Cream Balls     1862     D   \n",
       "\n",
       "                                                 Tags  solvedCount  \n",
       "0                           combinatorics, dp, greedy        11944  \n",
       "3        binary search, bitmasks, data structures, dp         9711  \n",
       "4   binary search, data structures, dp, implementa...         9117  \n",
       "6   constructive algorithms, data structures, game...         9436  \n",
       "10  binary search, combinatorics, constructive alg...        14085  "
      ]
     },
     "execution_count": 7,
     "metadata": {},
     "output_type": "execute_result"
    }
   ],
   "source": [
    "df.head()"
   ]
  },
  {
   "cell_type": "code",
   "execution_count": 8,
   "metadata": {},
   "outputs": [],
   "source": [
    "df.to_csv('Final_database_to_upload.csv',index=False)"
   ]
  },
  {
   "cell_type": "code",
   "execution_count": 9,
   "metadata": {},
   "outputs": [],
   "source": [
    "df=pd.read_csv('Final_database_to_upload.csv')"
   ]
  },
  {
   "cell_type": "code",
   "execution_count": 10,
   "metadata": {},
   "outputs": [
    {
     "data": {
      "text/plain": [
       "87"
      ]
     },
     "execution_count": 10,
     "metadata": {},
     "output_type": "execute_result"
    }
   ],
   "source": [
    "df.shape[0]"
   ]
  },
  {
   "cell_type": "code",
   "execution_count": 11,
   "metadata": {},
   "outputs": [
    {
     "data": {
      "text/html": [
       "<div>\n",
       "<style scoped>\n",
       "    .dataframe tbody tr th:only-of-type {\n",
       "        vertical-align: middle;\n",
       "    }\n",
       "\n",
       "    .dataframe tbody tr th {\n",
       "        vertical-align: top;\n",
       "    }\n",
       "\n",
       "    .dataframe thead th {\n",
       "        text-align: right;\n",
       "    }\n",
       "</style>\n",
       "<table border=\"1\" class=\"dataframe\">\n",
       "  <thead>\n",
       "    <tr style=\"text-align: right;\">\n",
       "      <th></th>\n",
       "      <th>Problem</th>\n",
       "      <th>Contest</th>\n",
       "      <th>Index</th>\n",
       "      <th>Tags</th>\n",
       "      <th>solvedCount</th>\n",
       "    </tr>\n",
       "  </thead>\n",
       "  <tbody>\n",
       "    <tr>\n",
       "      <th>0</th>\n",
       "      <td>Make it Alternating</td>\n",
       "      <td>1879</td>\n",
       "      <td>C</td>\n",
       "      <td>combinatorics, dp, greedy</td>\n",
       "      <td>11944</td>\n",
       "    </tr>\n",
       "    <tr>\n",
       "      <th>1</th>\n",
       "      <td>Data Structures Fan</td>\n",
       "      <td>1872</td>\n",
       "      <td>E</td>\n",
       "      <td>binary search, bitmasks, data structures, dp</td>\n",
       "      <td>9711</td>\n",
       "    </tr>\n",
       "    <tr>\n",
       "      <th>2</th>\n",
       "      <td>Colorful Table</td>\n",
       "      <td>1870</td>\n",
       "      <td>C</td>\n",
       "      <td>binary search, data structures, dp, implementa...</td>\n",
       "      <td>9117</td>\n",
       "    </tr>\n",
       "    <tr>\n",
       "      <th>3</th>\n",
       "      <td>Salyg1n and the MEX Game</td>\n",
       "      <td>1867</td>\n",
       "      <td>C</td>\n",
       "      <td>constructive algorithms, data structures, game...</td>\n",
       "      <td>9436</td>\n",
       "    </tr>\n",
       "    <tr>\n",
       "      <th>4</th>\n",
       "      <td>Ice Cream Balls</td>\n",
       "      <td>1862</td>\n",
       "      <td>D</td>\n",
       "      <td>binary search, combinatorics, constructive alg...</td>\n",
       "      <td>14085</td>\n",
       "    </tr>\n",
       "  </tbody>\n",
       "</table>\n",
       "</div>"
      ],
      "text/plain": [
       "                    Problem  Contest Index  \\\n",
       "0       Make it Alternating     1879     C   \n",
       "1       Data Structures Fan     1872     E   \n",
       "2            Colorful Table     1870     C   \n",
       "3  Salyg1n and the MEX Game     1867     C   \n",
       "4           Ice Cream Balls     1862     D   \n",
       "\n",
       "                                                Tags  solvedCount  \n",
       "0                          combinatorics, dp, greedy        11944  \n",
       "1       binary search, bitmasks, data structures, dp         9711  \n",
       "2  binary search, data structures, dp, implementa...         9117  \n",
       "3  constructive algorithms, data structures, game...         9436  \n",
       "4  binary search, combinatorics, constructive alg...        14085  "
      ]
     },
     "execution_count": 11,
     "metadata": {},
     "output_type": "execute_result"
    }
   ],
   "source": [
    "df.head()"
   ]
  },
  {
   "cell_type": "code",
   "execution_count": 12,
   "metadata": {},
   "outputs": [
    {
     "data": {
      "text/html": [
       "<div>\n",
       "<style scoped>\n",
       "    .dataframe tbody tr th:only-of-type {\n",
       "        vertical-align: middle;\n",
       "    }\n",
       "\n",
       "    .dataframe tbody tr th {\n",
       "        vertical-align: top;\n",
       "    }\n",
       "\n",
       "    .dataframe thead th {\n",
       "        text-align: right;\n",
       "    }\n",
       "</style>\n",
       "<table border=\"1\" class=\"dataframe\">\n",
       "  <thead>\n",
       "    <tr style=\"text-align: right;\">\n",
       "      <th></th>\n",
       "      <th>Problem</th>\n",
       "      <th>Contest</th>\n",
       "      <th>Index</th>\n",
       "      <th>Tags</th>\n",
       "      <th>solvedCount</th>\n",
       "    </tr>\n",
       "  </thead>\n",
       "  <tbody>\n",
       "    <tr>\n",
       "      <th>82</th>\n",
       "      <td>Ice Cream Balls</td>\n",
       "      <td>1862</td>\n",
       "      <td>D</td>\n",
       "      <td>binary search, combinatorics, constructive alg...</td>\n",
       "      <td>14086</td>\n",
       "    </tr>\n",
       "    <tr>\n",
       "      <th>83</th>\n",
       "      <td>Strong Vertices</td>\n",
       "      <td>1857</td>\n",
       "      <td>D</td>\n",
       "      <td>math, sortings, trees</td>\n",
       "      <td>15716</td>\n",
       "    </tr>\n",
       "    <tr>\n",
       "      <th>84</th>\n",
       "      <td>Particles</td>\n",
       "      <td>1844</td>\n",
       "      <td>C</td>\n",
       "      <td>dp, greedy, implementation, math</td>\n",
       "      <td>13387</td>\n",
       "    </tr>\n",
       "    <tr>\n",
       "      <th>85</th>\n",
       "      <td>The Walkway</td>\n",
       "      <td>1858</td>\n",
       "      <td>B</td>\n",
       "      <td>brute force, dp, greedy, math, number theory</td>\n",
       "      <td>9448</td>\n",
       "    </tr>\n",
       "    <tr>\n",
       "      <th>86</th>\n",
       "      <td>Strong Password</td>\n",
       "      <td>1845</td>\n",
       "      <td>C</td>\n",
       "      <td>binary search, dp, greedy, strings</td>\n",
       "      <td>11862</td>\n",
       "    </tr>\n",
       "  </tbody>\n",
       "</table>\n",
       "</div>"
      ],
      "text/plain": [
       "            Problem  Contest Index  \\\n",
       "82  Ice Cream Balls     1862     D   \n",
       "83  Strong Vertices     1857     D   \n",
       "84        Particles     1844     C   \n",
       "85      The Walkway     1858     B   \n",
       "86  Strong Password     1845     C   \n",
       "\n",
       "                                                 Tags  solvedCount  \n",
       "82  binary search, combinatorics, constructive alg...        14086  \n",
       "83                              math, sortings, trees        15716  \n",
       "84                   dp, greedy, implementation, math        13387  \n",
       "85       brute force, dp, greedy, math, number theory         9448  \n",
       "86                 binary search, dp, greedy, strings        11862  "
      ]
     },
     "execution_count": 12,
     "metadata": {},
     "output_type": "execute_result"
    }
   ],
   "source": [
    "df.tail()"
   ]
  },
  {
   "cell_type": "code",
   "execution_count": 13,
   "metadata": {},
   "outputs": [],
   "source": [
    "df = df.sort_values(by='solvedCount', ascending=False)"
   ]
  },
  {
   "cell_type": "code",
   "execution_count": 14,
   "metadata": {},
   "outputs": [
    {
     "data": {
      "text/html": [
       "<div>\n",
       "<style scoped>\n",
       "    .dataframe tbody tr th:only-of-type {\n",
       "        vertical-align: middle;\n",
       "    }\n",
       "\n",
       "    .dataframe tbody tr th {\n",
       "        vertical-align: top;\n",
       "    }\n",
       "\n",
       "    .dataframe thead th {\n",
       "        text-align: right;\n",
       "    }\n",
       "</style>\n",
       "<table border=\"1\" class=\"dataframe\">\n",
       "  <thead>\n",
       "    <tr style=\"text-align: right;\">\n",
       "      <th></th>\n",
       "      <th>Problem</th>\n",
       "      <th>Contest</th>\n",
       "      <th>Index</th>\n",
       "      <th>Tags</th>\n",
       "      <th>solvedCount</th>\n",
       "    </tr>\n",
       "  </thead>\n",
       "  <tbody>\n",
       "    <tr>\n",
       "      <th>64</th>\n",
       "      <td>Equalize</td>\n",
       "      <td>1037</td>\n",
       "      <td>C</td>\n",
       "      <td>dp, greedy, strings</td>\n",
       "      <td>17663</td>\n",
       "    </tr>\n",
       "    <tr>\n",
       "      <th>26</th>\n",
       "      <td>Get an Even String</td>\n",
       "      <td>1660</td>\n",
       "      <td>C</td>\n",
       "      <td>dp, greedy, strings</td>\n",
       "      <td>17631</td>\n",
       "    </tr>\n",
       "    <tr>\n",
       "      <th>40</th>\n",
       "      <td>Two Round Dances</td>\n",
       "      <td>1433</td>\n",
       "      <td>E</td>\n",
       "      <td>combinatorics, math</td>\n",
       "      <td>17296</td>\n",
       "    </tr>\n",
       "    <tr>\n",
       "      <th>29</th>\n",
       "      <td>Array and Operations</td>\n",
       "      <td>1618</td>\n",
       "      <td>D</td>\n",
       "      <td>dp, greedy, math</td>\n",
       "      <td>17171</td>\n",
       "    </tr>\n",
       "    <tr>\n",
       "      <th>43</th>\n",
       "      <td>Binary String To Subsequences</td>\n",
       "      <td>1399</td>\n",
       "      <td>D</td>\n",
       "      <td>constructive algorithms, data structures, gree...</td>\n",
       "      <td>16929</td>\n",
       "    </tr>\n",
       "  </tbody>\n",
       "</table>\n",
       "</div>"
      ],
      "text/plain": [
       "                          Problem  Contest Index  \\\n",
       "64                       Equalize     1037     C   \n",
       "26             Get an Even String     1660     C   \n",
       "40               Two Round Dances     1433     E   \n",
       "29           Array and Operations     1618     D   \n",
       "43  Binary String To Subsequences     1399     D   \n",
       "\n",
       "                                                 Tags  solvedCount  \n",
       "64                                dp, greedy, strings        17663  \n",
       "26                                dp, greedy, strings        17631  \n",
       "40                                combinatorics, math        17296  \n",
       "29                                   dp, greedy, math        17171  \n",
       "43  constructive algorithms, data structures, gree...        16929  "
      ]
     },
     "execution_count": 14,
     "metadata": {},
     "output_type": "execute_result"
    }
   ],
   "source": [
    "df.head()"
   ]
  },
  {
   "cell_type": "code",
   "execution_count": 15,
   "metadata": {},
   "outputs": [],
   "source": [
    "df.to_csv('Final_database_to_upload.csv',index=False)"
   ]
  },
  {
   "cell_type": "code",
   "execution_count": 16,
   "metadata": {},
   "outputs": [
    {
     "name": "stdout",
     "output_type": "stream",
     "text": [
      "https://codeforces.com/problemset/problem/1037/C\n",
      "https://codeforces.com/problemset/problem/1660/C\n",
      "https://codeforces.com/problemset/problem/1433/E\n",
      "https://codeforces.com/problemset/problem/1618/D\n",
      "https://codeforces.com/problemset/problem/1399/D\n",
      "https://codeforces.com/problemset/problem/1355/D\n",
      "https://codeforces.com/problemset/problem/1466/C\n",
      "https://codeforces.com/problemset/problem/1407/B\n",
      "https://codeforces.com/problemset/problem/1857/D\n",
      "https://codeforces.com/problemset/problem/1857/D\n",
      "https://codeforces.com/problemset/problem/1515/C\n",
      "https://codeforces.com/problemset/problem/1535/C\n",
      "https://codeforces.com/problemset/problem/1624/D\n",
      "https://codeforces.com/problemset/problem/1326/C\n",
      "https://codeforces.com/problemset/problem/1492/C\n",
      "https://codeforces.com/problemset/problem/1451/C\n",
      "https://codeforces.com/problemset/problem/1108/D\n",
      "https://codeforces.com/problemset/problem/1862/D\n",
      "https://codeforces.com/problemset/problem/1862/D\n",
      "https://codeforces.com/problemset/problem/1077/C\n",
      "https://codeforces.com/problemset/problem/1706/C\n",
      "https://codeforces.com/problemset/problem/1176/C\n",
      "https://codeforces.com/problemset/problem/1736/C1\n",
      "https://codeforces.com/problemset/problem/1844/C\n",
      "https://codeforces.com/problemset/problem/1844/C\n",
      "https://codeforces.com/problemset/problem/1253/C\n",
      "https://codeforces.com/problemset/problem/1741/D\n",
      "https://codeforces.com/problemset/problem/1644/C\n",
      "https://codeforces.com/problemset/problem/1772/D\n",
      "https://codeforces.com/problemset/problem/1203/E\n",
      "https://codeforces.com/problemset/problem/1790/E\n",
      "https://codeforces.com/problemset/problem/1851/D\n",
      "https://codeforces.com/problemset/problem/1553/D\n",
      "https://codeforces.com/problemset/problem/1556/B\n",
      "https://codeforces.com/problemset/problem/1719/C\n",
      "https://codeforces.com/problemset/problem/1506/E\n",
      "https://codeforces.com/problemset/problem/1879/C\n",
      "https://codeforces.com/problemset/problem/1879/C\n",
      "https://codeforces.com/problemset/problem/469/B\n",
      "https://codeforces.com/problemset/problem/1845/C\n",
      "https://codeforces.com/problemset/problem/1845/C\n",
      "https://codeforces.com/problemset/problem/670/D2\n",
      "https://codeforces.com/problemset/problem/1228/B\n",
      "https://codeforces.com/problemset/problem/1864/C\n",
      "https://codeforces.com/problemset/problem/1847/C\n",
      "https://codeforces.com/problemset/problem/1696/C\n",
      "https://codeforces.com/problemset/problem/1178/C\n",
      "https://codeforces.com/problemset/problem/1860/C\n",
      "https://codeforces.com/problemset/problem/1860/C\n",
      "https://codeforces.com/problemset/problem/1673/C\n",
      "https://codeforces.com/problemset/problem/1809/C\n",
      "https://codeforces.com/problemset/problem/312/B\n",
      "https://codeforces.com/problemset/problem/1804/C\n",
      "https://codeforces.com/problemset/problem/1594/E1\n",
      "https://codeforces.com/problemset/problem/1215/C\n",
      "https://codeforces.com/problemset/problem/1807/E\n",
      "https://codeforces.com/problemset/problem/1436/C\n",
      "https://codeforces.com/problemset/problem/1857/E\n",
      "https://codeforces.com/problemset/problem/1189/C\n",
      "https://codeforces.com/problemset/problem/1105/C\n",
      "https://codeforces.com/problemset/problem/1313/C1\n",
      "https://codeforces.com/problemset/problem/1872/E\n",
      "https://codeforces.com/problemset/problem/1738/C\n",
      "https://codeforces.com/problemset/problem/1236/C\n",
      "https://codeforces.com/problemset/problem/1858/B\n",
      "https://codeforces.com/problemset/problem/1858/B\n",
      "https://codeforces.com/problemset/problem/1867/C\n",
      "https://codeforces.com/problemset/problem/1867/C\n",
      "https://codeforces.com/problemset/problem/1207/C\n",
      "https://codeforces.com/problemset/problem/891/A\n",
      "https://codeforces.com/problemset/problem/1870/C\n",
      "https://codeforces.com/problemset/problem/1870/C\n",
      "https://codeforces.com/problemset/problem/1051/C\n",
      "https://codeforces.com/problemset/problem/1315/B\n",
      "https://codeforces.com/problemset/problem/870/C\n",
      "https://codeforces.com/problemset/problem/1767/D\n",
      "https://codeforces.com/problemset/problem/665/C\n",
      "https://codeforces.com/problemset/problem/1408/C\n",
      "https://codeforces.com/problemset/problem/548/B\n",
      "https://codeforces.com/problemset/problem/1088/C\n",
      "https://codeforces.com/problemset/problem/888/C\n",
      "https://codeforces.com/problemset/problem/1209/C\n",
      "https://codeforces.com/problemset/problem/991/D\n",
      "https://codeforces.com/problemset/problem/340/D\n",
      "https://codeforces.com/problemset/problem/1043/C\n",
      "https://codeforces.com/problemset/problem/527/C\n",
      "https://codeforces.com/problemset/problem/858/C\n"
     ]
    }
   ],
   "source": [
    "base_url = 'https://codeforces.com/problemset/problem/{Contest}/{Index}'\n",
    "\n",
    "for index, row in df.iterrows():\n",
    "    contest = row['Contest']\n",
    "    index_val = row['Index']\n",
    "    link = base_url.format(Contest=contest, Index=index_val)\n",
    "    print(link)"
   ]
  }
 ],
 "metadata": {
  "kernelspec": {
   "display_name": "Python 3",
   "language": "python",
   "name": "python3"
  },
  "language_info": {
   "codemirror_mode": {
    "name": "ipython",
    "version": 3
   },
   "file_extension": ".py",
   "mimetype": "text/x-python",
   "name": "python",
   "nbconvert_exporter": "python",
   "pygments_lexer": "ipython3",
   "version": "3.10.12"
  }
 },
 "nbformat": 4,
 "nbformat_minor": 2
}
