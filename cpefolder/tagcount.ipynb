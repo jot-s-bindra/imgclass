{
 "cells": [
  {
   "cell_type": "code",
   "execution_count": 1,
   "metadata": {},
   "outputs": [
    {
     "name": "stdout",
     "output_type": "stream",
     "text": [
      "Tags\n",
      "dp                         46\n",
      "data structures            40\n",
      "greedy                     38\n",
      "math                       34\n",
      "brute force                33\n",
      "implementation             25\n",
      "constructive algorithms    23\n",
      "binary search              20\n",
      "combinatorics              12\n",
      "bitmasks                   10\n",
      "number theory              10\n",
      "strings                     8\n",
      "dfs and similar             8\n",
      "two pointers                7\n",
      "trees                       7\n",
      "matrices                    3\n",
      "divide and conquer          3\n",
      "graphs                      2\n",
      "shortest paths              2\n",
      "dsu                         2\n",
      "sortings                    2\n",
      "hashing                     2\n",
      "interactive                 2\n",
      "geometry                    2\n",
      "two pointer                 1\n",
      "probabilities               1\n",
      "expression parsing          1\n",
      "Name: count, dtype: int64\n"
     ]
    }
   ],
   "source": [
    "import pandas as pd\n",
    "df=pd.read_csv('Final_database_to_upload.csv')\n",
    "df['Tags'] = df['Tags'].str.split(', ')\n",
    "df = df.explode('Tags')\n",
    "\n",
    "tag_counts = df['Tags'].value_counts()\n",
    "\n",
    "print(tag_counts)"
   ]
  },
  {
   "cell_type": "code",
   "execution_count": null,
   "metadata": {},
   "outputs": [],
   "source": []
  }
 ],
 "metadata": {
  "kernelspec": {
   "display_name": "Python 3",
   "language": "python",
   "name": "python3"
  },
  "language_info": {
   "codemirror_mode": {
    "name": "ipython",
    "version": 3
   },
   "file_extension": ".py",
   "mimetype": "text/x-python",
   "name": "python",
   "nbconvert_exporter": "python",
   "pygments_lexer": "ipython3",
   "version": "3.10.12"
  }
 },
 "nbformat": 4,
 "nbformat_minor": 2
}
