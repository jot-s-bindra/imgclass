{
 "cells": [
  {
   "cell_type": "code",
   "execution_count": 1,
   "metadata": {},
   "outputs": [],
   "source": [
    "import pandas as pd\n",
    "import numpy as np"
   ]
  },
  {
   "cell_type": "code",
   "execution_count": 3,
   "metadata": {},
   "outputs": [
    {
     "name": "stdout",
     "output_type": "stream",
     "text": [
      "jDO_ crossed the rating range (1200, 1400) in 2 to 5 contests.\n"
     ]
    }
   ],
   "source": [
    "import requests\n",
    "\n",
    "handle = 'jDO_'\n",
    "\n",
    "response = requests.get(f'https://codeforces.com/api/user.rating?handle={handle}')\n",
    "\n",
    "if response.status_code == 200:\n",
    "    data = response.json()\n",
    "    if data['status'] == 'OK':\n",
    "        contests = data['result']\n",
    "\n",
    "        # Sort the contests by the contest ID in ascending order\n",
    "        contests.sort(key=lambda x: x['contestId'])\n",
    "\n",
    "        # Initialize variables to keep track of the rating range and contest count\n",
    "        rating_range = (1200, 1400)\n",
    "        contest_count = 0\n",
    "\n",
    "        # Iterate through the contests and check the rating range\n",
    "        for contest in contests:\n",
    "            if rating_range[0] <= contest['newRating'] <= rating_range[1]:\n",
    "                contest_count += 1\n",
    "                if contest_count >= 2 and contest_count <= 5:\n",
    "                    print(f\"{handle} crossed the rating range {rating_range} in 2 to 5 contests.\")\n",
    "                    break\n",
    "            else:\n",
    "                contest_count = 0\n",
    "    else:\n",
    "        print(f\"Error: {data['comment']}\")\n",
    "else:\n",
    "    print(f\"Error: Unable to fetch data from Codeforces. Status code: {response.status_code}\")\n"
   ]
  },
  {
   "cell_type": "code",
   "execution_count": null,
   "metadata": {},
   "outputs": [],
   "source": []
  }
 ],
 "metadata": {
  "kernelspec": {
   "display_name": "Python 3",
   "language": "python",
   "name": "python3"
  },
  "language_info": {
   "codemirror_mode": {
    "name": "ipython",
    "version": 3
   },
   "file_extension": ".py",
   "mimetype": "text/x-python",
   "name": "python",
   "nbconvert_exporter": "python",
   "pygments_lexer": "ipython3",
   "version": "3.10.12"
  }
 },
 "nbformat": 4,
 "nbformat_minor": 2
}
