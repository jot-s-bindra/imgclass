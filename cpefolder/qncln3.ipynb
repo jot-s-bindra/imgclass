{
 "cells": [
  {
   "cell_type": "code",
   "execution_count": 4,
   "metadata": {},
   "outputs": [],
   "source": [
    "import pandas as pd\n",
    "import numpy as np\n",
    "import requests\n",
    "def get_solved_problems_in_rating_range(user_handle, min_rating, max_rating):\n",
    "    \"\"\"Gets the set of problems done by a Codeforces user within a specific rating range.\n",
    "\n",
    "    Args:\n",
    "        user_handle: The handle of the user.\n",
    "        min_rating: The minimum rating (inclusive) for the desired range.\n",
    "        max_rating: The maximum rating (inclusive) for the desired range.\n",
    "\n",
    "    Returns:\n",
    "        A set of problem IDs.\n",
    "    \"\"\"\n",
    "    solved_problems = set()\n",
    "    page = 1\n",
    "\n",
    "    while True:\n",
    "        response = requests.get(\n",
    "            f\"https://codeforces.com/api/user.status?handle={user_handle}&from=1&count=10000&page={page}\")\n",
    "\n",
    "        data = response.json()\n",
    "\n",
    "        if data[\"status\"] != \"OK\":\n",
    "            break\n",
    "\n",
    "        for submission in data[\"result\"]:\n",
    "            if submission[\"verdict\"] == \"OK\" and \"problem\" in submission:\n",
    "                problem = submission[\"problem\"]\n",
    "                if \"rating\" in problem:\n",
    "                    rating = problem[\"rating\"]\n",
    "                    if min_rating <= rating <= max_rating:\n",
    "                        solved_problems.add((problem[\"contestId\"], problem[\"index\"]))\n",
    "\n",
    "        if len(data[\"result\"]) < 10000:\n",
    "            break  \n",
    "\n",
    "        page += 1\n",
    "\n",
    "    return solved_problems\n",
    "\n",
    "df = pd.read_csv('chunk_3.csv')#change\n",
    "\n",
    "min_rating = 1500#CHANGE\n",
    "max_rating = 1700#CHANGE\n",
    "\n",
    "solved_problems_list = []\n",
    "problem_count_list = []\n",
    "\n",
    "for index, row in df.iterrows():\n",
    "    user_handle = row[\"Handle\"] \n",
    "    solved_problems = get_solved_problems_in_rating_range(user_handle, min_rating, max_rating)\n",
    "    solved_problems_list.append(solved_problems)\n",
    "    problem_count_list.append(len(solved_problems))  \n",
    "\n",
    "df[\"Solved Problems\"] = solved_problems_list\n",
    "df[\"Problem Count\"] = problem_count_list\n",
    "\n",
    "df.to_csv(\"updated_chunk3.csv\", index=False)#change"
   ]
  },
  {
   "cell_type": "code",
   "execution_count": 1,
   "metadata": {},
   "outputs": [
    {
     "ename": "NameError",
     "evalue": "name 'solved_problems_list' is not defined",
     "output_type": "error",
     "traceback": [
      "\u001b[0;31m---------------------------------------------------------------------------\u001b[0m",
      "\u001b[0;31mNameError\u001b[0m                                 Traceback (most recent call last)",
      "\u001b[1;32m/home/outbreakkp/Desktop/cpefolder/qncln3.ipynb Cell 2\u001b[0m line \u001b[0;36m1\n\u001b[0;32m----> <a href='vscode-notebook-cell:/home/outbreakkp/Desktop/cpefolder/qncln3.ipynb#W1sZmlsZQ%3D%3D?line=0'>1</a>\u001b[0m solved_problems_list\n",
      "\u001b[0;31mNameError\u001b[0m: name 'solved_problems_list' is not defined"
     ]
    }
   ],
   "source": []
  },
  {
   "cell_type": "code",
   "execution_count": null,
   "metadata": {},
   "outputs": [],
   "source": []
  }
 ],
 "metadata": {
  "kernelspec": {
   "display_name": "Python 3",
   "language": "python",
   "name": "python3"
  },
  "language_info": {
   "codemirror_mode": {
    "name": "ipython",
    "version": 3
   },
   "file_extension": ".py",
   "mimetype": "text/x-python",
   "name": "python",
   "nbconvert_exporter": "python",
   "pygments_lexer": "ipython3",
   "version": "3.10.12"
  }
 },
 "nbformat": 4,
 "nbformat_minor": 2
}
