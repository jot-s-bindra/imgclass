import requests
import json

def get_solved_problems(user_handle):
  """Gets the set of problems done by a Codeforces user.

  Args:
    user_handle: The handle of the user.

  Returns:
    A set of problem IDs.
  """

  # Make a request to the Codeforces API to get the user's solved list.
  response = requests.get(
      f"https://codeforces.com/api/user.status?handle={user_handle}")

  # Parse the JSON response.
  data = json.loads(response.content)

  # Get the list of solved problems.
  solved_problems = set()
  for submission in data["result"]:
    if submission["verdict"] == "OK":
      solved_problems.add(submission["problem"]["contestId"])
      solved_problems.add(submission["problem"]["index"])

  return solved_problems

# Example usage:

user_handle = "agrim07"
solved_problems = get_solved_problems(user_handle)

print(solved_problems)