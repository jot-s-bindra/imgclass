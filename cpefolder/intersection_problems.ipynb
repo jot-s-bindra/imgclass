{
 "cells": [
  {
   "cell_type": "code",
   "execution_count": 1,
   "metadata": {},
   "outputs": [],
   "source": [
    "import pandas as pd\n",
    "import numpy as np"
   ]
  },
  {
   "cell_type": "code",
   "execution_count": 2,
   "metadata": {},
   "outputs": [],
   "source": [
    "df=pd.read_csv('combined_qns_solved.csv')"
   ]
  },
  {
   "cell_type": "code",
   "execution_count": 3,
   "metadata": {},
   "outputs": [
    {
     "data": {
      "text/html": [
       "<div>\n",
       "<style scoped>\n",
       "    .dataframe tbody tr th:only-of-type {\n",
       "        vertical-align: middle;\n",
       "    }\n",
       "\n",
       "    .dataframe tbody tr th {\n",
       "        vertical-align: top;\n",
       "    }\n",
       "\n",
       "    .dataframe thead th {\n",
       "        text-align: right;\n",
       "    }\n",
       "</style>\n",
       "<table border=\"1\" class=\"dataframe\">\n",
       "  <thead>\n",
       "    <tr style=\"text-align: right;\">\n",
       "      <th></th>\n",
       "      <th>Handle</th>\n",
       "      <th>Max Rating_x</th>\n",
       "      <th>Result</th>\n",
       "      <th>Max Rating_y</th>\n",
       "      <th>Solved Problems</th>\n",
       "      <th>Problem Count</th>\n",
       "    </tr>\n",
       "  </thead>\n",
       "  <tbody>\n",
       "    <tr>\n",
       "      <th>0</th>\n",
       "      <td>998batrr</td>\n",
       "      <td>3020</td>\n",
       "      <td>Yes</td>\n",
       "      <td>3020</td>\n",
       "      <td>{(1765, 'K'), (269, 'B'), (1326, 'D1'), (474, ...</td>\n",
       "      <td>129</td>\n",
       "    </tr>\n",
       "    <tr>\n",
       "      <th>1</th>\n",
       "      <td>youbot</td>\n",
       "      <td>3001</td>\n",
       "      <td>Yes</td>\n",
       "      <td>2859</td>\n",
       "      <td>{(1498, 'C'), (1475, 'E'), (1503, 'A'), (1505,...</td>\n",
       "      <td>97</td>\n",
       "    </tr>\n",
       "    <tr>\n",
       "      <th>2</th>\n",
       "      <td>ChemicalEquilibrium</td>\n",
       "      <td>2975</td>\n",
       "      <td>Yes</td>\n",
       "      <td>2975</td>\n",
       "      <td>{(1774, 'D'), (1817, 'A'), (1864, 'D'), (1771,...</td>\n",
       "      <td>12</td>\n",
       "    </tr>\n",
       "    <tr>\n",
       "      <th>3</th>\n",
       "      <td>FastFreeTask</td>\n",
       "      <td>2927</td>\n",
       "      <td>Yes</td>\n",
       "      <td>2927</td>\n",
       "      <td>{(1644, 'D'), (1633, 'D'), (575, 'D'), (1753, ...</td>\n",
       "      <td>17</td>\n",
       "    </tr>\n",
       "    <tr>\n",
       "      <th>4</th>\n",
       "      <td>xukai</td>\n",
       "      <td>2827</td>\n",
       "      <td>Yes</td>\n",
       "      <td>2821</td>\n",
       "      <td>{(1810, 'D'), (1835, 'A'), (1804, 'C'), (521, ...</td>\n",
       "      <td>26</td>\n",
       "    </tr>\n",
       "  </tbody>\n",
       "</table>\n",
       "</div>"
      ],
      "text/plain": [
       "                Handle  Max Rating_x Result  Max Rating_y  \\\n",
       "0             998batrr          3020    Yes          3020   \n",
       "1               youbot          3001    Yes          2859   \n",
       "2  ChemicalEquilibrium          2975    Yes          2975   \n",
       "3         FastFreeTask          2927    Yes          2927   \n",
       "4                xukai          2827    Yes          2821   \n",
       "\n",
       "                                     Solved Problems  Problem Count  \n",
       "0  {(1765, 'K'), (269, 'B'), (1326, 'D1'), (474, ...            129  \n",
       "1  {(1498, 'C'), (1475, 'E'), (1503, 'A'), (1505,...             97  \n",
       "2  {(1774, 'D'), (1817, 'A'), (1864, 'D'), (1771,...             12  \n",
       "3  {(1644, 'D'), (1633, 'D'), (575, 'D'), (1753, ...             17  \n",
       "4  {(1810, 'D'), (1835, 'A'), (1804, 'C'), (521, ...             26  "
      ]
     },
     "execution_count": 3,
     "metadata": {},
     "output_type": "execute_result"
    }
   ],
   "source": [
    "df.head()"
   ]
  },
  {
   "cell_type": "code",
   "execution_count": 4,
   "metadata": {},
   "outputs": [
    {
     "data": {
      "text/plain": [
       "945"
      ]
     },
     "execution_count": 4,
     "metadata": {},
     "output_type": "execute_result"
    }
   ],
   "source": [
    "df.shape[0]"
   ]
  },
  {
   "cell_type": "code",
   "execution_count": 5,
   "metadata": {},
   "outputs": [],
   "source": [
    "df= df[df[\"Problem Count\"] != 0]\n"
   ]
  },
  {
   "cell_type": "code",
   "execution_count": 6,
   "metadata": {},
   "outputs": [
    {
     "data": {
      "text/plain": [
       "944"
      ]
     },
     "execution_count": 6,
     "metadata": {},
     "output_type": "execute_result"
    }
   ],
   "source": [
    "df.shape[0]"
   ]
  },
  {
   "cell_type": "code",
   "execution_count": 7,
   "metadata": {},
   "outputs": [
    {
     "name": "stdout",
     "output_type": "stream",
     "text": [
      "Problem (1861, 'C') has been solved 401 times.\n",
      "Problem (1856, 'C') has been solved 387 times.\n",
      "Problem (1842, 'C') has been solved 385 times.\n",
      "Problem (1858, 'B') has been solved 383 times.\n",
      "Problem (1849, 'C') has been solved 371 times.\n",
      "Problem (1879, 'D') has been solved 368 times.\n",
      "Problem (1872, 'E') has been solved 362 times.\n",
      "Problem (1864, 'D') has been solved 359 times.\n",
      "Problem (1849, 'D') has been solved 352 times.\n",
      "Problem (1862, 'E') has been solved 339 times.\n"
     ]
    }
   ],
   "source": [
    "import ast\n",
    "from collections import Counter\n",
    "\n",
    "\n",
    "df['Solved Problems'] = df['Solved Problems'].apply(lambda x: ast.literal_eval(x))\n",
    "\n",
    "solved_problems = [problem for problems_list in df['Solved Problems'] for problem in problems_list]\n",
    "\n",
    "problem_counts = Counter(solved_problems)\n",
    "\n",
    "top_10_common_problems = problem_counts.most_common(10)\n",
    "\n",
    "for problem, count in top_10_common_problems:\n",
    "    print(f\"Problem {problem} has been solved {count} times.\")\n"
   ]
  },
  {
   "cell_type": "code",
   "execution_count": null,
   "metadata": {},
   "outputs": [],
   "source": []
  }
 ],
 "metadata": {
  "kernelspec": {
   "display_name": "Python 3",
   "language": "python",
   "name": "python3"
  },
  "language_info": {
   "codemirror_mode": {
    "name": "ipython",
    "version": 3
   },
   "file_extension": ".py",
   "mimetype": "text/x-python",
   "name": "python",
   "nbconvert_exporter": "python",
   "pygments_lexer": "ipython3",
   "version": "3.10.12"
  }
 },
 "nbformat": 4,
 "nbformat_minor": 2
}
