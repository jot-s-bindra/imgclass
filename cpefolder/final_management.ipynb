{
 "cells": [
  {
   "cell_type": "code",
   "execution_count": 2,
   "metadata": {},
   "outputs": [],
   "source": [
    "import pandas as pd"
   ]
  },
  {
   "cell_type": "code",
   "execution_count": 3,
   "metadata": {},
   "outputs": [],
   "source": [
    "df=pd.read_csv('FinalDatabase1200to1400rowstokeep.csv')"
   ]
  },
  {
   "cell_type": "code",
   "execution_count": 4,
   "metadata": {},
   "outputs": [
    {
     "name": "stdout",
     "output_type": "stream",
     "text": [
      "Problem                                     Sum of XOR Functions\n",
      "Contest                                                   1879.0\n",
      "Index                                                          D\n",
      "Tags           bitmasks, combinatorics, divide and conquer, d...\n",
      "solvedCount                                                 5285\n",
      "Name: 0, dtype: object\n"
     ]
    }
   ],
   "source": [
    "row_2498 = df.iloc[0]\n",
    "\n",
    "print(row_2498)"
   ]
  },
  {
   "cell_type": "code",
   "execution_count": 5,
   "metadata": {},
   "outputs": [],
   "source": [
    "rows_to_keep = [7,602,97,165,805,747,573,448,243,11,876,223,332,1007,89,3,95,50,18,145,1093,839,401,214,342,693,775,8,658,38,125,543,752,534,284,563,935,16,50,255,17,57,409,526,896,11,137,0,514,904,659,260,522,51,271,182,23,3,1007,604,876,50,332,9,82,208,392,5,150,748,567,764,863,111,179,614,440,15,126,62,453,568,654,552,44,547,421,6,2,93,171,568,83,453,276,403,104]\n",
    "df = df[df.index.isin(rows_to_keep)]\n"
   ]
  },
  {
   "cell_type": "code",
   "execution_count": 6,
   "metadata": {},
   "outputs": [
    {
     "data": {
      "text/plain": [
       "88"
      ]
     },
     "execution_count": 6,
     "metadata": {},
     "output_type": "execute_result"
    }
   ],
   "source": [
    "df.shape[0]"
   ]
  },
  {
   "cell_type": "code",
   "execution_count": 8,
   "metadata": {},
   "outputs": [
    {
     "data": {
      "text/html": [
       "<div>\n",
       "<style scoped>\n",
       "    .dataframe tbody tr th:only-of-type {\n",
       "        vertical-align: middle;\n",
       "    }\n",
       "\n",
       "    .dataframe tbody tr th {\n",
       "        vertical-align: top;\n",
       "    }\n",
       "\n",
       "    .dataframe thead th {\n",
       "        text-align: right;\n",
       "    }\n",
       "</style>\n",
       "<table border=\"1\" class=\"dataframe\">\n",
       "  <thead>\n",
       "    <tr style=\"text-align: right;\">\n",
       "      <th></th>\n",
       "      <th>Problem</th>\n",
       "      <th>Contest</th>\n",
       "      <th>Index</th>\n",
       "      <th>Tags</th>\n",
       "      <th>solvedCount</th>\n",
       "    </tr>\n",
       "  </thead>\n",
       "  <tbody>\n",
       "    <tr>\n",
       "      <th>0</th>\n",
       "      <td>Sum of XOR Functions</td>\n",
       "      <td>1879.0</td>\n",
       "      <td>D</td>\n",
       "      <td>bitmasks, combinatorics, divide and conquer, d...</td>\n",
       "      <td>5285</td>\n",
       "    </tr>\n",
       "    <tr>\n",
       "      <th>2</th>\n",
       "      <td>ABBC or BACB</td>\n",
       "      <td>1873.0</td>\n",
       "      <td>G</td>\n",
       "      <td>constructive algorithms, greedy</td>\n",
       "      <td>8873</td>\n",
       "    </tr>\n",
       "    <tr>\n",
       "      <th>3</th>\n",
       "      <td>Data Structures Fan</td>\n",
       "      <td>1872.0</td>\n",
       "      <td>E</td>\n",
       "      <td>binary search, bitmasks, data structures, dp</td>\n",
       "      <td>9762</td>\n",
       "    </tr>\n",
       "    <tr>\n",
       "      <th>5</th>\n",
       "      <td>Matrix Cascade</td>\n",
       "      <td>1864.0</td>\n",
       "      <td>D</td>\n",
       "      <td>brute force, constructive algorithms, data str...</td>\n",
       "      <td>5668</td>\n",
       "    </tr>\n",
       "    <tr>\n",
       "      <th>6</th>\n",
       "      <td>Kolya and Movie Theatre</td>\n",
       "      <td>1862.0</td>\n",
       "      <td>E</td>\n",
       "      <td>constructive algorithms, data structures, greedy</td>\n",
       "      <td>8112</td>\n",
       "    </tr>\n",
       "  </tbody>\n",
       "</table>\n",
       "</div>"
      ],
      "text/plain": [
       "                   Problem  Contest Index  \\\n",
       "0     Sum of XOR Functions   1879.0     D   \n",
       "2             ABBC or BACB   1873.0     G   \n",
       "3      Data Structures Fan   1872.0     E   \n",
       "5           Matrix Cascade   1864.0     D   \n",
       "6  Kolya and Movie Theatre   1862.0     E   \n",
       "\n",
       "                                                Tags  solvedCount  \n",
       "0  bitmasks, combinatorics, divide and conquer, d...         5285  \n",
       "2                    constructive algorithms, greedy         8873  \n",
       "3       binary search, bitmasks, data structures, dp         9762  \n",
       "5  brute force, constructive algorithms, data str...         5668  \n",
       "6   constructive algorithms, data structures, greedy         8112  "
      ]
     },
     "execution_count": 8,
     "metadata": {},
     "output_type": "execute_result"
    }
   ],
   "source": [
    "df.head()"
   ]
  },
  {
   "cell_type": "code",
   "execution_count": 9,
   "metadata": {},
   "outputs": [],
   "source": [
    "df.to_csv('Final_database_to_upload.csv',index=False)"
   ]
  },
  {
   "cell_type": "code",
   "execution_count": 12,
   "metadata": {},
   "outputs": [],
   "source": [
    "df=pd.read_csv('Final_database_to_upload.csv')"
   ]
  },
  {
   "cell_type": "code",
   "execution_count": 13,
   "metadata": {},
   "outputs": [
    {
     "data": {
      "text/plain": [
       "100"
      ]
     },
     "execution_count": 13,
     "metadata": {},
     "output_type": "execute_result"
    }
   ],
   "source": [
    "df.shape[0]"
   ]
  },
  {
   "cell_type": "code",
   "execution_count": 14,
   "metadata": {},
   "outputs": [
    {
     "data": {
      "text/html": [
       "<div>\n",
       "<style scoped>\n",
       "    .dataframe tbody tr th:only-of-type {\n",
       "        vertical-align: middle;\n",
       "    }\n",
       "\n",
       "    .dataframe tbody tr th {\n",
       "        vertical-align: top;\n",
       "    }\n",
       "\n",
       "    .dataframe thead th {\n",
       "        text-align: right;\n",
       "    }\n",
       "</style>\n",
       "<table border=\"1\" class=\"dataframe\">\n",
       "  <thead>\n",
       "    <tr style=\"text-align: right;\">\n",
       "      <th></th>\n",
       "      <th>Problem</th>\n",
       "      <th>Contest</th>\n",
       "      <th>Index</th>\n",
       "      <th>Tags</th>\n",
       "      <th>solvedCount</th>\n",
       "    </tr>\n",
       "  </thead>\n",
       "  <tbody>\n",
       "    <tr>\n",
       "      <th>0</th>\n",
       "      <td>Sum of XOR Functions</td>\n",
       "      <td>1879.0</td>\n",
       "      <td>D</td>\n",
       "      <td>bitmasks, combinatorics, divide and conquer, d...</td>\n",
       "      <td>5285</td>\n",
       "    </tr>\n",
       "    <tr>\n",
       "      <th>1</th>\n",
       "      <td>ABBC or BACB</td>\n",
       "      <td>1873.0</td>\n",
       "      <td>G</td>\n",
       "      <td>constructive algorithms, greedy</td>\n",
       "      <td>8873</td>\n",
       "    </tr>\n",
       "    <tr>\n",
       "      <th>2</th>\n",
       "      <td>Data Structures Fan</td>\n",
       "      <td>1872.0</td>\n",
       "      <td>E</td>\n",
       "      <td>binary search, bitmasks, data structures, dp</td>\n",
       "      <td>9762</td>\n",
       "    </tr>\n",
       "    <tr>\n",
       "      <th>3</th>\n",
       "      <td>Matrix Cascade</td>\n",
       "      <td>1864.0</td>\n",
       "      <td>D</td>\n",
       "      <td>brute force, constructive algorithms, data str...</td>\n",
       "      <td>5668</td>\n",
       "    </tr>\n",
       "    <tr>\n",
       "      <th>4</th>\n",
       "      <td>Kolya and Movie Theatre</td>\n",
       "      <td>1862.0</td>\n",
       "      <td>E</td>\n",
       "      <td>constructive algorithms, data structures, greedy</td>\n",
       "      <td>8112</td>\n",
       "    </tr>\n",
       "  </tbody>\n",
       "</table>\n",
       "</div>"
      ],
      "text/plain": [
       "                   Problem  Contest Index  \\\n",
       "0     Sum of XOR Functions   1879.0     D   \n",
       "1             ABBC or BACB   1873.0     G   \n",
       "2      Data Structures Fan   1872.0     E   \n",
       "3           Matrix Cascade   1864.0     D   \n",
       "4  Kolya and Movie Theatre   1862.0     E   \n",
       "\n",
       "                                                Tags  solvedCount  \n",
       "0  bitmasks, combinatorics, divide and conquer, d...         5285  \n",
       "1                    constructive algorithms, greedy         8873  \n",
       "2       binary search, bitmasks, data structures, dp         9762  \n",
       "3  brute force, constructive algorithms, data str...         5668  \n",
       "4   constructive algorithms, data structures, greedy         8112  "
      ]
     },
     "execution_count": 14,
     "metadata": {},
     "output_type": "execute_result"
    }
   ],
   "source": [
    "df.head()"
   ]
  },
  {
   "cell_type": "code",
   "execution_count": 15,
   "metadata": {},
   "outputs": [
    {
     "data": {
      "text/html": [
       "<div>\n",
       "<style scoped>\n",
       "    .dataframe tbody tr th:only-of-type {\n",
       "        vertical-align: middle;\n",
       "    }\n",
       "\n",
       "    .dataframe tbody tr th {\n",
       "        vertical-align: top;\n",
       "    }\n",
       "\n",
       "    .dataframe thead th {\n",
       "        text-align: right;\n",
       "    }\n",
       "</style>\n",
       "<table border=\"1\" class=\"dataframe\">\n",
       "  <thead>\n",
       "    <tr style=\"text-align: right;\">\n",
       "      <th></th>\n",
       "      <th>Problem</th>\n",
       "      <th>Contest</th>\n",
       "      <th>Index</th>\n",
       "      <th>Tags</th>\n",
       "      <th>solvedCount</th>\n",
       "    </tr>\n",
       "  </thead>\n",
       "  <tbody>\n",
       "    <tr>\n",
       "      <th>95</th>\n",
       "      <td>Sum of XOR Functions</td>\n",
       "      <td>1879.0</td>\n",
       "      <td>D</td>\n",
       "      <td>bitmasks, combinatorics, divide and conquer, d...</td>\n",
       "      <td>5287</td>\n",
       "    </tr>\n",
       "    <tr>\n",
       "      <th>96</th>\n",
       "      <td>Data Structures Fan</td>\n",
       "      <td>1872.0</td>\n",
       "      <td>E</td>\n",
       "      <td>binary search, bitmasks, data structures, dp</td>\n",
       "      <td>9765</td>\n",
       "    </tr>\n",
       "    <tr>\n",
       "      <th>97</th>\n",
       "      <td>Matrix Cascade</td>\n",
       "      <td>1864.0</td>\n",
       "      <td>D</td>\n",
       "      <td>brute force, constructive algorithms, data str...</td>\n",
       "      <td>5669</td>\n",
       "    </tr>\n",
       "    <tr>\n",
       "      <th>98</th>\n",
       "      <td>Array Painting</td>\n",
       "      <td>1849.0</td>\n",
       "      <td>D</td>\n",
       "      <td>constructive algorithms, greedy, two pointer</td>\n",
       "      <td>6763</td>\n",
       "    </tr>\n",
       "    <tr>\n",
       "      <th>99</th>\n",
       "      <td>Kolya and Movie Theatre</td>\n",
       "      <td>1862.0</td>\n",
       "      <td>E</td>\n",
       "      <td>constructive algorithms, data structures, greedy</td>\n",
       "      <td>8116</td>\n",
       "    </tr>\n",
       "  </tbody>\n",
       "</table>\n",
       "</div>"
      ],
      "text/plain": [
       "                    Problem  Contest Index  \\\n",
       "95     Sum of XOR Functions   1879.0     D   \n",
       "96      Data Structures Fan   1872.0     E   \n",
       "97           Matrix Cascade   1864.0     D   \n",
       "98           Array Painting   1849.0     D   \n",
       "99  Kolya and Movie Theatre   1862.0     E   \n",
       "\n",
       "                                                 Tags  solvedCount  \n",
       "95  bitmasks, combinatorics, divide and conquer, d...         5287  \n",
       "96       binary search, bitmasks, data structures, dp         9765  \n",
       "97  brute force, constructive algorithms, data str...         5669  \n",
       "98       constructive algorithms, greedy, two pointer         6763  \n",
       "99   constructive algorithms, data structures, greedy         8116  "
      ]
     },
     "execution_count": 15,
     "metadata": {},
     "output_type": "execute_result"
    }
   ],
   "source": [
    "df.tail()"
   ]
  },
  {
   "cell_type": "code",
   "execution_count": 16,
   "metadata": {},
   "outputs": [],
   "source": [
    "df = df.sort_values(by='solvedCount', ascending=False)"
   ]
  },
  {
   "cell_type": "code",
   "execution_count": 17,
   "metadata": {},
   "outputs": [
    {
     "data": {
      "text/html": [
       "<div>\n",
       "<style scoped>\n",
       "    .dataframe tbody tr th:only-of-type {\n",
       "        vertical-align: middle;\n",
       "    }\n",
       "\n",
       "    .dataframe tbody tr th {\n",
       "        vertical-align: top;\n",
       "    }\n",
       "\n",
       "    .dataframe thead th {\n",
       "        text-align: right;\n",
       "    }\n",
       "</style>\n",
       "<table border=\"1\" class=\"dataframe\">\n",
       "  <thead>\n",
       "    <tr style=\"text-align: right;\">\n",
       "      <th></th>\n",
       "      <th>Problem</th>\n",
       "      <th>Contest</th>\n",
       "      <th>Index</th>\n",
       "      <th>Tags</th>\n",
       "      <th>solvedCount</th>\n",
       "    </tr>\n",
       "  </thead>\n",
       "  <tbody>\n",
       "    <tr>\n",
       "      <th>38</th>\n",
       "      <td>Add One</td>\n",
       "      <td>1513.0</td>\n",
       "      <td>C</td>\n",
       "      <td>dp, matrices</td>\n",
       "      <td>12207</td>\n",
       "    </tr>\n",
       "    <tr>\n",
       "      <th>49</th>\n",
       "      <td>Pipes</td>\n",
       "      <td>1234.0</td>\n",
       "      <td>C</td>\n",
       "      <td>dp, implementation</td>\n",
       "      <td>11847</td>\n",
       "    </tr>\n",
       "    <tr>\n",
       "      <th>47</th>\n",
       "      <td>Sleeping Schedule</td>\n",
       "      <td>1324.0</td>\n",
       "      <td>E</td>\n",
       "      <td>dp, implementation</td>\n",
       "      <td>11653</td>\n",
       "    </tr>\n",
       "    <tr>\n",
       "      <th>85</th>\n",
       "      <td>Little Dima and Equation</td>\n",
       "      <td>460.0</td>\n",
       "      <td>B</td>\n",
       "      <td>brute force, implementation, math, number theory</td>\n",
       "      <td>11347</td>\n",
       "    </tr>\n",
       "    <tr>\n",
       "      <th>33</th>\n",
       "      <td>Gardener and Tree</td>\n",
       "      <td>1593.0</td>\n",
       "      <td>E</td>\n",
       "      <td>brute force, data structures, dfs and similar,...</td>\n",
       "      <td>10793</td>\n",
       "    </tr>\n",
       "  </tbody>\n",
       "</table>\n",
       "</div>"
      ],
      "text/plain": [
       "                     Problem  Contest Index  \\\n",
       "38                   Add One   1513.0     C   \n",
       "49                     Pipes   1234.0     C   \n",
       "47         Sleeping Schedule   1324.0     E   \n",
       "85  Little Dima and Equation    460.0     B   \n",
       "33         Gardener and Tree   1593.0     E   \n",
       "\n",
       "                                                 Tags  solvedCount  \n",
       "38                                       dp, matrices        12207  \n",
       "49                                 dp, implementation        11847  \n",
       "47                                 dp, implementation        11653  \n",
       "85   brute force, implementation, math, number theory        11347  \n",
       "33  brute force, data structures, dfs and similar,...        10793  "
      ]
     },
     "execution_count": 17,
     "metadata": {},
     "output_type": "execute_result"
    }
   ],
   "source": [
    "df.head()"
   ]
  },
  {
   "cell_type": "code",
   "execution_count": 18,
   "metadata": {},
   "outputs": [],
   "source": [
    "df.to_csv('Final_database_to_upload.csv',index=False)"
   ]
  },
  {
   "cell_type": "code",
   "execution_count": 19,
   "metadata": {},
   "outputs": [
    {
     "name": "stdout",
     "output_type": "stream",
     "text": [
      "https://codeforces.com/problemset/problem/1513.0/C\n",
      "https://codeforces.com/problemset/problem/1234.0/C\n",
      "https://codeforces.com/problemset/problem/1324.0/E\n",
      "https://codeforces.com/problemset/problem/460.0/B\n",
      "https://codeforces.com/problemset/problem/1593.0/E\n",
      "https://codeforces.com/problemset/problem/1400.0/B\n",
      "https://codeforces.com/problemset/problem/1673.0/C\n",
      "https://codeforces.com/problemset/problem/1804.0/C\n",
      "https://codeforces.com/problemset/problem/1335.0/E1\n",
      "https://codeforces.com/problemset/problem/1520.0/F1\n",
      "https://codeforces.com/problemset/problem/1791.0/F\n",
      "https://codeforces.com/problemset/problem/1651.0/C\n",
      "https://codeforces.com/problemset/problem/1842.0/C\n",
      "https://codeforces.com/problemset/problem/1842.0/C\n",
      "https://codeforces.com/problemset/problem/1872.0/E\n",
      "https://codeforces.com/problemset/problem/1872.0/E\n",
      "https://codeforces.com/problemset/problem/1176.0/E\n",
      "https://codeforces.com/problemset/problem/1843.0/E\n",
      "https://codeforces.com/problemset/problem/1856.0/C\n",
      "https://codeforces.com/problemset/problem/1856.0/C\n",
      "https://codeforces.com/problemset/problem/1858.0/B\n",
      "https://codeforces.com/problemset/problem/1858.0/B\n",
      "https://codeforces.com/problemset/problem/1741.0/E\n",
      "https://codeforces.com/problemset/problem/1625.0/C\n",
      "https://codeforces.com/problemset/problem/891.0/A\n",
      "https://codeforces.com/problemset/problem/567.0/C\n",
      "https://codeforces.com/problemset/problem/1006.0/E\n",
      "https://codeforces.com/problemset/problem/1722.0/G\n",
      "https://codeforces.com/problemset/problem/1722.0/E\n",
      "https://codeforces.com/problemset/problem/1051.0/C\n",
      "https://codeforces.com/problemset/problem/1473.0/D\n",
      "https://codeforces.com/problemset/problem/1873.0/G\n",
      "https://codeforces.com/problemset/problem/1857.0/F\n",
      "https://codeforces.com/problemset/problem/742.0/B\n",
      "https://codeforces.com/problemset/problem/1498.0/C\n",
      "https://codeforces.com/problemset/problem/1249.0/E\n",
      "https://codeforces.com/problemset/problem/1036.0/D\n",
      "https://codeforces.com/problemset/problem/1461.0/D\n",
      "https://codeforces.com/problemset/problem/1849.0/C\n",
      "https://codeforces.com/problemset/problem/1849.0/C\n",
      "https://codeforces.com/problemset/problem/225.0/C\n",
      "https://codeforces.com/problemset/problem/611.0/C\n",
      "https://codeforces.com/problemset/problem/1862.0/E\n",
      "https://codeforces.com/problemset/problem/1862.0/E\n",
      "https://codeforces.com/problemset/problem/1619.0/E\n",
      "https://codeforces.com/problemset/problem/1861.0/C\n",
      "https://codeforces.com/problemset/problem/1062.0/B\n",
      "https://codeforces.com/problemset/problem/1557.0/C\n",
      "https://codeforces.com/problemset/problem/1861.0/C\n",
      "https://codeforces.com/problemset/problem/1422.0/C\n",
      "https://codeforces.com/problemset/problem/978.0/F\n",
      "https://codeforces.com/problemset/problem/1015.0/D\n",
      "https://codeforces.com/problemset/problem/1452.0/D\n",
      "https://codeforces.com/problemset/problem/1025.0/B\n",
      "https://codeforces.com/problemset/problem/835.0/C\n",
      "https://codeforces.com/problemset/problem/1702.0/F\n",
      "https://codeforces.com/problemset/problem/711.0/C\n",
      "https://codeforces.com/problemset/problem/1789.0/C\n",
      "https://codeforces.com/problemset/problem/1789.0/C\n",
      "https://codeforces.com/problemset/problem/1740.0/D\n",
      "https://codeforces.com/problemset/problem/1740.0/D\n",
      "https://codeforces.com/problemset/problem/1209.0/C\n",
      "https://codeforces.com/problemset/problem/1185.0/C2\n",
      "https://codeforces.com/problemset/problem/1778.0/C\n",
      "https://codeforces.com/problemset/problem/1217.0/C\n",
      "https://codeforces.com/problemset/problem/888.0/D\n",
      "https://codeforces.com/problemset/problem/1774.0/D\n",
      "https://codeforces.com/problemset/problem/1849.0/D\n",
      "https://codeforces.com/problemset/problem/1849.0/D\n",
      "https://codeforces.com/problemset/problem/1081.0/C\n",
      "https://codeforces.com/problemset/problem/340.0/D\n",
      "https://codeforces.com/problemset/problem/1043.0/C\n",
      "https://codeforces.com/problemset/problem/1797.0/C\n",
      "https://codeforces.com/problemset/problem/1167.0/D\n",
      "https://codeforces.com/problemset/problem/1714.0/G\n",
      "https://codeforces.com/problemset/problem/527.0/C\n",
      "https://codeforces.com/problemset/problem/1692.0/H\n",
      "https://codeforces.com/problemset/problem/518.0/D\n",
      "https://codeforces.com/problemset/problem/1091.0/D\n",
      "https://codeforces.com/problemset/problem/1073.0/D\n",
      "https://codeforces.com/problemset/problem/1413.0/D\n",
      "https://codeforces.com/problemset/problem/1731.0/D\n",
      "https://codeforces.com/problemset/problem/1227.0/D1\n",
      "https://codeforces.com/problemset/problem/1562.0/D1\n",
      "https://codeforces.com/problemset/problem/1829.0/H\n",
      "https://codeforces.com/problemset/problem/1579.0/E2\n",
      "https://codeforces.com/problemset/problem/979.0/C\n",
      "https://codeforces.com/problemset/problem/1672.0/D\n",
      "https://codeforces.com/problemset/problem/1864.0/D\n",
      "https://codeforces.com/problemset/problem/1864.0/D\n",
      "https://codeforces.com/problemset/problem/1879.0/D\n",
      "https://codeforces.com/problemset/problem/1879.0/D\n",
      "https://codeforces.com/problemset/problem/1015.0/E1\n",
      "https://codeforces.com/problemset/problem/746.0/D\n",
      "https://codeforces.com/problemset/problem/898.0/E\n",
      "https://codeforces.com/problemset/problem/729.0/D\n",
      "https://codeforces.com/problemset/problem/581.0/D\n",
      "https://codeforces.com/problemset/problem/670.0/E\n",
      "https://codeforces.com/problemset/problem/747.0/E\n",
      "https://codeforces.com/problemset/problem/958.0/E1\n"
     ]
    }
   ],
   "source": [
    "base_url = 'https://codeforces.com/problemset/problem/{Contest}/{Index}'\n",
    "\n",
    "for index, row in df.iterrows():\n",
    "    contest = row['Contest']\n",
    "    index_val = row['Index']\n",
    "    link = base_url.format(Contest=contest, Index=index_val)\n",
    "    print(link)"
   ]
  }
 ],
 "metadata": {
  "kernelspec": {
   "display_name": "Python 3",
   "language": "python",
   "name": "python3"
  },
  "language_info": {
   "codemirror_mode": {
    "name": "ipython",
    "version": 3
   },
   "file_extension": ".py",
   "mimetype": "text/x-python",
   "name": "python",
   "nbconvert_exporter": "python",
   "pygments_lexer": "ipython3",
   "version": "3.10.12"
  }
 },
 "nbformat": 4,
 "nbformat_minor": 2
}
