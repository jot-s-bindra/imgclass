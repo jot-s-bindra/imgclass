{
 "cells": [
  {
   "cell_type": "code",
   "execution_count": 1,
   "metadata": {},
   "outputs": [],
   "source": [
    "import pandas as pd\n",
    "import numpy as np\n",
    "import csv"
   ]
  },
  {
   "cell_type": "code",
   "execution_count": 4,
   "metadata": {},
   "outputs": [
    {
     "name": "stdout",
     "output_type": "stream",
     "text": [
      "Combined data saved to combined_qns_solved.csv\n"
     ]
    }
   ],
   "source": [
    "import pandas as pd\n",
    "\n",
    "# List of input CSV files\n",
    "input_files = [\n",
    "    \"updated_chunk1.csv\",\n",
    "    \"updated_chunk2.csv\",\n",
    "    \"updated_chunk3.csv\",\n",
    "    \"updated_chunk4.csv\",\n",
    "    \"updated_chunk5.csv\",\n",
    "    \"updated_chunk6.csv\",\n",
    "    \"updated_chunk7.csv\",\n",
    "    \"updated_chunc1.csv\",\n",
    "    \"updated_chunc2.csv\",\n",
    "    \"updated_chunc3.csv\",\n",
    "    \"updated_chunc4.csv\",\n",
    "    \"updated_chunc5.csv\",\n",
    "    \"updated_chunc6.csv\",\n",
    "    \"updated_chunc7.csv\"\n",
    "]\n",
    "\n",
    "# Output CSV file\n",
    "output_file = \"combined_qns_solved.csv\"\n",
    "\n",
    "# Initialize an empty DataFrame to store the combined data\n",
    "combined_data = pd.DataFrame()\n",
    "\n",
    "# Read and concatenate data from input CSV files\n",
    "for file in input_files:\n",
    "    df = pd.read_csv(file)\n",
    "    combined_data = pd.concat([combined_data, df], ignore_index=True)\n",
    "\n",
    "# Save the combined data to the output CSV file\n",
    "combined_data.to_csv(output_file, index=False)\n",
    "\n",
    "print(f\"Combined data saved to {output_file}\")\n"
   ]
  },
  {
   "cell_type": "code",
   "execution_count": null,
   "metadata": {},
   "outputs": [],
   "source": []
  }
 ],
 "metadata": {
  "kernelspec": {
   "display_name": "Python 3",
   "language": "python",
   "name": "python3"
  },
  "language_info": {
   "codemirror_mode": {
    "name": "ipython",
    "version": 3
   },
   "file_extension": ".py",
   "mimetype": "text/x-python",
   "name": "python",
   "nbconvert_exporter": "python",
   "pygments_lexer": "ipython3",
   "version": "3.10.12"
  }
 },
 "nbformat": 4,
 "nbformat_minor": 2
}
