{
 "cells": [
  {
   "cell_type": "code",
   "execution_count": 1,
   "metadata": {},
   "outputs": [],
   "source": [
    "import pandas as pd"
   ]
  },
  {
   "cell_type": "code",
   "execution_count": 2,
   "metadata": {},
   "outputs": [],
   "source": [
    "df=pd.read_csv('FinalDatabase1200to1400-vaibhav.csv')"
   ]
  },
  {
   "cell_type": "code",
   "execution_count": 6,
   "metadata": {},
   "outputs": [
    {
     "name": "stdout",
     "output_type": "stream",
     "text": [
      "Problem                          1879_\n",
      "Contest                              0\n",
      "Index                                C\n",
      "Tags           combinatorics,dp,greedy\n",
      "solvedCount                      11945\n",
      "Name: 2498, dtype: object\n"
     ]
    }
   ],
   "source": [
    "row_2498 = df.iloc[2498]\n",
    "\n",
    "print(row_2498)"
   ]
  },
  {
   "cell_type": "code",
   "execution_count": 7,
   "metadata": {},
   "outputs": [],
   "source": [
    "rows_to_keep = [912,244,1029,1311,1080,658,635,1756,2068,12,373,624,419,131,1972,691,884,713,226,609,2075,1557,205,1987,1463,97,248,460,393,721,363,633,674,1240,689,639,1681,850,1074,782,607,231,1265,1995,1732,788,190,534,436,1443,97,40,248,678,1333,1630,1763,374,550,1670,1760,36,2233,2081,30,893,59,2088,1070,912,244,610,384,1301,1311,1052,384,1070,1494,1711,228,1818,212,333,2007,480,1880,578,664,1413,868,602,475,458]\n",
    "df = df[df.index.isin(rows_to_keep)]\n"
   ]
  },
  {
   "cell_type": "code",
   "execution_count": 8,
   "metadata": {},
   "outputs": [
    {
     "data": {
      "text/plain": [
       "87"
      ]
     },
     "execution_count": 8,
     "metadata": {},
     "output_type": "execute_result"
    }
   ],
   "source": [
    "df.shape[0]"
   ]
  },
  {
   "cell_type": "code",
   "execution_count": 9,
   "metadata": {},
   "outputs": [
    {
     "data": {
      "text/html": [
       "<div>\n",
       "<style scoped>\n",
       "    .dataframe tbody tr th:only-of-type {\n",
       "        vertical-align: middle;\n",
       "    }\n",
       "\n",
       "    .dataframe tbody tr th {\n",
       "        vertical-align: top;\n",
       "    }\n",
       "\n",
       "    .dataframe thead th {\n",
       "        text-align: right;\n",
       "    }\n",
       "</style>\n",
       "<table border=\"1\" class=\"dataframe\">\n",
       "  <thead>\n",
       "    <tr style=\"text-align: right;\">\n",
       "      <th></th>\n",
       "      <th>Problem</th>\n",
       "      <th>Contest</th>\n",
       "      <th>Index</th>\n",
       "      <th>Tags</th>\n",
       "      <th>solvedCount</th>\n",
       "    </tr>\n",
       "  </thead>\n",
       "  <tbody>\n",
       "    <tr>\n",
       "      <th>12</th>\n",
       "      <td>Colorful Table</td>\n",
       "      <td>1870</td>\n",
       "      <td>C</td>\n",
       "      <td>binary search, data structures, dp, implementa...</td>\n",
       "      <td>9117</td>\n",
       "    </tr>\n",
       "    <tr>\n",
       "      <th>30</th>\n",
       "      <td>Evaluate RBS</td>\n",
       "      <td>1860</td>\n",
       "      <td>F</td>\n",
       "      <td>data structures, geometry, implementation, mat...</td>\n",
       "      <td>230</td>\n",
       "    </tr>\n",
       "    <tr>\n",
       "      <th>36</th>\n",
       "      <td>Prefix Permutation Sums</td>\n",
       "      <td>1851</td>\n",
       "      <td>D</td>\n",
       "      <td>implementation, math</td>\n",
       "      <td>12682</td>\n",
       "    </tr>\n",
       "    <tr>\n",
       "      <th>40</th>\n",
       "      <td>Cardboard for Pictures</td>\n",
       "      <td>1850</td>\n",
       "      <td>E</td>\n",
       "      <td>binary search, geometry, implementation, math</td>\n",
       "      <td>17644</td>\n",
       "    </tr>\n",
       "    <tr>\n",
       "      <th>59</th>\n",
       "      <td>Particles</td>\n",
       "      <td>1844</td>\n",
       "      <td>C</td>\n",
       "      <td>dp, greedy, implementation, math</td>\n",
       "      <td>13387</td>\n",
       "    </tr>\n",
       "  </tbody>\n",
       "</table>\n",
       "</div>"
      ],
      "text/plain": [
       "                    Problem  Contest Index  \\\n",
       "12           Colorful Table     1870     C   \n",
       "30             Evaluate RBS     1860     F   \n",
       "36  Prefix Permutation Sums     1851     D   \n",
       "40   Cardboard for Pictures     1850     E   \n",
       "59                Particles     1844     C   \n",
       "\n",
       "                                                 Tags  solvedCount  \n",
       "12  binary search, data structures, dp, implementa...         9117  \n",
       "30  data structures, geometry, implementation, mat...          230  \n",
       "36                               implementation, math        12682  \n",
       "40      binary search, geometry, implementation, math        17644  \n",
       "59                   dp, greedy, implementation, math        13387  "
      ]
     },
     "execution_count": 9,
     "metadata": {},
     "output_type": "execute_result"
    }
   ],
   "source": [
    "df.head()"
   ]
  },
  {
   "cell_type": "code",
   "execution_count": 10,
   "metadata": {},
   "outputs": [],
   "source": [
    "df.to_csv('Final_database_to_upload.csv',index=False)"
   ]
  },
  {
   "cell_type": "code",
   "execution_count": 16,
   "metadata": {},
   "outputs": [],
   "source": [
    "df=pd.read_csv('Final_database_to_upload.csv')"
   ]
  },
  {
   "cell_type": "code",
   "execution_count": 17,
   "metadata": {},
   "outputs": [
    {
     "data": {
      "text/plain": [
       "100"
      ]
     },
     "execution_count": 17,
     "metadata": {},
     "output_type": "execute_result"
    }
   ],
   "source": [
    "df.shape[0]"
   ]
  },
  {
   "cell_type": "code",
   "execution_count": 18,
   "metadata": {},
   "outputs": [
    {
     "data": {
      "text/html": [
       "<div>\n",
       "<style scoped>\n",
       "    .dataframe tbody tr th:only-of-type {\n",
       "        vertical-align: middle;\n",
       "    }\n",
       "\n",
       "    .dataframe tbody tr th {\n",
       "        vertical-align: top;\n",
       "    }\n",
       "\n",
       "    .dataframe thead th {\n",
       "        text-align: right;\n",
       "    }\n",
       "</style>\n",
       "<table border=\"1\" class=\"dataframe\">\n",
       "  <thead>\n",
       "    <tr style=\"text-align: right;\">\n",
       "      <th></th>\n",
       "      <th>Problem</th>\n",
       "      <th>Contest</th>\n",
       "      <th>Index</th>\n",
       "      <th>Tags</th>\n",
       "      <th>solvedCount</th>\n",
       "    </tr>\n",
       "  </thead>\n",
       "  <tbody>\n",
       "    <tr>\n",
       "      <th>0</th>\n",
       "      <td>Colorful Table</td>\n",
       "      <td>1870</td>\n",
       "      <td>C</td>\n",
       "      <td>binary search, data structures, dp, implementa...</td>\n",
       "      <td>9117</td>\n",
       "    </tr>\n",
       "    <tr>\n",
       "      <th>1</th>\n",
       "      <td>Evaluate RBS</td>\n",
       "      <td>1860</td>\n",
       "      <td>F</td>\n",
       "      <td>data structures, geometry, implementation, mat...</td>\n",
       "      <td>230</td>\n",
       "    </tr>\n",
       "    <tr>\n",
       "      <th>2</th>\n",
       "      <td>Prefix Permutation Sums</td>\n",
       "      <td>1851</td>\n",
       "      <td>D</td>\n",
       "      <td>implementation, math</td>\n",
       "      <td>12682</td>\n",
       "    </tr>\n",
       "    <tr>\n",
       "      <th>3</th>\n",
       "      <td>Cardboard for Pictures</td>\n",
       "      <td>1850</td>\n",
       "      <td>E</td>\n",
       "      <td>binary search, geometry, implementation, math</td>\n",
       "      <td>17644</td>\n",
       "    </tr>\n",
       "    <tr>\n",
       "      <th>4</th>\n",
       "      <td>Particles</td>\n",
       "      <td>1844</td>\n",
       "      <td>C</td>\n",
       "      <td>dp, greedy, implementation, math</td>\n",
       "      <td>13387</td>\n",
       "    </tr>\n",
       "  </tbody>\n",
       "</table>\n",
       "</div>"
      ],
      "text/plain": [
       "                   Problem  Contest Index  \\\n",
       "0           Colorful Table     1870     C   \n",
       "1             Evaluate RBS     1860     F   \n",
       "2  Prefix Permutation Sums     1851     D   \n",
       "3   Cardboard for Pictures     1850     E   \n",
       "4                Particles     1844     C   \n",
       "\n",
       "                                                Tags  solvedCount  \n",
       "0  binary search, data structures, dp, implementa...         9117  \n",
       "1  data structures, geometry, implementation, mat...          230  \n",
       "2                               implementation, math        12682  \n",
       "3      binary search, geometry, implementation, math        17644  \n",
       "4                   dp, greedy, implementation, math        13387  "
      ]
     },
     "execution_count": 18,
     "metadata": {},
     "output_type": "execute_result"
    }
   ],
   "source": [
    "df.head()"
   ]
  },
  {
   "cell_type": "code",
   "execution_count": 19,
   "metadata": {},
   "outputs": [
    {
     "data": {
      "text/html": [
       "<div>\n",
       "<style scoped>\n",
       "    .dataframe tbody tr th:only-of-type {\n",
       "        vertical-align: middle;\n",
       "    }\n",
       "\n",
       "    .dataframe tbody tr th {\n",
       "        vertical-align: top;\n",
       "    }\n",
       "\n",
       "    .dataframe thead th {\n",
       "        text-align: right;\n",
       "    }\n",
       "</style>\n",
       "<table border=\"1\" class=\"dataframe\">\n",
       "  <thead>\n",
       "    <tr style=\"text-align: right;\">\n",
       "      <th></th>\n",
       "      <th>Problem</th>\n",
       "      <th>Contest</th>\n",
       "      <th>Index</th>\n",
       "      <th>Tags</th>\n",
       "      <th>solvedCount</th>\n",
       "    </tr>\n",
       "  </thead>\n",
       "  <tbody>\n",
       "    <tr>\n",
       "      <th>95</th>\n",
       "      <td>ABBC or BACB</td>\n",
       "      <td>1873</td>\n",
       "      <td>G</td>\n",
       "      <td>constructive algorithms, greedy</td>\n",
       "      <td>8810</td>\n",
       "    </tr>\n",
       "    <tr>\n",
       "      <th>96</th>\n",
       "      <td>Nastya and Potions</td>\n",
       "      <td>1851</td>\n",
       "      <td>E</td>\n",
       "      <td>dfs and similar, dp, graphs, sortings</td>\n",
       "      <td>7968</td>\n",
       "    </tr>\n",
       "    <tr>\n",
       "      <th>97</th>\n",
       "      <td>Living Sequence</td>\n",
       "      <td>1811</td>\n",
       "      <td>E</td>\n",
       "      <td>binary search, dp, math, number theory</td>\n",
       "      <td>10175</td>\n",
       "    </tr>\n",
       "    <tr>\n",
       "      <th>98</th>\n",
       "      <td>Tea Tasting</td>\n",
       "      <td>1795</td>\n",
       "      <td>C</td>\n",
       "      <td>binary search, data structures, implementation</td>\n",
       "      <td>10150</td>\n",
       "    </tr>\n",
       "    <tr>\n",
       "      <th>99</th>\n",
       "      <td>Card Game</td>\n",
       "      <td>1739</td>\n",
       "      <td>C</td>\n",
       "      <td>combinatorics, constructive algorithms, dp, games</td>\n",
       "      <td>8146</td>\n",
       "    </tr>\n",
       "  </tbody>\n",
       "</table>\n",
       "</div>"
      ],
      "text/plain": [
       "               Problem  Contest Index  \\\n",
       "95        ABBC or BACB     1873     G   \n",
       "96  Nastya and Potions     1851     E   \n",
       "97     Living Sequence     1811     E   \n",
       "98         Tea Tasting     1795     C   \n",
       "99           Card Game     1739     C   \n",
       "\n",
       "                                                 Tags  solvedCount  \n",
       "95                    constructive algorithms, greedy         8810  \n",
       "96              dfs and similar, dp, graphs, sortings         7968  \n",
       "97             binary search, dp, math, number theory        10175  \n",
       "98     binary search, data structures, implementation        10150  \n",
       "99  combinatorics, constructive algorithms, dp, games         8146  "
      ]
     },
     "execution_count": 19,
     "metadata": {},
     "output_type": "execute_result"
    }
   ],
   "source": [
    "df.tail()"
   ]
  },
  {
   "cell_type": "code",
   "execution_count": 21,
   "metadata": {},
   "outputs": [],
   "source": [
    "df = df.sort_values(by='solvedCount', ascending=False)"
   ]
  },
  {
   "cell_type": "code",
   "execution_count": 22,
   "metadata": {},
   "outputs": [
    {
     "data": {
      "text/html": [
       "<div>\n",
       "<style scoped>\n",
       "    .dataframe tbody tr th:only-of-type {\n",
       "        vertical-align: middle;\n",
       "    }\n",
       "\n",
       "    .dataframe tbody tr th {\n",
       "        vertical-align: top;\n",
       "    }\n",
       "\n",
       "    .dataframe thead th {\n",
       "        text-align: right;\n",
       "    }\n",
       "</style>\n",
       "<table border=\"1\" class=\"dataframe\">\n",
       "  <thead>\n",
       "    <tr style=\"text-align: right;\">\n",
       "      <th></th>\n",
       "      <th>Problem</th>\n",
       "      <th>Contest</th>\n",
       "      <th>Index</th>\n",
       "      <th>Tags</th>\n",
       "      <th>solvedCount</th>\n",
       "    </tr>\n",
       "  </thead>\n",
       "  <tbody>\n",
       "    <tr>\n",
       "      <th>40</th>\n",
       "      <td>Rotation Matching</td>\n",
       "      <td>1365</td>\n",
       "      <td>C</td>\n",
       "      <td>constructive algorithms, data structures, gree...</td>\n",
       "      <td>21318</td>\n",
       "    </tr>\n",
       "    <tr>\n",
       "      <th>21</th>\n",
       "      <td>Delete Two Elements</td>\n",
       "      <td>1598</td>\n",
       "      <td>C</td>\n",
       "      <td>data structures, dp, implementation, math, two...</td>\n",
       "      <td>18689</td>\n",
       "    </tr>\n",
       "    <tr>\n",
       "      <th>3</th>\n",
       "      <td>Cardboard for Pictures</td>\n",
       "      <td>1850</td>\n",
       "      <td>E</td>\n",
       "      <td>binary search, geometry, implementation, math</td>\n",
       "      <td>17644</td>\n",
       "    </tr>\n",
       "    <tr>\n",
       "      <th>35</th>\n",
       "      <td>Binary String To Subsequences</td>\n",
       "      <td>1399</td>\n",
       "      <td>D</td>\n",
       "      <td>constructive algorithms, data structures, gree...</td>\n",
       "      <td>16929</td>\n",
       "    </tr>\n",
       "    <tr>\n",
       "      <th>37</th>\n",
       "      <td>Applejack and Storages</td>\n",
       "      <td>1393</td>\n",
       "      <td>B</td>\n",
       "      <td>constructive algorithms, data structures, gree...</td>\n",
       "      <td>15810</td>\n",
       "    </tr>\n",
       "  </tbody>\n",
       "</table>\n",
       "</div>"
      ],
      "text/plain": [
       "                          Problem  Contest Index  \\\n",
       "40              Rotation Matching     1365     C   \n",
       "21            Delete Two Elements     1598     C   \n",
       "3          Cardboard for Pictures     1850     E   \n",
       "35  Binary String To Subsequences     1399     D   \n",
       "37         Applejack and Storages     1393     B   \n",
       "\n",
       "                                                 Tags  solvedCount  \n",
       "40  constructive algorithms, data structures, gree...        21318  \n",
       "21  data structures, dp, implementation, math, two...        18689  \n",
       "3       binary search, geometry, implementation, math        17644  \n",
       "35  constructive algorithms, data structures, gree...        16929  \n",
       "37  constructive algorithms, data structures, gree...        15810  "
      ]
     },
     "execution_count": 22,
     "metadata": {},
     "output_type": "execute_result"
    }
   ],
   "source": [
    "df.head()"
   ]
  },
  {
   "cell_type": "code",
   "execution_count": 23,
   "metadata": {},
   "outputs": [],
   "source": [
    "df.to_csv('Final_database_to_upload.csv',index=False)"
   ]
  },
  {
   "cell_type": "code",
   "execution_count": 24,
   "metadata": {},
   "outputs": [
    {
     "name": "stdout",
     "output_type": "stream",
     "text": [
      "https://codeforces.com/problemset/problem/1365/C\n",
      "https://codeforces.com/problemset/problem/1598/C\n",
      "https://codeforces.com/problemset/problem/1850/E\n",
      "https://codeforces.com/problemset/problem/1399/D\n",
      "https://codeforces.com/problemset/problem/1393/B\n",
      "https://codeforces.com/problemset/problem/1857/D\n",
      "https://codeforces.com/problemset/problem/1535/C\n",
      "https://codeforces.com/problemset/problem/1451/C\n",
      "https://codeforces.com/problemset/problem/1373/D\n",
      "https://codeforces.com/problemset/problem/1419/C\n",
      "https://codeforces.com/problemset/problem/1862/D\n",
      "https://codeforces.com/problemset/problem/1706/C\n",
      "https://codeforces.com/problemset/problem/1176/C\n",
      "https://codeforces.com/problemset/problem/1844/C\n",
      "https://codeforces.com/problemset/problem/1844/C\n",
      "https://codeforces.com/problemset/problem/1732/B\n",
      "https://codeforces.com/problemset/problem/349/B\n",
      "https://codeforces.com/problemset/problem/1851/D\n",
      "https://codeforces.com/problemset/problem/1719/C\n",
      "https://codeforces.com/problemset/problem/276/D\n",
      "https://codeforces.com/problemset/problem/1845/C\n",
      "https://codeforces.com/problemset/problem/1333/C\n",
      "https://codeforces.com/problemset/problem/1537/E1\n",
      "https://codeforces.com/problemset/problem/460/B\n",
      "https://codeforces.com/problemset/problem/1864/C\n",
      "https://codeforces.com/problemset/problem/1860/C\n",
      "https://codeforces.com/problemset/problem/1626/C\n",
      "https://codeforces.com/problemset/problem/1811/E\n",
      "https://codeforces.com/problemset/problem/1795/C\n",
      "https://codeforces.com/problemset/problem/1189/C\n",
      "https://codeforces.com/problemset/problem/1355/C\n",
      "https://codeforces.com/problemset/problem/1748/C\n",
      "https://codeforces.com/problemset/problem/1858/B\n",
      "https://codeforces.com/problemset/problem/1867/C\n",
      "https://codeforces.com/problemset/problem/1478/C\n",
      "https://codeforces.com/problemset/problem/1870/C\n",
      "https://codeforces.com/problemset/problem/1051/C\n",
      "https://codeforces.com/problemset/problem/1659/C\n",
      "https://codeforces.com/problemset/problem/1873/G\n",
      "https://codeforces.com/problemset/problem/282/C\n",
      "https://codeforces.com/problemset/problem/1370/D\n",
      "https://codeforces.com/problemset/problem/678/C\n",
      "https://codeforces.com/problemset/problem/570/C\n",
      "https://codeforces.com/problemset/problem/1408/C\n",
      "https://codeforces.com/problemset/problem/1739/C\n",
      "https://codeforces.com/problemset/problem/1554/C\n",
      "https://codeforces.com/problemset/problem/548/B\n",
      "https://codeforces.com/problemset/problem/1851/E\n",
      "https://codeforces.com/problemset/problem/1038/D\n",
      "https://codeforces.com/problemset/problem/1491/C\n",
      "https://codeforces.com/problemset/problem/416/C\n",
      "https://codeforces.com/problemset/problem/1278/C\n",
      "https://codeforces.com/problemset/problem/1084/C\n",
      "https://codeforces.com/problemset/problem/581/C\n",
      "https://codeforces.com/problemset/problem/1209/C\n",
      "https://codeforces.com/problemset/problem/1043/C\n",
      "https://codeforces.com/problemset/problem/1811/D\n",
      "https://codeforces.com/problemset/problem/1185/D\n",
      "https://codeforces.com/problemset/problem/1620/C\n",
      "https://codeforces.com/problemset/problem/864/C\n",
      "https://codeforces.com/problemset/problem/858/C\n",
      "https://codeforces.com/problemset/problem/1737/C\n",
      "https://codeforces.com/problemset/problem/1062/C\n",
      "https://codeforces.com/problemset/problem/1793/D\n",
      "https://codeforces.com/problemset/problem/777/D\n",
      "https://codeforces.com/problemset/problem/1704/D\n",
      "https://codeforces.com/problemset/problem/353/C\n",
      "https://codeforces.com/problemset/problem/527/D\n",
      "https://codeforces.com/problemset/problem/1420/C2\n",
      "https://codeforces.com/problemset/problem/507/C\n",
      "https://codeforces.com/problemset/problem/724/B\n",
      "https://codeforces.com/problemset/problem/1638/D\n",
      "https://codeforces.com/problemset/problem/1716/C\n",
      "https://codeforces.com/problemset/problem/758/C\n",
      "https://codeforces.com/problemset/problem/1363/D\n",
      "https://codeforces.com/problemset/problem/746/C\n",
      "https://codeforces.com/problemset/problem/160/C\n",
      "https://codeforces.com/problemset/problem/280/C\n",
      "https://codeforces.com/problemset/problem/1419/E\n",
      "https://codeforces.com/problemset/problem/893/D\n",
      "https://codeforces.com/problemset/problem/1718/B\n",
      "https://codeforces.com/problemset/problem/1271/D\n",
      "https://codeforces.com/problemset/problem/1551/D2\n",
      "https://codeforces.com/problemset/problem/911/E\n",
      "https://codeforces.com/problemset/problem/336/C\n",
      "https://codeforces.com/problemset/problem/1396/C\n",
      "https://codeforces.com/problemset/problem/1201/D\n",
      "https://codeforces.com/problemset/problem/1358/E\n",
      "https://codeforces.com/problemset/problem/509/C\n",
      "https://codeforces.com/problemset/problem/1625/D\n",
      "https://codeforces.com/problemset/problem/1617/D2\n",
      "https://codeforces.com/problemset/problem/362/C\n",
      "https://codeforces.com/problemset/problem/285/D\n",
      "https://codeforces.com/problemset/problem/1329/C\n",
      "https://codeforces.com/problemset/problem/837/E\n",
      "https://codeforces.com/problemset/problem/615/E\n",
      "https://codeforces.com/problemset/problem/1574/E\n",
      "https://codeforces.com/problemset/problem/501/E\n",
      "https://codeforces.com/problemset/problem/1422/E\n",
      "https://codeforces.com/problemset/problem/1860/F\n"
     ]
    }
   ],
   "source": [
    "base_url = 'https://codeforces.com/problemset/problem/{Contest}/{Index}'\n",
    "\n",
    "for index, row in df.iterrows():\n",
    "    contest = row['Contest']\n",
    "    index_val = row['Index']\n",
    "    link = base_url.format(Contest=contest, Index=index_val)\n",
    "    print(link)"
   ]
  }
 ],
 "metadata": {
  "kernelspec": {
   "display_name": "Python 3",
   "language": "python",
   "name": "python3"
  },
  "language_info": {
   "codemirror_mode": {
    "name": "ipython",
    "version": 3
   },
   "file_extension": ".py",
   "mimetype": "text/x-python",
   "name": "python",
   "nbconvert_exporter": "python",
   "pygments_lexer": "ipython3",
   "version": "3.10.12"
  }
 },
 "nbformat": 4,
 "nbformat_minor": 2
}
