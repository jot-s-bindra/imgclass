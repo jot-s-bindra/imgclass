{
 "cells": [
  {
   "cell_type": "code",
   "execution_count": 2,
   "metadata": {},
   "outputs": [
    {
     "name": "stdout",
     "output_type": "stream",
     "text": [
      "agrim07 did not meet the specified criteria.\n"
     ]
    }
   ],
   "source": [
    "import requests\n",
    "\n",
    "def check_user_rating_history(handle):\n",
    "    api_url = \"https://codeforces.com/api/user.rating\"\n",
    "    params = {'handle': handle}\n",
    "    \n",
    "    response = requests.get(api_url, params=params)\n",
    "    \n",
    "    if response.status_code == 200:\n",
    "        data = response.json()\n",
    "        rating_changes = data['result']\n",
    "        \n",
    "        contests = 0\n",
    "        rating = 0\n",
    "        \n",
    "        for entry in rating_changes:\n",
    "            rating += entry['newRating']\n",
    "            contests += 1\n",
    "            if 1200 <= rating <= 1400 and 2 <= contests <= 5:\n",
    "                return True\n",
    "        \n",
    "    return False\n",
    "\n",
    "user_handle = \"agrim07\"\n",
    "if check_user_rating_history(user_handle):\n",
    "    print(f\"{user_handle} crossed 1200 to 1400 in 2 to 5 contests on Codeforces.\")\n",
    "else:\n",
    "    print(f\"{user_handle} did not meet the specified criteria.\")\n"
   ]
  },
  {
   "cell_type": "code",
   "execution_count": 3,
   "metadata": {},
   "outputs": [
    {
     "name": "stdout",
     "output_type": "stream",
     "text": [
      "No, the user did not cross 1400 rating within 2 to 5 contests.\n"
     ]
    }
   ],
   "source": [
    "import requests\n",
    "import json\n",
    "\n",
    "# Set the user's handle and the contest range\n",
    "user_handle = \"agrim07\"\n",
    "contest_range = range(2, 6)\n",
    "\n",
    "# Make a request to the Codeforces API to get the user's contest history\n",
    "response = requests.get(f\"https://codeforces.com/api/user.rating?handle={user_handle}\")\n",
    "\n",
    "# Parse the JSON response\n",
    "data = json.loads(response.content)\n",
    "\n",
    "# Initialize a variable to store the user's rating in the previous contest\n",
    "previous_rating = 1200\n",
    "\n",
    "# Iterate over the contest range\n",
    "for contest_id in contest_range:\n",
    "    # Get the user's rating in the current contest\n",
    "    current_rating = data[\"result\"][contest_id][\"newRating\"]\n",
    "\n",
    "    # Check if the user crossed 1400 rating in the current contest\n",
    "    if current_rating >= 1400 and previous_rating < 1400:\n",
    "        print(\"Yes, the user crossed 1400 rating within 2 to 5 contests.\")\n",
    "        break\n",
    "\n",
    "    # Update the user's rating for the next contest\n",
    "    previous_rating = current_rating\n",
    "\n",
    "# If the user did not cross 1400 rating within 2 to 5 contests, print a message\n",
    "if contest_id == contest_range[-1] and current_rating < 1400:\n",
    "    print(\"No, the user did not cross 1400 rating within 2 to 5 contests.\")"
   ]
  },
  {
   "cell_type": "code",
   "execution_count": 4,
   "metadata": {},
   "outputs": [
    {
     "name": "stdout",
     "output_type": "stream",
     "text": [
      "Defaulting to user installation because normal site-packages is not writeable\n",
      "Requirement already satisfied: requests in /home/outbreakkp/.local/lib/python3.10/site-packages (2.31.0)\n",
      "Requirement already satisfied: beautifulsoup4 in /usr/lib/python3/dist-packages (4.10.0)\n",
      "Requirement already satisfied: urllib3<3,>=1.21.1 in /home/outbreakkp/.local/lib/python3.10/site-packages (from requests) (2.0.6)\n",
      "Requirement already satisfied: charset-normalizer<4,>=2 in /home/outbreakkp/.local/lib/python3.10/site-packages (from requests) (3.3.0)\n",
      "Requirement already satisfied: idna<4,>=2.5 in /home/outbreakkp/.local/lib/python3.10/site-packages (from requests) (3.4)\n",
      "Requirement already satisfied: certifi>=2017.4.17 in /home/outbreakkp/.local/lib/python3.10/site-packages (from requests) (2023.7.22)\n",
      "Note: you may need to restart the kernel to use updated packages.\n"
     ]
    }
   ],
   "source": [
    "pip install requests beautifulsoup4\n"
   ]
  },
  {
   "cell_type": "code",
   "execution_count": 5,
   "metadata": {},
   "outputs": [
    {
     "name": "stdout",
     "output_type": "stream",
     "text": [
      "No rating history found for agrim07.\n"
     ]
    }
   ],
   "source": [
    "import requests\n",
    "from bs4 import BeautifulSoup\n",
    "\n",
    "# Replace with the user's Codeforces handle\n",
    "USER_HANDLE = 'agrim07'\n",
    "\n",
    "# URL for the user's rating history\n",
    "url = f'https://codeforces.com/profile/{USER_HANDLE}'\n",
    "\n",
    "# Send an HTTP GET request to the user's profile page\n",
    "response = requests.get(url)\n",
    "\n",
    "if response.status_code == 200:\n",
    "    # Parse the HTML content of the user's profile page\n",
    "    soup = BeautifulSoup(response.text, 'html.parser')\n",
    "\n",
    "    # Find the table that contains the rating history\n",
    "    rating_table = soup.find('table', class_='user-contests-table')\n",
    "\n",
    "    # Initialize variables for tracking rating changes and contest count\n",
    "    rating_changes = []\n",
    "    contest_count = 0\n",
    "\n",
    "    if rating_table:\n",
    "        rows = rating_table.find_all('tr')\n",
    "\n",
    "        # Iterate through the rows to extract rating changes\n",
    "        for row in rows[1:]:  # Skip the header row\n",
    "            columns = row.find_all('td')\n",
    "            contest_count += 1\n",
    "            rating_changes.append(int(columns[3].text))\n",
    "\n",
    "        # Check if the user crossed from 1200 to 1400 in 2 to 5 contests\n",
    "        if 1200 in rating_changes and 1400 in rating_changes:\n",
    "            rating_gap_start = rating_changes.index(1200)\n",
    "            rating_gap_end = rating_changes.index(1400)\n",
    "\n",
    "            if rating_gap_end - rating_gap_start >= 2 and rating_gap_end - rating_gap_start <= 5:\n",
    "                print(f\"{USER_HANDLE} crossed from 1200 to 1400 in {rating_gap_end - rating_gap_start} contests.\")\n",
    "            else:\n",
    "                print(f\"{USER_HANDLE} did not cross from 1200 to 1400 in 2 to 5 contests.\")\n",
    "        else:\n",
    "            print(f\"{USER_HANDLE} did not cross from 1200 to 1400 in the rating history.\")\n",
    "    else:\n",
    "        print(f\"No rating history found for {USER_HANDLE}.\")\n",
    "else:\n",
    "    print(f\"Failed to fetch data from {url}.\")\n"
   ]
  },
  {
   "cell_type": "code",
   "execution_count": 6,
   "metadata": {},
   "outputs": [
    {
     "name": "stdout",
     "output_type": "stream",
     "text": [
      "The user took 0 contests to go from 1200 to 1400.\n"
     ]
    }
   ],
   "source": [
    "import requests\n",
    "\n",
    "def get_contest_count(user_handle):\n",
    "  response = requests.get(f\"https://codeforces.com/api/user.status?handle={user_handle}&from=1200&to=1400\")\n",
    "  data = response.json()\n",
    "  contest_count = len(data[\"result\"])\n",
    "  return contest_count\n",
    "\n",
    "# Example usage:\n",
    "user_handle = \"agrim07\"\n",
    "contest_count = get_contest_count(user_handle)\n",
    "print(f\"The user took {contest_count} contests to go from 1200 to 1400.\")"
   ]
  },
  {
   "cell_type": "code",
   "execution_count": 1,
   "metadata": {},
   "outputs": [
    {
     "name": "stdout",
     "output_type": "stream",
     "text": [
      "Defaulting to user installation because normal site-packages is not writeable\n",
      "Requirement already satisfied: datetime in /home/outbreakkp/.local/lib/python3.10/site-packages (5.2)\n",
      "Requirement already satisfied: zope.interface in /home/outbreakkp/.local/lib/python3.10/site-packages (from datetime) (6.1)\n",
      "Requirement already satisfied: pytz in /home/outbreakkp/.local/lib/python3.10/site-packages (from datetime) (2023.3.post1)\n",
      "Requirement already satisfied: setuptools in /usr/lib/python3/dist-packages (from zope.interface->datetime) (59.6.0)\n",
      "Note: you may need to restart the kernel to use updated packages.\n"
     ]
    }
   ],
   "source": [
    "pip install datetime"
   ]
  },
  {
   "cell_type": "code",
   "execution_count": 2,
   "metadata": {},
   "outputs": [
    {
     "ename": "NameError",
     "evalue": "name 'timedelta' is not defined",
     "output_type": "error",
     "traceback": [
      "\u001b[0;31m---------------------------------------------------------------------------\u001b[0m",
      "\u001b[0;31mNameError\u001b[0m                                 Traceback (most recent call last)",
      "\u001b[1;32m/home/outbreakkp/Desktop/HacktoberFest/cpefolder/twotofivecontests.ipynb Cell 7\u001b[0m line \u001b[0;36m6\n\u001b[1;32m      <a href='vscode-notebook-cell:/home/outbreakkp/Desktop/HacktoberFest/cpefolder/twotofivecontests.ipynb#W5sZmlsZQ%3D%3D?line=3'>4</a>\u001b[0m \u001b[39m# Specify the user handle and the time frame\u001b[39;00m\n\u001b[1;32m      <a href='vscode-notebook-cell:/home/outbreakkp/Desktop/HacktoberFest/cpefolder/twotofivecontests.ipynb#W5sZmlsZQ%3D%3D?line=4'>5</a>\u001b[0m user_handle \u001b[39m=\u001b[39m \u001b[39m\"\u001b[39m\u001b[39magrim07\u001b[39m\u001b[39m\"\u001b[39m\n\u001b[0;32m----> <a href='vscode-notebook-cell:/home/outbreakkp/Desktop/HacktoberFest/cpefolder/twotofivecontests.ipynb#W5sZmlsZQ%3D%3D?line=5'>6</a>\u001b[0m start_date \u001b[39m=\u001b[39m datetime\u001b[39m.\u001b[39mnow() \u001b[39m-\u001b[39m timedelta(days\u001b[39m=\u001b[39m\u001b[39m40\u001b[39m)\n\u001b[1;32m      <a href='vscode-notebook-cell:/home/outbreakkp/Desktop/HacktoberFest/cpefolder/twotofivecontests.ipynb#W5sZmlsZQ%3D%3D?line=6'>7</a>\u001b[0m end_date \u001b[39m=\u001b[39m datetime\u001b[39m.\u001b[39mnow() \u001b[39m-\u001b[39m timedelta(days\u001b[39m=\u001b[39m\u001b[39m20\u001b[39m)\n\u001b[1;32m      <a href='vscode-notebook-cell:/home/outbreakkp/Desktop/HacktoberFest/cpefolder/twotofivecontests.ipynb#W5sZmlsZQ%3D%3D?line=8'>9</a>\u001b[0m \u001b[39m# Make a request to the Codeforces API to get the user's contest history\u001b[39;00m\n",
      "\u001b[0;31mNameError\u001b[0m: name 'timedelta' is not defined"
     ]
    }
   ],
   "source": [
    "import requests\n",
    "from datetime import datetime\n",
    "\n",
    "# Specify the user handle and the time frame\n",
    "user_handle = \"agrim07\"\n",
    "start_date = datetime.now() - timedelta(days=40)\n",
    "end_date = datetime.now() - timedelta(days=20)\n",
    "\n",
    "# Make a request to the Codeforces API to get the user's contest history\n",
    "url = f\"https://codeforces.com/api/user.rating?handle={user_handle}\"\n",
    "response = requests.get(url)\n",
    "data = response.json()\n",
    "\n",
    "# Filter contest ratings within the specified time frame\n",
    "filtered_ratings = [rating for rating in data['result'] if start_date <= datetime.fromtimestamp(rating['ratingUpdateTimeSeconds']) <= end_date]\n",
    "\n",
    "# Calculate the initial and final rating within the time frame\n",
    "if filtered_ratings:\n",
    "    initial_rating = filtered_ratings[0]['newRating']\n",
    "    final_rating = filtered_ratings[-1]['newRating']\n",
    "    \n",
    "    if 1200 <= (final_rating - initial_rating) <= 1400:\n",
    "        print(f\"{user_handle} crossed 1200 to 1400 rating margin within 20 to 40 days.\")\n",
    "    else:\n",
    "        print(f\"{user_handle} did not cross the specified rating margin within the specified time frame.\")\n",
    "else:\n",
    "    print(f\"No rating changes found for {user_handle} within the specified time frame.\")\n"
   ]
  },
  {
   "cell_type": "code",
   "execution_count": 3,
   "metadata": {},
   "outputs": [],
   "source": [
    "import requests\n",
    "import json\n"
   ]
  },
  {
   "cell_type": "code",
   "execution_count": 4,
   "metadata": {},
   "outputs": [],
   "source": [
    "def check_margin_gap(user_handle, start_date, end_date):\n",
    "  \"\"\"Checks if the user crossed the 1200 to 1400 margin gap within 20 to 40 days.\n",
    "\n",
    "  Args:\n",
    "    user_handle: The handle of the user.\n",
    "    start_date: The start date.\n",
    "    end_date: The end date.\n",
    "\n",
    "  Returns:\n",
    "    True if the user crossed the margin gap, False otherwise.\n",
    "  \"\"\"\n",
    "\n",
    "  # Make a request to the codeforces API to get the user's rating history.\n",
    "  response = requests.get(\n",
    "      f\"https://codeforces.com/api/user.rating?handle={user_handle}\")\n",
    "\n",
    "  # Parse the JSON response.\n",
    "  data = json.loads(response.content)\n",
    "\n",
    "  # Get the user's rating history.\n",
    "  rating_history = data[\"result\"][0][\"ratingHistory\"]\n",
    "\n",
    "  # Find the first rating above 1400.\n",
    "  first_rating_above_1400 = next(\n",
    "      rating[\"newRating\"] for rating in rating_history if rating[\"newRating\"] > 1400)\n",
    "\n",
    "  # Find the date of the first rating above 1400.\n",
    "  first_rating_above_1400_date = next(\n",
    "      rating[\"ratingUpdateTimeSeconds\"] for rating in rating_history\n",
    "      if rating[\"newRating\"] == first_rating_above_1400)\n",
    "\n",
    "  # Check if the user crossed the margin gap within 20 to 40 days.\n",
    "  return (end_date - start_date).days >= 20 and (end_date -\n",
    "                                                   start_date).days <= 40 and (\n",
    "                                                       first_rating_above_1400_date -\n",
    "                                                       start_date.timestamp()) >= 0\n"
   ]
  },
  {
   "cell_type": "code",
   "execution_count": 7,
   "metadata": {},
   "outputs": [
    {
     "name": "stdout",
     "output_type": "stream",
     "text": [
      "The user has not participated in any contests yet.\n"
     ]
    }
   ],
   "source": [
    "import datetime\n",
    "import requests\n",
    "import json\n",
    "\n",
    "user_handle = \"agrim07\"\n",
    "start_date = datetime.datetime.strptime(\"2023-10-27\", \"%Y-%m-%d\").date()\n",
    "end_date = datetime.datetime.strptime(\"2023-10-27\", \"%Y-%m-%d\").date()\n",
    "\n",
    "# Make a request to the codeforces API to get the user's rating history.\n",
    "response = requests.get(\n",
    "    f\"https://codeforces.com/api/user.rating?handle={user_handle}\")\n",
    "\n",
    "# Parse the JSON response.\n",
    "data = json.loads(response.content)\n",
    "\n",
    "# Check if the user has participated in any contests yet.\n",
    "if \"ratingHistory\" in data[\"result\"][0]:\n",
    "  # Get the user's rating history.\n",
    "  rating_history = data[\"result\"][0][\"ratingHistory\"]\n",
    "\n",
    "  # Find the first rating above 1400.\n",
    "  first_rating_above_1400 = next(\n",
    "      rating[\"newRating\"] for rating in rating_history if rating[\"newRating\"] > 1400)\n",
    "\n",
    "  # Check if the user crossed the margin gap within 20 to 40 days.\n",
    "  crossed_margin_gap = (end_date - start_date).days >= 20 and (\n",
    "      end_date - start_date).days <= 40 and (\n",
    "          first_rating_above_1400_date - start_date.timestamp()) >= 0\n",
    "\n",
    "  if crossed_margin_gap:\n",
    "    print(\"The user crossed the 1200 to 1400 margin gap within 20 to 40 days.\")\n",
    "  else:\n",
    "    print(\"The user did not cross the 1200 to 1400 margin gap within 20 to 40 days.\")\n",
    "else:\n",
    "  print(\"The user has not participated in any contests yet.\")\n",
    "\n"
   ]
  },
  {
   "cell_type": "code",
   "execution_count": 10,
   "metadata": {},
   "outputs": [
    {
     "name": "stdout",
     "output_type": "stream",
     "text": [
      "agrim07 did not cross the specified range in the specified duration.\n"
     ]
    }
   ],
   "source": [
    "import requests\n",
    "\n",
    "def get_user_rating_changes(username):\n",
    "    url = f\"https://codeforces.com/api/user.rating?handle={username}\"\n",
    "    response = requests.get(url)\n",
    "    \n",
    "    if response.status_code == 200:\n",
    "        data = response.json()\n",
    "        return data\n",
    "    else:\n",
    "        return None\n",
    "\n",
    "def check_rating_change(username, lower_bound, upper_bound, min_days, max_days):\n",
    "    rating_changes = get_user_rating_changes(username)\n",
    "    \n",
    "    if rating_changes is None or 'result' not in rating_changes or len(rating_changes['result']) == 0:\n",
    "        return False\n",
    "    \n",
    "    rating_changes = rating_changes['result']\n",
    "    \n",
    "    # Initialize variables to keep track of rating change and duration\n",
    "    rating_change = 0\n",
    "    duration = 0\n",
    "    \n",
    "    for change in rating_changes:\n",
    "        rating_change += change['newRating'] - change['oldRating']\n",
    "        duration += 1\n",
    "        \n",
    "        if duration >= min_days and duration <= max_days:\n",
    "            if rating_change >= lower_bound and rating_change <= upper_bound:\n",
    "                return True\n",
    "    \n",
    "    return False\n",
    "\n",
    "# Replace 'your_username' with the Codeforces username you want to check\n",
    "username = 'agrim07'\n",
    "lower_bound = 1200\n",
    "upper_bound = 1400\n",
    "min_days = 20\n",
    "max_days = 40\n",
    "\n",
    "if check_rating_change(username, lower_bound, upper_bound, min_days, max_days):\n",
    "    print(f\"{username} crossed the range {lower_bound} to {upper_bound} in {min_days} to {max_days} days on Codeforces.\")\n",
    "else:\n",
    "    print(f\"{username} did not cross the specified range in the specified duration.\")\n"
   ]
  },
  {
   "cell_type": "code",
   "execution_count": 11,
   "metadata": {},
   "outputs": [
    {
     "name": "stdout",
     "output_type": "stream",
     "text": [
      "agrim07 did not cross the specified range in the specified duration.\n"
     ]
    }
   ],
   "source": [
    "import requests\n",
    "\n",
    "def get_rating_changes(username):\n",
    "    url = f\"https://codeforces.com/api/user.rating?handle={username}\"\n",
    "    response = requests.get(url)\n",
    "    \n",
    "    if response.status_code == 200:\n",
    "        data = response.json()\n",
    "        return data\n",
    "    else:\n",
    "        return None\n",
    "\n",
    "def check_rating_change(username, lower_bound, upper_bound, min_days, max_days):\n",
    "    rating_changes = get_rating_changes(username)\n",
    "    \n",
    "    if rating_changes is None or 'result' not in rating_changes:\n",
    "        return False\n",
    "    \n",
    "    rating_changes = rating_changes['result']\n",
    "    \n",
    "    count = 0\n",
    "    total_days = 0\n",
    "    \n",
    "    for change in rating_changes:\n",
    "        total_days += 1\n",
    "        if change['newRating'] >= lower_bound and change['newRating'] <= upper_bound:\n",
    "            count += 1\n",
    "        else:\n",
    "            count = 0\n",
    "        \n",
    "        if count >= min_days and count <= max_days:\n",
    "            return True\n",
    "    \n",
    "    return False\n",
    "\n",
    "# Replace 'your_username' with the Codeforces username you want to check\n",
    "username = 'agrim07'\n",
    "lower_bound = 1200\n",
    "upper_bound = 1400\n",
    "min_days = 20\n",
    "max_days = 40\n",
    "\n",
    "if check_rating_change(username, lower_bound, upper_bound, min_days, max_days):\n",
    "    print(f\"{username} crossed the range {lower_bound} to {upper_bound} in {min_days} to {max_days} days on Codeforces.\")\n",
    "else:\n",
    "    print(f\"{username} did not cross the specified range in the specified duration.\")\n"
   ]
  },
  {
   "cell_type": "code",
   "execution_count": 12,
   "metadata": {},
   "outputs": [
    {
     "name": "stdout",
     "output_type": "stream",
     "text": [
      "agrim07 did not cross the specified range in the specified duration.\n"
     ]
    }
   ],
   "source": [
    "import requests\n",
    "\n",
    "def get_user_rating(username):\n",
    "    url = f\"https://codeforces.com/api/user.info?handles={username}\"\n",
    "    response = requests.get(url)\n",
    "    \n",
    "    if response.status_code == 200:\n",
    "        data = response.json()\n",
    "        if data['status'] == 'OK':\n",
    "            return data['result'][0]['rating']\n",
    "    return None\n",
    "\n",
    "def check_rating_change(username, lower_bound, upper_bound, min_days, max_days):\n",
    "    user_rating = get_user_rating(username)\n",
    "    \n",
    "    if user_rating is None:\n",
    "        return False\n",
    "    \n",
    "    url = f\"https://codeforces.com/api/user.rating?handle={username}\"\n",
    "    response = requests.get(url)\n",
    "    \n",
    "    if response.status_code == 200:\n",
    "        data = response.json()\n",
    "        if data['status'] == 'OK':\n",
    "            rating_changes = data['result']\n",
    "            \n",
    "            count = 0\n",
    "            days = 0\n",
    "            for change in rating_changes:\n",
    "                if lower_bound <= change['newRating'] <= upper_bound:\n",
    "                    count += 1\n",
    "                else:\n",
    "                    count = 0\n",
    "                days += 1\n",
    "                \n",
    "                if count >= min_days and count <= max_days and days >= min_days:\n",
    "                    return True\n",
    "    \n",
    "    return False\n",
    "\n",
    "# Replace 'your_username' with the Codeforces username you want to check\n",
    "username = 'agrim07'\n",
    "lower_bound = 1200\n",
    "upper_bound = 1400\n",
    "min_days = 20\n",
    "max_days = 40\n",
    "\n",
    "if check_rating_change(username, lower_bound, upper_bound, min_days, max_days):\n",
    "    print(f\"{username} crossed the range {lower_bound} to {upper_bound} in {min_days} to {max_days} days on Codeforces.\")\n",
    "else:\n",
    "    print(f\"{username} did not cross the specified range in the specified duration.\")\n"
   ]
  },
  {
   "cell_type": "code",
   "execution_count": 15,
   "metadata": {},
   "outputs": [
    {
     "name": "stdout",
     "output_type": "stream",
     "text": [
      "agrim07 did not cross the specified range in the specified duration.\n"
     ]
    }
   ],
   "source": [
    "import requests\n",
    "\n",
    "def check_user_rating_change(username, lower_bound, upper_bound, min_days, max_days):\n",
    "    url = f\"https://codeforces.com/api/user.rating?handle={username}\"\n",
    "    response = requests.get(url)\n",
    "    \n",
    "    if response.status_code != 200:\n",
    "        print(f\"Failed to retrieve user data for {username}. Check the username or try again later.\")\n",
    "        return\n",
    "\n",
    "    data = response.json()\n",
    "    \n",
    "    if data['status'] != 'OK':\n",
    "        print(f\"Failed to retrieve user data for {username}. Check the username or try again later.\")\n",
    "        return\n",
    "\n",
    "    rating_changes = data['result']\n",
    "    \n",
    "    rating_change_count = 0\n",
    "    current_duration = 0\n",
    "\n",
    "    for change in rating_changes:\n",
    "        if lower_bound <= change['newRating'] <= upper_bound:\n",
    "            rating_change_count += 1\n",
    "        else:\n",
    "            rating_change_count = 0\n",
    "        \n",
    "        current_duration += 1\n",
    "\n",
    "        if rating_change_count >= min_days and current_duration <= max_days:\n",
    "            print(f\"{username} crossed the range {lower_bound} to {upper_bound} in {min_days} to {max_days} days on Codeforces.\")\n",
    "            return\n",
    "\n",
    "    print(f\"{username} did not cross the specified range in the specified duration.\")\n",
    "\n",
    "# Replace 'your_username' with the Codeforces username you want to check\n",
    "username = 'agrim07'\n",
    "lower_bound = 1200\n",
    "upper_bound = 1400\n",
    "min_days = 20\n",
    "max_days = 40\n",
    "\n",
    "check_user_rating_change(username, lower_bound, upper_bound, min_days, max_days)\n"
   ]
  },
  {
   "cell_type": "code",
   "execution_count": 16,
   "metadata": {},
   "outputs": [
    {
     "name": "stdout",
     "output_type": "stream",
     "text": [
      "agrim07 took 26 days to cross the 1200 to 1400 rating margin in Codeforces.\n"
     ]
    }
   ],
   "source": [
    "import requests\n",
    "from datetime import datetime\n",
    "\n",
    "def get_codeforces_rating_history(username):\n",
    "    url = f\"https://codeforces.com/api/user.rating?handle={username}\"\n",
    "    response = requests.get(url)\n",
    "    data = response.json()\n",
    "\n",
    "    if data[\"status\"] == \"OK\":\n",
    "        return data[\"result\"]\n",
    "    else:\n",
    "        print(\"Failed to fetch rating history for the user.\")\n",
    "        return None\n",
    "\n",
    "def days_to_cross_margin(username, target_lower, target_upper):\n",
    "    rating_history = get_codeforces_rating_history(username)\n",
    "    \n",
    "    if rating_history is None:\n",
    "        return None\n",
    "\n",
    "    current_rating = None\n",
    "    start_date = None\n",
    "    end_date = None\n",
    "\n",
    "    for entry in rating_history:\n",
    "        rating = entry[\"newRating\"]\n",
    "        contest_time = entry[\"ratingUpdateTimeSeconds\"]\n",
    "        contest_date = datetime.fromtimestamp(contest_time)\n",
    "\n",
    "        if rating <= target_lower:\n",
    "            start_date = contest_date\n",
    "        elif rating >= target_upper:\n",
    "            end_date = contest_date\n",
    "            break\n",
    "\n",
    "    if start_date and end_date:\n",
    "        days_taken = (end_date - start_date).days\n",
    "        return days_taken\n",
    "    else:\n",
    "        print(f\"{username} did not cross the rating margin within the specified range.\")\n",
    "        return None\n",
    "\n",
    "if __name__ == \"__main__\":\n",
    "    username = input(\"Enter Codeforces username: \")\n",
    "    target_lower = 1200\n",
    "    target_upper = 1400\n",
    "\n",
    "    days_taken = days_to_cross_margin(username, target_lower, target_upper)\n",
    "    \n",
    "    if days_taken is not None:\n",
    "        print(f\"{username} took {days_taken} days to cross the {target_lower} to {target_upper} rating margin in Codeforces.\")\n"
   ]
  },
  {
   "cell_type": "code",
   "execution_count": 17,
   "metadata": {},
   "outputs": [
    {
     "name": "stdout",
     "output_type": "stream",
     "text": [
      "agrim07 took 26 days to cross the 1200 to 1400 rating margin in Codeforces.\n",
      "Yes\n"
     ]
    }
   ],
   "source": [
    "import requests\n",
    "from datetime import datetime\n",
    "\n",
    "def get_codeforces_rating_history(username):\n",
    "    url = f\"https://codeforces.com/api/user.rating?handle={username}\"\n",
    "    response = requests.get(url)\n",
    "    data = response.json()\n",
    "\n",
    "    if data[\"status\"] == \"OK\":\n",
    "        return data[\"result\"]\n",
    "    else:\n",
    "        print(\"Failed to fetch rating history for the user.\")\n",
    "        return None\n",
    "\n",
    "def days_to_cross_margin(username, target_lower, target_upper):\n",
    "    rating_history = get_codeforces_rating_history(username)\n",
    "    \n",
    "    if rating_history is None:\n",
    "        return None\n",
    "\n",
    "    current_rating = None\n",
    "    start_date = None\n",
    "    end_date = None\n",
    "\n",
    "    for entry in rating_history:\n",
    "        rating = entry[\"newRating\"]\n",
    "        contest_time = entry[\"ratingUpdateTimeSeconds\"]\n",
    "        contest_date = datetime.fromtimestamp(contest_time)\n",
    "\n",
    "        if rating <= target_lower:\n",
    "            start_date = contest_date\n",
    "        elif rating >= target_upper:\n",
    "            end_date = contest_date\n",
    "            break\n",
    "\n",
    "    if start_date and end_date:\n",
    "        days_taken = (end_date - start_date).days\n",
    "        return days_taken\n",
    "    else:\n",
    "        print(f\"{username} did not cross the rating margin within the specified range.\")\n",
    "        return None\n",
    "\n",
    "if __name__ == \"__main__\":\n",
    "    username = input(\"Enter Codeforces username: \")\n",
    "    target_lower = 1200\n",
    "    target_upper = 1400\n",
    "\n",
    "    days_taken = days_to_cross_margin(username, target_lower, target_upper)\n",
    "    \n",
    "    if days_taken is not None:\n",
    "        print(f\"{username} took {days_taken} days to cross the {target_lower} to {target_upper} rating margin in Codeforces.\")\n",
    "        if 20 <= days_taken <= 40:\n",
    "            print(\"Yes\")\n",
    "        else:\n",
    "            print(\"No\")\n"
   ]
  },
  {
   "cell_type": "code",
   "execution_count": null,
   "metadata": {},
   "outputs": [],
   "source": []
  }
 ],
 "metadata": {
  "kernelspec": {
   "display_name": "Python 3",
   "language": "python",
   "name": "python3"
  },
  "language_info": {
   "codemirror_mode": {
    "name": "ipython",
    "version": 3
   },
   "file_extension": ".py",
   "mimetype": "text/x-python",
   "name": "python",
   "nbconvert_exporter": "python",
   "pygments_lexer": "ipython3",
   "version": "3.10.12"
  }
 },
 "nbformat": 4,
 "nbformat_minor": 2
}
