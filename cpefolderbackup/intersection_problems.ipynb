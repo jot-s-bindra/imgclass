{
 "cells": [
  {
   "cell_type": "code",
   "execution_count": 17,
   "metadata": {},
   "outputs": [],
   "source": [
    "import pandas as pd\n",
    "import numpy as np"
   ]
  },
  {
   "cell_type": "code",
   "execution_count": 18,
   "metadata": {},
   "outputs": [],
   "source": [
    "df=pd.read_csv('combined_qns_solved.csv')"
   ]
  },
  {
   "cell_type": "code",
   "execution_count": 19,
   "metadata": {},
   "outputs": [
    {
     "data": {
      "text/html": [
       "<div>\n",
       "<style scoped>\n",
       "    .dataframe tbody tr th:only-of-type {\n",
       "        vertical-align: middle;\n",
       "    }\n",
       "\n",
       "    .dataframe tbody tr th {\n",
       "        vertical-align: top;\n",
       "    }\n",
       "\n",
       "    .dataframe thead th {\n",
       "        text-align: right;\n",
       "    }\n",
       "</style>\n",
       "<table border=\"1\" class=\"dataframe\">\n",
       "  <thead>\n",
       "    <tr style=\"text-align: right;\">\n",
       "      <th></th>\n",
       "      <th>Handle</th>\n",
       "      <th>Max Rating_x</th>\n",
       "      <th>Result</th>\n",
       "      <th>Solved Problems</th>\n",
       "      <th>Problem Count</th>\n",
       "    </tr>\n",
       "  </thead>\n",
       "  <tbody>\n",
       "    <tr>\n",
       "      <th>0</th>\n",
       "      <td>Sahil_32</td>\n",
       "      <td>1535.0</td>\n",
       "      <td>Yes</td>\n",
       "      <td>{(1742, 'F'), (1873, 'F'), (1736, 'C1'), (1675...</td>\n",
       "      <td>8</td>\n",
       "    </tr>\n",
       "    <tr>\n",
       "      <th>1</th>\n",
       "      <td>fightMaster001</td>\n",
       "      <td>1535.0</td>\n",
       "      <td>Yes</td>\n",
       "      <td>{(1805, 'C'), (1790, 'E'), (1860, 'C'), (1846,...</td>\n",
       "      <td>6</td>\n",
       "    </tr>\n",
       "    <tr>\n",
       "      <th>2</th>\n",
       "      <td>pt_dtu</td>\n",
       "      <td>1587.0</td>\n",
       "      <td>Yes</td>\n",
       "      <td>{(1851, 'D'), (1844, 'C'), (1825, 'C'), (1829,...</td>\n",
       "      <td>15</td>\n",
       "    </tr>\n",
       "    <tr>\n",
       "      <th>3</th>\n",
       "      <td>not_just_rr</td>\n",
       "      <td>1623.0</td>\n",
       "      <td>Yes</td>\n",
       "      <td>{(1400, 'C'), (1761, 'C'), (507, 'B'), (617, '...</td>\n",
       "      <td>198</td>\n",
       "    </tr>\n",
       "    <tr>\n",
       "      <th>4</th>\n",
       "      <td>Daoortor</td>\n",
       "      <td>1532.0</td>\n",
       "      <td>Yes</td>\n",
       "      <td>{(1879, 'C'), (1367, 'C')}</td>\n",
       "      <td>2</td>\n",
       "    </tr>\n",
       "  </tbody>\n",
       "</table>\n",
       "</div>"
      ],
      "text/plain": [
       "           Handle  Max Rating_x Result  \\\n",
       "0        Sahil_32        1535.0    Yes   \n",
       "1  fightMaster001        1535.0    Yes   \n",
       "2          pt_dtu        1587.0    Yes   \n",
       "3     not_just_rr        1623.0    Yes   \n",
       "4        Daoortor        1532.0    Yes   \n",
       "\n",
       "                                     Solved Problems  Problem Count  \n",
       "0  {(1742, 'F'), (1873, 'F'), (1736, 'C1'), (1675...              8  \n",
       "1  {(1805, 'C'), (1790, 'E'), (1860, 'C'), (1846,...              6  \n",
       "2  {(1851, 'D'), (1844, 'C'), (1825, 'C'), (1829,...             15  \n",
       "3  {(1400, 'C'), (1761, 'C'), (507, 'B'), (617, '...            198  \n",
       "4                         {(1879, 'C'), (1367, 'C')}              2  "
      ]
     },
     "execution_count": 19,
     "metadata": {},
     "output_type": "execute_result"
    }
   ],
   "source": [
    "df.head()"
   ]
  },
  {
   "cell_type": "code",
   "execution_count": 20,
   "metadata": {},
   "outputs": [
    {
     "data": {
      "text/plain": [
       "1338"
      ]
     },
     "execution_count": 20,
     "metadata": {},
     "output_type": "execute_result"
    }
   ],
   "source": [
    "df.shape[0]"
   ]
  },
  {
   "cell_type": "code",
   "execution_count": 21,
   "metadata": {},
   "outputs": [],
   "source": [
    "df= df[df[\"Problem Count\"] != 0]\n"
   ]
  },
  {
   "cell_type": "code",
   "execution_count": null,
   "metadata": {},
   "outputs": [],
   "source": [
    "df.shape[0]"
   ]
  },
  {
   "cell_type": "code",
   "execution_count": null,
   "metadata": {},
   "outputs": [],
   "source": [
    "pip install matplotlib"
   ]
  },
  {
   "cell_type": "code",
   "execution_count": null,
   "metadata": {},
   "outputs": [],
   "source": [
    "import matplotlib.pyplot as plt\n",
    "problem_count_counts = df[\"Problem Count\"].value_counts().sort_index()\n",
    "\n",
    "problem_count_counts.plot(kind='bar', figsize=(10, 6))\n",
    "plt.title(\"Variation in Problem Count\")\n",
    "plt.xlabel(\"Problem Count\")\n",
    "plt.ylabel(\"Frequency\")\n",
    "plt.show()"
   ]
  },
  {
   "cell_type": "code",
   "execution_count": 22,
   "metadata": {},
   "outputs": [
    {
     "name": "stdout",
     "output_type": "stream",
     "text": [
      "Problem (1879, 'C') has been solved 617 times.\n",
      "Problem (1870, 'C') has been solved 584 times.\n",
      "Problem (1864, 'C') has been solved 570 times.\n",
      "Problem (1867, 'C') has been solved 569 times.\n",
      "Problem (1860, 'C') has been solved 560 times.\n",
      "Problem (1862, 'D') has been solved 559 times.\n",
      "Problem (1857, 'D') has been solved 557 times.\n",
      "Problem (1844, 'C') has been solved 519 times.\n",
      "Problem (1858, 'B') has been solved 516 times.\n",
      "Problem (1845, 'C') has been solved 509 times.\n"
     ]
    }
   ],
   "source": [
    "import ast\n",
    "from collections import Counter\n",
    "\n",
    "\n",
    "df['Solved Problems'] = df['Solved Problems'].apply(lambda x: ast.literal_eval(x))\n",
    "\n",
    "solved_problems = [problem for problems_list in df['Solved Problems'] for problem in problems_list]\n",
    "\n",
    "problem_counts = Counter(solved_problems)\n",
    "\n",
    "top_10_common_problems = problem_counts.most_common(10)\n",
    "\n",
    "for problem, count in top_10_common_problems:\n",
    "    print(f\"Problem {problem} has been solved {count} times.\")\n"
   ]
  },
  {
   "cell_type": "code",
   "execution_count": null,
   "metadata": {},
   "outputs": [],
   "source": []
  }
 ],
 "metadata": {
  "kernelspec": {
   "display_name": "Python 3",
   "language": "python",
   "name": "python3"
  },
  "language_info": {
   "codemirror_mode": {
    "name": "ipython",
    "version": 3
   },
   "file_extension": ".py",
   "mimetype": "text/x-python",
   "name": "python",
   "nbconvert_exporter": "python",
   "pygments_lexer": "ipython3",
   "version": "3.10.12"
  }
 },
 "nbformat": 4,
 "nbformat_minor": 2
}
